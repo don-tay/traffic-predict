{
 "cells": [
  {
   "cell_type": "markdown",
   "id": "0a4ced43",
   "metadata": {},
   "source": [
    "# 1. Import Libraries"
   ]
  },
  {
   "cell_type": "code",
   "execution_count": 41,
   "id": "c7cbda72",
   "metadata": {},
   "outputs": [],
   "source": [
    "from get_files_dynamic import get_super_table\n",
    "import pandas as pd\n",
    "import numpy as np \n",
    "from sklearn.model_selection import train_test_split\n",
    "from sklearn.linear_model import LogisticRegression\n",
    "from sklearn.tree import DecisionTreeClassifier\n",
    "from sklearn.tree import plot_tree\n",
    "import matplotlib.pyplot as plt\n",
    "from sklearn.metrics import confusion_matrix, ConfusionMatrixDisplay\n",
    "from sklearn.neighbors import KNeighborsClassifier\n",
    "from sklearn.neural_network import MLPClassifier\n",
    "from sklearn.ensemble import RandomForestClassifier\n",
    "import time"
   ]
  },
  {
   "cell_type": "markdown",
   "id": "b5e3d2f2",
   "metadata": {},
   "source": [
    "# 2. Goal of Phase 1 \n",
    "\n",
    "There is a slight change of plans. Instead of breaking up phases 1 and 3, I will do them together.   \n",
    "So the goal is to make a few models. See how long they take to process the data / train the model and make predictions.  \n",
    "For all cases we will tune the model to its best accuracy possible - using as much varaibles as possible   \n",
    "Then after that we will train XX models - one for each camera  \n",
    "To test the speed, we will do   \n",
    "1. single query one model \n",
    "2. multiple query one model \n",
    "3. single query multiple camera \n",
    "4. multiple query multiple camera \n",
    "\n",
    "This will be done for the single model as well as the multiple model  \n",
    "That way we can see the time taken for each  \n",
    "\n",
    "The difference between single and multiple query can be like single is one by one input into the model.  \n",
    "Multiple can be pass in all at one go \n",
    "\n",
    "For the first attempt, i gonna focus on the decision tree since it is the fastest to train so far and is giving good accuracy. Then from there we'll see how to extend to the rest \n",
    "\n",
    "Technically can make the single model also have the camera id - but then will be like a bit of overlap with the multiple model idea. But nothing wrong with having it in, depends on the direction we want to take. "
   ]
  },
  {
   "cell_type": "markdown",
   "id": "ece551d4",
   "metadata": {},
   "source": [
    "# 3. Get Dataset \n",
    "\n",
    "There are congestion with NaN - technically can try fix but will be time consuming cos need figure out dynamically things.  \n",
    "Also did the automated pull stop or something? "
   ]
  },
  {
   "cell_type": "code",
   "execution_count": 124,
   "id": "c60aee30",
   "metadata": {},
   "outputs": [],
   "source": [
    "df = get_super_table()"
   ]
  },
  {
   "cell_type": "code",
   "execution_count": 126,
   "id": "57f5b948",
   "metadata": {
    "scrolled": true
   },
   "outputs": [
    {
     "data": {
      "text/html": [
       "<div>\n",
       "<style scoped>\n",
       "    .dataframe tbody tr th:only-of-type {\n",
       "        vertical-align: middle;\n",
       "    }\n",
       "\n",
       "    .dataframe tbody tr th {\n",
       "        vertical-align: top;\n",
       "    }\n",
       "\n",
       "    .dataframe thead th {\n",
       "        text-align: right;\n",
       "    }\n",
       "</style>\n",
       "<table border=\"1\" class=\"dataframe\">\n",
       "  <thead>\n",
       "    <tr style=\"text-align: right;\">\n",
       "      <th></th>\n",
       "      <th>call_timestamp</th>\n",
       "      <th>cam_id</th>\n",
       "      <th>non_rainfall_station_id</th>\n",
       "      <th>rainfall_station_id</th>\n",
       "      <th>2hr_forecast_area</th>\n",
       "      <th>compass</th>\n",
       "      <th>direction</th>\n",
       "      <th>rainfall_realtime</th>\n",
       "      <th>wind_speed_realtime</th>\n",
       "      <th>wind_dir_realtime</th>\n",
       "      <th>...</th>\n",
       "      <th>24hr_period_1_start</th>\n",
       "      <th>24hr_period_1_end</th>\n",
       "      <th>24hr_period_1</th>\n",
       "      <th>24hr_period_2_start</th>\n",
       "      <th>24hr_period_2_end</th>\n",
       "      <th>24hr_period_2</th>\n",
       "      <th>24hr_period_3_start</th>\n",
       "      <th>24hr_period_3_end</th>\n",
       "      <th>24hr_period_3</th>\n",
       "      <th>trafficCongestion</th>\n",
       "    </tr>\n",
       "  </thead>\n",
       "  <tbody>\n",
       "    <tr>\n",
       "      <th>0</th>\n",
       "      <td>2022-04-12T130408</td>\n",
       "      <td>1001</td>\n",
       "      <td>S107</td>\n",
       "      <td>S119</td>\n",
       "      <td>Kallang</td>\n",
       "      <td>south</td>\n",
       "      <td>1</td>\n",
       "      <td>0.0</td>\n",
       "      <td>4.0</td>\n",
       "      <td>141.0</td>\n",
       "      <td>...</td>\n",
       "      <td>2022-04-12T000000</td>\n",
       "      <td>2022-04-12T060000</td>\n",
       "      <td>Partly Cloudy (Night)</td>\n",
       "      <td>2022-04-12T060000</td>\n",
       "      <td>2022-04-12T120000</td>\n",
       "      <td>Cloudy</td>\n",
       "      <td>2022-04-12T120000</td>\n",
       "      <td>2022-04-12T180000</td>\n",
       "      <td>Cloudy</td>\n",
       "      <td>NaN</td>\n",
       "    </tr>\n",
       "    <tr>\n",
       "      <th>1</th>\n",
       "      <td>2022-04-12T130408</td>\n",
       "      <td>1001</td>\n",
       "      <td>S107</td>\n",
       "      <td>S119</td>\n",
       "      <td>Kallang</td>\n",
       "      <td>south</td>\n",
       "      <td>2</td>\n",
       "      <td>0.0</td>\n",
       "      <td>4.0</td>\n",
       "      <td>141.0</td>\n",
       "      <td>...</td>\n",
       "      <td>2022-04-12T000000</td>\n",
       "      <td>2022-04-12T060000</td>\n",
       "      <td>Partly Cloudy (Night)</td>\n",
       "      <td>2022-04-12T060000</td>\n",
       "      <td>2022-04-12T120000</td>\n",
       "      <td>Cloudy</td>\n",
       "      <td>2022-04-12T120000</td>\n",
       "      <td>2022-04-12T180000</td>\n",
       "      <td>Cloudy</td>\n",
       "      <td>NaN</td>\n",
       "    </tr>\n",
       "    <tr>\n",
       "      <th>2</th>\n",
       "      <td>2022-04-12T130408</td>\n",
       "      <td>1501</td>\n",
       "      <td>S107</td>\n",
       "      <td>S108</td>\n",
       "      <td>City</td>\n",
       "      <td>south</td>\n",
       "      <td>1</td>\n",
       "      <td>0.0</td>\n",
       "      <td>4.0</td>\n",
       "      <td>141.0</td>\n",
       "      <td>...</td>\n",
       "      <td>2022-04-12T000000</td>\n",
       "      <td>2022-04-12T060000</td>\n",
       "      <td>Partly Cloudy (Night)</td>\n",
       "      <td>2022-04-12T060000</td>\n",
       "      <td>2022-04-12T120000</td>\n",
       "      <td>Cloudy</td>\n",
       "      <td>2022-04-12T120000</td>\n",
       "      <td>2022-04-12T180000</td>\n",
       "      <td>Cloudy</td>\n",
       "      <td>NaN</td>\n",
       "    </tr>\n",
       "    <tr>\n",
       "      <th>3</th>\n",
       "      <td>2022-04-12T130408</td>\n",
       "      <td>1502</td>\n",
       "      <td>S107</td>\n",
       "      <td>S108</td>\n",
       "      <td>City</td>\n",
       "      <td>south</td>\n",
       "      <td>1</td>\n",
       "      <td>0.0</td>\n",
       "      <td>4.0</td>\n",
       "      <td>141.0</td>\n",
       "      <td>...</td>\n",
       "      <td>2022-04-12T000000</td>\n",
       "      <td>2022-04-12T060000</td>\n",
       "      <td>Partly Cloudy (Night)</td>\n",
       "      <td>2022-04-12T060000</td>\n",
       "      <td>2022-04-12T120000</td>\n",
       "      <td>Cloudy</td>\n",
       "      <td>2022-04-12T120000</td>\n",
       "      <td>2022-04-12T180000</td>\n",
       "      <td>Cloudy</td>\n",
       "      <td>NaN</td>\n",
       "    </tr>\n",
       "    <tr>\n",
       "      <th>4</th>\n",
       "      <td>2022-04-12T130408</td>\n",
       "      <td>1503</td>\n",
       "      <td>S107</td>\n",
       "      <td>S108</td>\n",
       "      <td>City</td>\n",
       "      <td>south</td>\n",
       "      <td>1</td>\n",
       "      <td>0.0</td>\n",
       "      <td>4.0</td>\n",
       "      <td>141.0</td>\n",
       "      <td>...</td>\n",
       "      <td>2022-04-12T000000</td>\n",
       "      <td>2022-04-12T060000</td>\n",
       "      <td>Partly Cloudy (Night)</td>\n",
       "      <td>2022-04-12T060000</td>\n",
       "      <td>2022-04-12T120000</td>\n",
       "      <td>Cloudy</td>\n",
       "      <td>2022-04-12T120000</td>\n",
       "      <td>2022-04-12T180000</td>\n",
       "      <td>Cloudy</td>\n",
       "      <td>NaN</td>\n",
       "    </tr>\n",
       "  </tbody>\n",
       "</table>\n",
       "<p>5 rows × 65 columns</p>\n",
       "</div>"
      ],
      "text/plain": [
       "      call_timestamp  cam_id non_rainfall_station_id rainfall_station_id  \\\n",
       "0  2022-04-12T130408    1001                    S107                S119   \n",
       "1  2022-04-12T130408    1001                    S107                S119   \n",
       "2  2022-04-12T130408    1501                    S107                S108   \n",
       "3  2022-04-12T130408    1502                    S107                S108   \n",
       "4  2022-04-12T130408    1503                    S107                S108   \n",
       "\n",
       "  2hr_forecast_area compass  direction  rainfall_realtime  \\\n",
       "0           Kallang   south          1                0.0   \n",
       "1           Kallang   south          2                0.0   \n",
       "2              City   south          1                0.0   \n",
       "3              City   south          1                0.0   \n",
       "4              City   south          1                0.0   \n",
       "\n",
       "   wind_speed_realtime  wind_dir_realtime  ...  24hr_period_1_start  \\\n",
       "0                  4.0              141.0  ...    2022-04-12T000000   \n",
       "1                  4.0              141.0  ...    2022-04-12T000000   \n",
       "2                  4.0              141.0  ...    2022-04-12T000000   \n",
       "3                  4.0              141.0  ...    2022-04-12T000000   \n",
       "4                  4.0              141.0  ...    2022-04-12T000000   \n",
       "\n",
       "   24hr_period_1_end          24hr_period_1 24hr_period_2_start  \\\n",
       "0  2022-04-12T060000  Partly Cloudy (Night)   2022-04-12T060000   \n",
       "1  2022-04-12T060000  Partly Cloudy (Night)   2022-04-12T060000   \n",
       "2  2022-04-12T060000  Partly Cloudy (Night)   2022-04-12T060000   \n",
       "3  2022-04-12T060000  Partly Cloudy (Night)   2022-04-12T060000   \n",
       "4  2022-04-12T060000  Partly Cloudy (Night)   2022-04-12T060000   \n",
       "\n",
       "   24hr_period_2_end 24hr_period_2 24hr_period_3_start  24hr_period_3_end  \\\n",
       "0  2022-04-12T120000        Cloudy   2022-04-12T120000  2022-04-12T180000   \n",
       "1  2022-04-12T120000        Cloudy   2022-04-12T120000  2022-04-12T180000   \n",
       "2  2022-04-12T120000        Cloudy   2022-04-12T120000  2022-04-12T180000   \n",
       "3  2022-04-12T120000        Cloudy   2022-04-12T120000  2022-04-12T180000   \n",
       "4  2022-04-12T120000        Cloudy   2022-04-12T120000  2022-04-12T180000   \n",
       "\n",
       "   24hr_period_3  trafficCongestion  \n",
       "0         Cloudy                NaN  \n",
       "1         Cloudy                NaN  \n",
       "2         Cloudy                NaN  \n",
       "3         Cloudy                NaN  \n",
       "4         Cloudy                NaN  \n",
       "\n",
       "[5 rows x 65 columns]"
      ]
     },
     "execution_count": 126,
     "metadata": {},
     "output_type": "execute_result"
    }
   ],
   "source": [
    "df.head()"
   ]
  },
  {
   "cell_type": "code",
   "execution_count": 122,
   "id": "badba79c",
   "metadata": {},
   "outputs": [
    {
     "data": {
      "text/plain": [
       "array([nan, 'None', 'Medium', 'Mild', 'Heavy'], dtype=object)"
      ]
     },
     "execution_count": 122,
     "metadata": {},
     "output_type": "execute_result"
    }
   ],
   "source": [
    "df.trafficCongestion.unique()"
   ]
  },
  {
   "cell_type": "markdown",
   "id": "dbd48ccd",
   "metadata": {},
   "source": [
    "## 2.1 Transformations\n",
    "\n",
    "Note that i still kept the station/area identifiers.  \n",
    "Should probably drop them but i think will drop later manually when needed "
   ]
  },
  {
   "cell_type": "code",
   "execution_count": 44,
   "id": "92db7814",
   "metadata": {},
   "outputs": [],
   "source": [
    "# May just end up dropping since too much effort to convert and very little values \n",
    "df.call_timestamp = pd.to_datetime(df.call_timestamp)\n",
    "df[\"24hr_start\"] = pd.to_datetime(df[\"24hr_start\"])\n",
    "df[\"24hr_end\"] = pd.to_datetime(df[\"24hr_end\"])\n",
    "df[\"24hr_period_1_start\"] = pd.to_datetime(df[\"24hr_period_1_start\"])\n",
    "df[\"24hr_period_1_end\"] = pd.to_datetime(df[\"24hr_period_1_end\"])\n",
    "df[\"24hr_period_2_start\"] = pd.to_datetime(df[\"24hr_period_2_start\"])\n",
    "df[\"24hr_period_2_end\"] = pd.to_datetime(df[\"24hr_period_2_end\"])\n",
    "df[\"24hr_period_3_start\"] = pd.to_datetime(df[\"24hr_period_3_start\"])\n",
    "df[\"24hr_period_3_end\"] = pd.to_datetime(df[\"24hr_period_3_end\"])\n",
    "\n",
    "# Make dummy values\n",
    "dummy_df = pd.get_dummies(df.drop([\"trafficCongestion\", \"rainfall_station_id\", \"non_rainfall_station_id\",\n",
    "                                 \"2hr_forecast_area\", \"compass\"], axis = 1))\n",
    "df_keep = df[[\"trafficCongestion\", \"rainfall_station_id\", \"non_rainfall_station_id\", \"2hr_forecast_area\", \"compass\"]]\n",
    "\n",
    "# reform with dropped values \n",
    "dummy_df = pd.merge(dummy_df, df_keep, left_index=True, right_index=True)"
   ]
  },
  {
   "cell_type": "code",
   "execution_count": 45,
   "id": "a2a91993",
   "metadata": {},
   "outputs": [],
   "source": [
    "numeric_df = df[[\"rainfall_realtime\", \"wind_speed_realtime\", \"wind_dir_realtime\", 'humidity_realtime', 'air_temp_realtime', \n",
    "           '4day_temperature_low_1', '4day_temperature_low_2', '4day_temperature_low_3', '4day_temperature_low_4',\n",
    "           '4day_temperature_high_1', '4day_temperature_high_2', '4day_temperature_high_3', '4day_temperature_high_4',\n",
    "           '4day_relative_humidity_low_1', '4day_relative_humidity_low_2','4day_relative_humidity_low_3',\n",
    "           '4day_relative_humidity_low_4', '4day_relative_humidity_high_1', '4day_relative_humidity_high_2',\n",
    "           '4day_relative_humidity_high_3', '4day_relative_humidity_high_4','4day_wind_speed_low_1',\n",
    "           '4day_wind_speed_low_2', '4day_wind_speed_low_3', '4day_wind_speed_low_4','4day_wind_speed_high_1',\n",
    "           '4day_wind_speed_high_2','4day_wind_speed_high_3', '4day_wind_speed_high_4', \n",
    "           '24hr_general_relative_humidity_low','24hr_general_relative_humidity_high', '24hr_general_temperature_low',\n",
    "           '24hr_general_temperature_high', '24hr_general_wind_speed_low', '24hr_general_wind_speed_high', \n",
    "           \"trafficCongestion\", \n",
    "          \"cam_id\", \"direction\", \"rainfall_station_id\", \"non_rainfall_station_id\", \"2hr_forecast_area\", \"compass\"]]"
   ]
  },
  {
   "cell_type": "code",
   "execution_count": 46,
   "id": "422f6775",
   "metadata": {
    "scrolled": false
   },
   "outputs": [],
   "source": [
    "drop_identifiers = [\"rainfall_station_id\", \"non_rainfall_station_id\", \"2hr_forecast_area\", \"compass\"]\n",
    "drop_camera = [\"cam_id\", \"direction\"]\n",
    "drop_time = [\"call_timestamp\", \"24hr_start\", \"24hr_end\", \"24hr_period_1_start\", \"24hr_period_1_end\",\n",
    "            \"24hr_period_2_start\", \"24hr_period_2_end\", \"24hr_period_3_start\", \"24hr_period_3_end\"]"
   ]
  },
  {
   "cell_type": "markdown",
   "id": "ca8eabf0",
   "metadata": {},
   "source": [
    "## 2.2 Splitting the Dataset \n",
    "\n",
    "As with any model training, we will split the dataset into three portions. The first will be the training dataset using which the models will be trained upon. Next will the validation dataset which is used to help measure the performance and any tuning parameters if present. Finally, there is the test dataset. This dataset will be the unseen data that is not used at all until the final stage when determining a model. "
   ]
  },
  {
   "cell_type": "code",
   "execution_count": 47,
   "id": "801b0d71",
   "metadata": {},
   "outputs": [],
   "source": [
    "def get_dummy_data(remove_camera = True, validation_set = True, remove_time = True):\n",
    "    df = dummy_df.drop(drop_identifiers, axis = 1)\n",
    "    \n",
    "    if remove_camera:\n",
    "        df = df.drop(drop_camera, axis = 1)\n",
    "    \n",
    "    if remove_time:\n",
    "        df = df.drop(drop_time, axis = 1)\n",
    "    \n",
    "    df = df.dropna()\n",
    "    \n",
    "    X = df.drop(\"trafficCongestion\", axis = 1)\n",
    "    Y = df.trafficCongestion.to_numpy()\n",
    "    \n",
    "    X_train, X_test, y_train, y_test = train_test_split(X, Y, test_size=0.25, random_state=42)\n",
    "    \n",
    "    if validation_set:\n",
    "        X_train, X_valid, y_train, y_valid = train_test_split(X_train, y_train, test_size=0.25, random_state=42)\n",
    "        return X_train, X_valid, X_test, y_train, y_valid, y_test\n",
    "    \n",
    "    return X_train, X_test, y_train, y_test"
   ]
  },
  {
   "cell_type": "code",
   "execution_count": 48,
   "id": "79911e8e",
   "metadata": {},
   "outputs": [],
   "source": [
    "def get_numeric_data(remove_camera = True, validation_set = True):\n",
    "    df = numeric_df.drop(drop_identifiers, axis = 1)\n",
    "    \n",
    "    if remove_camera:\n",
    "        df = df.drop(drop_camera, axis = 1)\n",
    "    \n",
    "    df = df.dropna()\n",
    "    \n",
    "    X = df.drop(\"trafficCongestion\", axis = 1)\n",
    "    Y = df.trafficCongestion.to_numpy()\n",
    "    \n",
    "    X_train, X_test, y_train, y_test = train_test_split(X, Y, test_size=0.25, random_state=42)\n",
    "    \n",
    "    if validation_set:\n",
    "        X_train, X_valid, y_train, y_valid = train_test_split(X_train, y_train, test_size=0.25, random_state=42)\n",
    "        return X_train, X_valid, X_test, y_train, y_valid, y_test\n",
    "    \n",
    "    return X_train, X_test, y_train, y_test"
   ]
  },
  {
   "cell_type": "markdown",
   "id": "d6c68d37",
   "metadata": {},
   "source": [
    "# 3. Helper Functions"
   ]
  },
  {
   "cell_type": "code",
   "execution_count": 49,
   "id": "d8855b48",
   "metadata": {},
   "outputs": [],
   "source": [
    "def plot_confusion(predicted, actual):\n",
    "    cm = confusion_matrix(actual, predicted)\n",
    "    cmd = ConfusionMatrixDisplay(cm)\n",
    "    cmd.plot(colorbar= False, cmap = \"binary\")\n",
    "    \n",
    "def get_confusion(predicted, actual):\n",
    "    cm = confusion_matrix(actual, predicted)\n",
    "    return pd.DataFrame(cm)\n",
    "\n",
    "def get_accuracy(predicted, actual):\n",
    "    return np.mean(predicted == actual)"
   ]
  },
  {
   "cell_type": "code",
   "execution_count": 50,
   "id": "ff9ffb19",
   "metadata": {},
   "outputs": [],
   "source": [
    "# List of all camera ids \n",
    "all_camera = df.cam_id.unique()"
   ]
  },
  {
   "cell_type": "code",
   "execution_count": 51,
   "id": "a40cef6c",
   "metadata": {},
   "outputs": [],
   "source": [
    "def single_model_single_query(model, x_val, y_val, to_print = True):\n",
    "    acc = []\n",
    "    start_time = time.perf_counter()\n",
    "    for i in range(len(x_val)):\n",
    "        accuracy = get_accuracy(y_val[i], model.predict(x_val.iloc[i:i+1,:]))\n",
    "        acc.append(accuracy)\n",
    "    end_time = time.perf_counter()\n",
    "    if to_print:\n",
    "        print(f\"The accuracy is: {np.mean(acc)}\")\n",
    "        print(f\"The time taken to predict is {end_time - start_time:0.4f} seconds\")\n",
    "    return np.mean(acc)\n",
    "    \n",
    "def single_model_multiple_query(model, x_val, y_val, to_print = True):\n",
    "    start_time = time.perf_counter()\n",
    "    accuracy = get_accuracy(y_val, model.predict(x_val))\n",
    "    end_time = time.perf_counter()\n",
    "    if to_print:\n",
    "        print(f\"The accuracy is: {accuracy}\")\n",
    "        print(f\"The time taken to predict is {end_time - start_time:0.4f} seconds\")\n",
    "    return accuracy\n",
    "    \n",
    "def multiple_model_single_query(model_dict, x_val, y_val, to_print = True):\n",
    "    start_time = time.perf_counter()\n",
    "    acc = []\n",
    "    for cam in all_camera:\n",
    "        acc_inner = []\n",
    "        index = x_val.cam_id == cam\n",
    "        y_test = y_val[index]\n",
    "        x_test = x_val[index]\n",
    "        for i in range(sum(index)):\n",
    "            accuracy = get_accuracy(y_test[i], model_dict[cam].predict(x_test.iloc[i:i+1,:]))\n",
    "            acc_inner.append(accuracy)\n",
    "        acc.append(np.mean(acc_inner))\n",
    "    end_time = time.perf_counter()\n",
    "    if to_print:\n",
    "        print(f\"The average accuracy is: {np.mean(acc)}\")\n",
    "        print(f\"The total time taken to predict is {end_time - start_time:0.4f} seconds\")\n",
    "    return np.mean(acc)\n",
    "    \n",
    "def multiple_model_multiple_query(model_dict, x_val, y_val, to_print = True):\n",
    "    start_time = time.perf_counter()\n",
    "    acc = []\n",
    "    for cam in all_camera:\n",
    "        index = x_val.cam_id == cam\n",
    "        accuracy = get_accuracy(y_val[index], model_dict[cam].predict(x_val[index]))\n",
    "        acc.append(accuracy)\n",
    "    end_time = time.perf_counter()\n",
    "    if to_print:\n",
    "        print(f\"The average accuracy is: {np.mean(acc)}\")\n",
    "        print(f\"The total time taken to predict is {end_time - start_time:0.4f} seconds\")\n",
    "    return np.mean(acc)"
   ]
  },
  {
   "cell_type": "markdown",
   "id": "acefa87c",
   "metadata": {},
   "source": [
    "# 4. Models \n",
    "\n",
    "This section will cover building the models and then testing them as described in section 2.  \n",
    "All models are built using the scikitlearn package. \n",
    "\n",
    "Note that if we want to focus on a few can look into nearest neighbour and random forest only cos they can control the number of jobs (ie the number of processes - parallelisation) \n",
    "\n",
    "## 4.1 Logistic Regression - Multinomial Case \n",
    "\n",
    "A simple model - but basically most of it end in failure   \n",
    "So we drop \n",
    "\n",
    "### 4.1.1 Dummy Df \n",
    "\n",
    "Failed - took forever and still no result"
   ]
  },
  {
   "cell_type": "code",
   "execution_count": 52,
   "id": "57caf766",
   "metadata": {},
   "outputs": [],
   "source": [
    "## Dont bother running will take forever and not work \n",
    "# start_time = time.perf_counter()\n",
    "# clf = LogisticRegression(random_state=0, max_iter = 10000).fit(X_train, y_train)\n",
    "# end_time = time.perf_counter()\n",
    "# print(f\"Time to train logistic regression is {end_time - start_time:0.4f}\")"
   ]
  },
  {
   "cell_type": "markdown",
   "id": "a142044d",
   "metadata": {},
   "source": [
    "### 4.1.2 Numeric Df "
   ]
  },
  {
   "cell_type": "markdown",
   "id": "b5d3dc1a",
   "metadata": {},
   "source": [
    "#### 4.1.2.1 Single Model "
   ]
  },
  {
   "cell_type": "code",
   "execution_count": 53,
   "id": "0c04e75b",
   "metadata": {},
   "outputs": [],
   "source": [
    "X_train, X_test, y_train, y_test = get_numeric_data(remove_camera=True, validation_set=False)"
   ]
  },
  {
   "cell_type": "code",
   "execution_count": 54,
   "id": "d532b588",
   "metadata": {},
   "outputs": [],
   "source": [
    "# start_time = time.perf_counter()\n",
    "# clf = LogisticRegression(random_state=0, max_iter = 10000).fit(X_train, y_train)\n",
    "# end_time = time.perf_counter()\n",
    "# print(f\"Time to train logistic regression is {end_time - start_time:0.4f}\")"
   ]
  },
  {
   "cell_type": "code",
   "execution_count": 55,
   "id": "133960b9",
   "metadata": {},
   "outputs": [],
   "source": [
    "# single_model_single_query(clf, X_test, y_test)"
   ]
  },
  {
   "cell_type": "code",
   "execution_count": 56,
   "id": "6e6fe6e4",
   "metadata": {},
   "outputs": [],
   "source": [
    "# single_model_multiple_query(clf, X_test, y_test)"
   ]
  },
  {
   "cell_type": "markdown",
   "id": "c6dd71f9",
   "metadata": {},
   "source": [
    "#### 4.1.2.2 Multiple Model \n",
    "\n",
    "Failed - does not converge"
   ]
  },
  {
   "cell_type": "code",
   "execution_count": 57,
   "id": "8bf3453b",
   "metadata": {},
   "outputs": [],
   "source": [
    "X_train, X_test, y_train, y_test = get_numeric_data(remove_camera = False, validation_set = False)"
   ]
  },
  {
   "cell_type": "code",
   "execution_count": 58,
   "id": "066ec876",
   "metadata": {},
   "outputs": [],
   "source": [
    "# all_models = {}\n",
    "\n",
    "# start_time = time.perf_counter()\n",
    "# for cam in all_camera:\n",
    "#     index = X_train.cam_id == cam\n",
    "#     train_x = X_train[index]\n",
    "#     train_y = y_train[index]\n",
    "    \n",
    "#     clf = LogisticRegression(random_state=0, max_iter = 10000).fit(train_x, train_y)\n",
    "    \n",
    "#     all_models[cam] = clf\n",
    "\n",
    "# end_time = time.perf_counter()\n",
    "# print(f\"Time to train all the logistic regression models is {end_time - start_time:0.4f}\")"
   ]
  },
  {
   "cell_type": "markdown",
   "id": "5dcc96d5",
   "metadata": {},
   "source": [
    "## 4.2 K Nearest Neighbour \n",
    "\n",
    "This method takes forever to run.  \n",
    "I need to figure out why is it not running properly  \n",
    "\n",
    "### 4.2.1 Dummy Df\n",
    "\n",
    "#### 4.2.1.1 Single Model \n",
    "\n",
    "Can tune for number of neighbours   \n",
    "Can set the number of cpu used \n",
    "\n",
    "takes forever to predict "
   ]
  },
  {
   "cell_type": "code",
   "execution_count": 59,
   "id": "1f4bdac3",
   "metadata": {},
   "outputs": [],
   "source": [
    "X_train, X_valid, X_test, y_train, y_valid, y_test = get_dummy_data(remove_camera=True, validation_set=True)"
   ]
  },
  {
   "cell_type": "code",
   "execution_count": 60,
   "id": "e36e2c61",
   "metadata": {},
   "outputs": [
    {
     "name": "stdout",
     "output_type": "stream",
     "text": [
      "Time to train KNN is 0.1916\n"
     ]
    }
   ],
   "source": [
    "start_time = time.perf_counter()\n",
    "clf = KNeighborsClassifier(n_neighbors=5, n_jobs=-1).fit(X_train, y_train) # \n",
    "end_time = time.perf_counter()\n",
    "print(f\"Time to train KNN is {end_time - start_time:0.4f}\")"
   ]
  },
  {
   "cell_type": "code",
   "execution_count": 61,
   "id": "529c692b",
   "metadata": {},
   "outputs": [],
   "source": [
    "# single_model_single_query(clf, X_valid, y_valid)"
   ]
  },
  {
   "cell_type": "code",
   "execution_count": 62,
   "id": "1bd55bae",
   "metadata": {},
   "outputs": [],
   "source": [
    "# single_model_multiple_query(clf, X_test, y_test)"
   ]
  },
  {
   "cell_type": "markdown",
   "id": "a6cbf44a",
   "metadata": {},
   "source": [
    "#### 4.2.1.2 Multiple Model"
   ]
  },
  {
   "cell_type": "code",
   "execution_count": 63,
   "id": "997554b6",
   "metadata": {},
   "outputs": [],
   "source": [
    "X_train, X_valid, X_test, y_train, y_valid, y_test = get_dummy_data(remove_camera=False, validation_set=True)"
   ]
  },
  {
   "cell_type": "code",
   "execution_count": 64,
   "id": "5f97c021",
   "metadata": {},
   "outputs": [],
   "source": [
    "# all_models = {}\n",
    "# start_time = time.perf_counter()\n",
    "# for cam in all_camera:\n",
    "#     index = X_train.cam_id == cam\n",
    "#     train_x = X_train[index]\n",
    "#     train_y = y_train[index]\n",
    "    \n",
    "#     clf = KNeighborsClassifier(n_neighbors=5, n_jobs=-1).fit(X_train, y_train)\n",
    "    \n",
    "#     all_models[cam] = clf\n",
    "\n",
    "# end_time = time.perf_counter()\n",
    "# print(f\"Time to train all the KNN is {end_time - start_time:0.4f}\")"
   ]
  },
  {
   "cell_type": "code",
   "execution_count": 65,
   "id": "eb128d04",
   "metadata": {},
   "outputs": [],
   "source": [
    "# multiple_model_single_query(all_models, X_valid, y_valid)"
   ]
  },
  {
   "cell_type": "code",
   "execution_count": 66,
   "id": "7685921a",
   "metadata": {},
   "outputs": [],
   "source": [
    "# multiple_model_multiple_query(all_models, X_valid, y_valid)"
   ]
  },
  {
   "cell_type": "markdown",
   "id": "512f4013",
   "metadata": {},
   "source": [
    "### 4.2.2 Numeric Df\n",
    "\n",
    "#### 4.2.2.1 Single Model "
   ]
  },
  {
   "cell_type": "code",
   "execution_count": 67,
   "id": "0d2e8cb2",
   "metadata": {},
   "outputs": [],
   "source": [
    "X_train, X_valid, X_test, y_train, y_valid, y_test = get_numeric_data(remove_camera=True, validation_set=True)"
   ]
  },
  {
   "cell_type": "code",
   "execution_count": 68,
   "id": "95a263cd",
   "metadata": {},
   "outputs": [],
   "source": [
    "# start_time = time.perf_counter()\n",
    "# clf = KNeighborsClassifier(n_neighbors=1, n_jobs=-1).fit(X_train, y_train) # \n",
    "# end_time = time.perf_counter()\n",
    "# print(f\"Time to train KNN is {end_time - start_time:0.4f}\")"
   ]
  },
  {
   "cell_type": "code",
   "execution_count": 69,
   "id": "692c6d4a",
   "metadata": {},
   "outputs": [],
   "source": [
    "# single_model_single_query(clf, X_valid, y_valid)"
   ]
  },
  {
   "cell_type": "code",
   "execution_count": 70,
   "id": "2f6508a6",
   "metadata": {
    "scrolled": false
   },
   "outputs": [],
   "source": [
    "# single_model_multiple_query(clf, X_valid, y_valid)"
   ]
  },
  {
   "cell_type": "markdown",
   "id": "c2b68edd",
   "metadata": {},
   "source": [
    "#### 4.2.2.2 Multiple Model "
   ]
  },
  {
   "cell_type": "code",
   "execution_count": 71,
   "id": "310641d9",
   "metadata": {},
   "outputs": [],
   "source": [
    "X_train, X_valid, X_test, y_train, y_valid, y_test = get_numeric_data(remove_camera=False, validation_set=True)"
   ]
  },
  {
   "cell_type": "code",
   "execution_count": 72,
   "id": "3a63a29c",
   "metadata": {},
   "outputs": [],
   "source": [
    "# all_models = {}\n",
    "# start_time = time.perf_counter()\n",
    "# for cam in all_camera:\n",
    "#     index = X_train.cam_id == cam\n",
    "#     train_x = X_train[index]\n",
    "#     train_y = y_train[index]\n",
    "    \n",
    "#     clf = KNeighborsClassifier(n_neighbors=5, n_jobs=-1).fit(X_train, y_train)\n",
    "    \n",
    "#     all_models[cam] = clf\n",
    "\n",
    "# end_time = time.perf_counter()\n",
    "# print(f\"Time to train all the KNN is {end_time - start_time:0.4f}\")"
   ]
  },
  {
   "cell_type": "code",
   "execution_count": 73,
   "id": "41697ab0",
   "metadata": {},
   "outputs": [],
   "source": [
    "# multiple_model_single_query(all_models, X_valid, y_valid)"
   ]
  },
  {
   "cell_type": "code",
   "execution_count": 74,
   "id": "6313887e",
   "metadata": {},
   "outputs": [],
   "source": [
    "# multiple_model_multiple_query(all_models, X_valid, y_valid)"
   ]
  },
  {
   "cell_type": "markdown",
   "id": "dafb9f58",
   "metadata": {},
   "source": [
    "## 4.3 Decision Tree\n",
    "\n",
    "The only properly working model so far \n",
    "\n",
    "### 4.3.1 Dummy Df \n",
    "\n",
    "#### 4.3.1.1 Single Model "
   ]
  },
  {
   "cell_type": "code",
   "execution_count": 75,
   "id": "e2ea27a4",
   "metadata": {},
   "outputs": [],
   "source": [
    "X_train, X_valid, X_test, y_train, y_valid, y_test = get_dummy_data(remove_camera=True, validation_set=True)"
   ]
  },
  {
   "cell_type": "code",
   "execution_count": 76,
   "id": "5ec78052",
   "metadata": {},
   "outputs": [
    {
     "name": "stdout",
     "output_type": "stream",
     "text": [
      "Time to train decision tree is 1.6141\n"
     ]
    }
   ],
   "source": [
    "start_time = time.perf_counter()\n",
    "clf = DecisionTreeClassifier(random_state=0).fit(X_train, y_train)\n",
    "end_time = time.perf_counter()\n",
    "print(f\"Time to train decision tree is {end_time - start_time:0.4f}\")"
   ]
  },
  {
   "cell_type": "code",
   "execution_count": 77,
   "id": "54452a92",
   "metadata": {},
   "outputs": [
    {
     "name": "stdout",
     "output_type": "stream",
     "text": [
      "The accuracy is: 0.5801425875445586\n",
      "The time taken to predict is 57.6524 seconds\n"
     ]
    }
   ],
   "source": [
    "_ = single_model_single_query(clf, X_valid, y_valid)"
   ]
  },
  {
   "cell_type": "code",
   "execution_count": 78,
   "id": "6b8b1262",
   "metadata": {},
   "outputs": [
    {
     "name": "stdout",
     "output_type": "stream",
     "text": [
      "The accuracy is: 0.5801425875445586\n",
      "The time taken to predict is 0.0429 seconds\n"
     ]
    }
   ],
   "source": [
    "_ = single_model_multiple_query(clf, X_valid, y_valid)"
   ]
  },
  {
   "cell_type": "markdown",
   "id": "1c6b08f0",
   "metadata": {},
   "source": [
    "#### 4.3.1.2 Multiple Model "
   ]
  },
  {
   "cell_type": "code",
   "execution_count": 79,
   "id": "97e8ce06",
   "metadata": {},
   "outputs": [],
   "source": [
    "X_train, X_valid, X_test, y_train, y_valid, y_test = get_dummy_data(remove_camera=False, validation_set=True)"
   ]
  },
  {
   "cell_type": "code",
   "execution_count": 80,
   "id": "dbf52435",
   "metadata": {},
   "outputs": [
    {
     "name": "stdout",
     "output_type": "stream",
     "text": [
      "Time to train all the decision trees are 1.4666\n"
     ]
    }
   ],
   "source": [
    "start_time = time.perf_counter()\n",
    "all_models = {}\n",
    "for cam in all_camera:\n",
    "    index = X_train.cam_id == cam\n",
    "    train_x = X_train[index]\n",
    "    train_y = y_train[index]\n",
    "    \n",
    "    clf = DecisionTreeClassifier(random_state=0).fit(train_x, train_y)\n",
    "    \n",
    "    all_models[cam] = clf\n",
    "\n",
    "end_time = time.perf_counter()\n",
    "print(f\"Time to train all the decision trees are {end_time - start_time:0.4f}\")"
   ]
  },
  {
   "cell_type": "code",
   "execution_count": 81,
   "id": "1d76c1b3",
   "metadata": {},
   "outputs": [
    {
     "name": "stdout",
     "output_type": "stream",
     "text": [
      "The average accuracy is: 0.8522838335958195\n",
      "The total time taken to predict is 60.8998 seconds\n"
     ]
    }
   ],
   "source": [
    "_ = multiple_model_single_query(all_models, X_valid, y_valid)"
   ]
  },
  {
   "cell_type": "code",
   "execution_count": 82,
   "id": "7fd54b88",
   "metadata": {},
   "outputs": [
    {
     "name": "stdout",
     "output_type": "stream",
     "text": [
      "The average accuracy is: 0.8522838335958195\n",
      "The total time taken to predict is 0.2039 seconds\n"
     ]
    }
   ],
   "source": [
    "_ = multiple_model_multiple_query(all_models, X_valid, y_valid)"
   ]
  },
  {
   "cell_type": "markdown",
   "id": "5ffe8e27",
   "metadata": {},
   "source": [
    "### 4.3.2 Numeric Df \n",
    "\n",
    "#### 4.3.2.1 Single Model "
   ]
  },
  {
   "cell_type": "code",
   "execution_count": 83,
   "id": "8af17fd4",
   "metadata": {},
   "outputs": [],
   "source": [
    "X_train, X_valid, X_test, y_train, y_valid, y_test = get_numeric_data(remove_camera=True, validation_set=True)"
   ]
  },
  {
   "cell_type": "code",
   "execution_count": 84,
   "id": "d670086c",
   "metadata": {},
   "outputs": [
    {
     "name": "stdout",
     "output_type": "stream",
     "text": [
      "Time to train decision tree is 0.6631\n"
     ]
    }
   ],
   "source": [
    "start_time = time.perf_counter()\n",
    "clf = DecisionTreeClassifier(random_state=0).fit(X_train, y_train)\n",
    "end_time = time.perf_counter()\n",
    "print(f\"Time to train decision tree is {end_time - start_time:0.4f}\")"
   ]
  },
  {
   "cell_type": "code",
   "execution_count": 85,
   "id": "31669eea",
   "metadata": {},
   "outputs": [
    {
     "name": "stdout",
     "output_type": "stream",
     "text": [
      "The accuracy is: 0.5854057454392955\n",
      "The time taken to predict is 43.2139 seconds\n"
     ]
    }
   ],
   "source": [
    "_ = single_model_single_query(clf, X_valid, y_valid)"
   ]
  },
  {
   "cell_type": "code",
   "execution_count": 86,
   "id": "d54b3a53",
   "metadata": {},
   "outputs": [
    {
     "name": "stdout",
     "output_type": "stream",
     "text": [
      "The accuracy is: 0.5854057454392955\n",
      "The time taken to predict is 0.0232 seconds\n"
     ]
    }
   ],
   "source": [
    "_ = single_model_multiple_query(clf, X_valid, y_valid)"
   ]
  },
  {
   "cell_type": "markdown",
   "id": "355c9be6",
   "metadata": {},
   "source": [
    "#### 4.3.2.2 Multiple Model "
   ]
  },
  {
   "cell_type": "code",
   "execution_count": 87,
   "id": "f3289838",
   "metadata": {},
   "outputs": [],
   "source": [
    "X_train, X_valid, X_test, y_train, y_valid, y_test = get_dummy_data(remove_camera=False, validation_set=True)"
   ]
  },
  {
   "cell_type": "code",
   "execution_count": 88,
   "id": "30389b53",
   "metadata": {},
   "outputs": [
    {
     "name": "stdout",
     "output_type": "stream",
     "text": [
      "Time to train all the decision trees are 1.5602\n"
     ]
    }
   ],
   "source": [
    "start_time = time.perf_counter()\n",
    "all_models = {}\n",
    "for cam in all_camera:\n",
    "    index = X_train.cam_id == cam\n",
    "    train_x = X_train[index]\n",
    "    train_y = y_train[index]\n",
    "    \n",
    "    clf = DecisionTreeClassifier(random_state=0).fit(train_x, train_y)\n",
    "    \n",
    "    all_models[cam] = clf\n",
    "\n",
    "end_time = time.perf_counter()\n",
    "print(f\"Time to train all the decision trees are {end_time - start_time:0.4f}\")"
   ]
  },
  {
   "cell_type": "code",
   "execution_count": 89,
   "id": "f82bc6fc",
   "metadata": {},
   "outputs": [
    {
     "name": "stdout",
     "output_type": "stream",
     "text": [
      "The average accuracy is: 0.8522838335958195\n",
      "The total time taken to predict is 64.6352 seconds\n"
     ]
    }
   ],
   "source": [
    "_ = multiple_model_single_query(all_models, X_valid, y_valid)"
   ]
  },
  {
   "cell_type": "code",
   "execution_count": 90,
   "id": "8f337461",
   "metadata": {},
   "outputs": [
    {
     "name": "stdout",
     "output_type": "stream",
     "text": [
      "The average accuracy is: 0.8522838335958195\n",
      "The total time taken to predict is 0.2106 seconds\n"
     ]
    }
   ],
   "source": [
    "_ = multiple_model_multiple_query(all_models, X_valid, y_valid)"
   ]
  },
  {
   "cell_type": "markdown",
   "id": "336de397",
   "metadata": {},
   "source": [
    "## 4.4 Random Forest \n",
    "\n",
    "Technically can use the OOB but need read up more of the documentation \n",
    "\n",
    "### 4.4.1 Dummy Df \n",
    "\n",
    "#### 4.4.1.1 Single Model "
   ]
  },
  {
   "cell_type": "code",
   "execution_count": 91,
   "id": "ff40bcd7",
   "metadata": {},
   "outputs": [],
   "source": [
    "X_train, X_valid, X_test, y_train, y_valid, y_test = get_dummy_data(remove_camera=True, validation_set=True)"
   ]
  },
  {
   "cell_type": "code",
   "execution_count": 92,
   "id": "a8dc58de",
   "metadata": {},
   "outputs": [
    {
     "name": "stdout",
     "output_type": "stream",
     "text": [
      "Time to train decision tree is 20.9607\n"
     ]
    }
   ],
   "source": [
    "start_time = time.perf_counter()\n",
    "clf = RandomForestClassifier(random_state=0).fit(X_train, y_train)\n",
    "end_time = time.perf_counter()\n",
    "print(f\"Time to train decision tree is {end_time - start_time:0.4f}\")"
   ]
  },
  {
   "cell_type": "code",
   "execution_count": 93,
   "id": "ec37a8da",
   "metadata": {
    "scrolled": false
   },
   "outputs": [],
   "source": [
    "# _ = single_model_single_query(clf, X_valid, y_valid)  # Forever to run "
   ]
  },
  {
   "cell_type": "code",
   "execution_count": 94,
   "id": "4399d8b0",
   "metadata": {},
   "outputs": [
    {
     "name": "stdout",
     "output_type": "stream",
     "text": [
      "The accuracy is: 0.5816942755294611\n",
      "The time taken to predict is 1.1842 seconds\n"
     ]
    }
   ],
   "source": [
    "_ = single_model_multiple_query(clf, X_valid, y_valid)"
   ]
  },
  {
   "cell_type": "markdown",
   "id": "e5dcc7e1",
   "metadata": {},
   "source": [
    "#### 4.4.1.2 Multiple Model "
   ]
  },
  {
   "cell_type": "code",
   "execution_count": 95,
   "id": "f9975af5",
   "metadata": {},
   "outputs": [],
   "source": [
    "X_train, X_valid, X_test, y_train, y_valid, y_test = get_dummy_data(remove_camera=False, validation_set=True)"
   ]
  },
  {
   "cell_type": "code",
   "execution_count": 96,
   "id": "ef85e00b",
   "metadata": {},
   "outputs": [
    {
     "name": "stdout",
     "output_type": "stream",
     "text": [
      "Time to train all the decision trees are 21.2379\n"
     ]
    }
   ],
   "source": [
    "start_time = time.perf_counter()\n",
    "all_models = {}\n",
    "for cam in all_camera:\n",
    "    index = X_train.cam_id == cam\n",
    "    train_x = X_train[index]\n",
    "    train_y = y_train[index]\n",
    "    \n",
    "    clf = RandomForestClassifier(random_state=0).fit(train_x, train_y)\n",
    "    \n",
    "    all_models[cam] = clf\n",
    "\n",
    "end_time = time.perf_counter()\n",
    "print(f\"Time to train all the decision trees are {end_time - start_time:0.4f}\")"
   ]
  },
  {
   "cell_type": "code",
   "execution_count": 97,
   "id": "024543c6",
   "metadata": {},
   "outputs": [],
   "source": [
    "# _ = multiple_model_single_query(all_models, X_valid, y_valid)"
   ]
  },
  {
   "cell_type": "code",
   "execution_count": 98,
   "id": "5b63dacf",
   "metadata": {},
   "outputs": [
    {
     "name": "stdout",
     "output_type": "stream",
     "text": [
      "The average accuracy is: 0.8778174572353196\n",
      "The total time taken to predict is 1.7076 seconds\n"
     ]
    }
   ],
   "source": [
    "_ = multiple_model_multiple_query(all_models, X_valid, y_valid)"
   ]
  },
  {
   "cell_type": "markdown",
   "id": "e2ef35f1",
   "metadata": {},
   "source": [
    "### 4.4.2 Numeric Df \n",
    "\n",
    "#### 4.4.2.1 Single Model "
   ]
  },
  {
   "cell_type": "code",
   "execution_count": 99,
   "id": "889f472c",
   "metadata": {},
   "outputs": [],
   "source": [
    "X_train, X_valid, X_test, y_train, y_valid, y_test = get_numeric_data(remove_camera=True, validation_set=True)"
   ]
  },
  {
   "cell_type": "code",
   "execution_count": 100,
   "id": "cb90e791",
   "metadata": {},
   "outputs": [
    {
     "name": "stdout",
     "output_type": "stream",
     "text": [
      "Time to train decision tree is 10.7204\n"
     ]
    }
   ],
   "source": [
    "start_time = time.perf_counter()\n",
    "clf = RandomForestClassifier(random_state=0).fit(X_train, y_train)\n",
    "end_time = time.perf_counter()\n",
    "print(f\"Time to train decision tree is {end_time - start_time:0.4f}\")"
   ]
  },
  {
   "cell_type": "code",
   "execution_count": 101,
   "id": "17fdc837",
   "metadata": {},
   "outputs": [],
   "source": [
    "# _ = single_model_single_query(clf, X_valid, y_valid)  # Forever to run "
   ]
  },
  {
   "cell_type": "code",
   "execution_count": 102,
   "id": "04459584",
   "metadata": {},
   "outputs": [
    {
     "name": "stdout",
     "output_type": "stream",
     "text": [
      "The accuracy is: 0.5857831830572447\n",
      "The time taken to predict is 1.0601 seconds\n"
     ]
    }
   ],
   "source": [
    "_ = single_model_multiple_query(clf, X_valid, y_valid)"
   ]
  },
  {
   "cell_type": "markdown",
   "id": "9c131deb",
   "metadata": {},
   "source": [
    "**Repeating single model but with the camera**"
   ]
  },
  {
   "cell_type": "code",
   "execution_count": 103,
   "id": "00c6a24d",
   "metadata": {},
   "outputs": [],
   "source": [
    "X_train, X_valid, X_test, y_train, y_valid, y_test = get_numeric_data(remove_camera=False, validation_set=True)"
   ]
  },
  {
   "cell_type": "code",
   "execution_count": 104,
   "id": "52db1fc6",
   "metadata": {},
   "outputs": [
    {
     "name": "stdout",
     "output_type": "stream",
     "text": [
      "Time to train decision tree is 19.7334\n"
     ]
    }
   ],
   "source": [
    "start_time = time.perf_counter()\n",
    "clf = RandomForestClassifier(random_state=0).fit(X_train, y_train)\n",
    "end_time = time.perf_counter()\n",
    "print(f\"Time to train decision tree is {end_time - start_time:0.4f}\")"
   ]
  },
  {
   "cell_type": "code",
   "execution_count": 105,
   "id": "1cd060dc",
   "metadata": {},
   "outputs": [
    {
     "name": "stdout",
     "output_type": "stream",
     "text": [
      "The accuracy is: 0.6067100020968756\n",
      "The time taken to predict is 1.5987 seconds\n"
     ]
    }
   ],
   "source": [
    "_ = single_model_multiple_query(clf, X_valid, y_valid)"
   ]
  },
  {
   "cell_type": "markdown",
   "id": "06719f94",
   "metadata": {},
   "source": [
    "#### 4.4.2.2 Mutliple Model "
   ]
  },
  {
   "cell_type": "code",
   "execution_count": 106,
   "id": "df2ba46f",
   "metadata": {},
   "outputs": [],
   "source": [
    "X_train, X_valid, X_test, y_train, y_valid, y_test = get_numeric_data(remove_camera=False, validation_set=True)"
   ]
  },
  {
   "cell_type": "code",
   "execution_count": 107,
   "id": "52ee2c86",
   "metadata": {},
   "outputs": [
    {
     "name": "stdout",
     "output_type": "stream",
     "text": [
      "Time to train all the decision trees are 18.6973\n"
     ]
    }
   ],
   "source": [
    "start_time = time.perf_counter()\n",
    "all_models = {}\n",
    "for cam in all_camera:\n",
    "    index = X_train.cam_id == cam\n",
    "    train_x = X_train[index]\n",
    "    train_y = y_train[index]\n",
    "    \n",
    "    clf = RandomForestClassifier(random_state=0).fit(train_x, train_y)\n",
    "    \n",
    "    all_models[cam] = clf\n",
    "\n",
    "end_time = time.perf_counter()\n",
    "print(f\"Time to train all the decision trees are {end_time - start_time:0.4f}\")"
   ]
  },
  {
   "cell_type": "code",
   "execution_count": 108,
   "id": "a9da3371",
   "metadata": {},
   "outputs": [],
   "source": [
    "# _ = multiple_model_single_query(all_models, X_valid, y_valid)"
   ]
  },
  {
   "cell_type": "code",
   "execution_count": 109,
   "id": "99942aa1",
   "metadata": {},
   "outputs": [
    {
     "name": "stdout",
     "output_type": "stream",
     "text": [
      "The average accuracy is: 0.8809993683651611\n",
      "The total time taken to predict is 1.6336 seconds\n"
     ]
    }
   ],
   "source": [
    "_ = multiple_model_multiple_query(all_models, X_valid, y_valid)"
   ]
  },
  {
   "cell_type": "markdown",
   "id": "3df49071",
   "metadata": {},
   "source": [
    "## 4.5 Neural Netowork \n",
    "\n",
    "### 4.5.1 Dummy Df "
   ]
  },
  {
   "cell_type": "code",
   "execution_count": 114,
   "id": "c1783d0e",
   "metadata": {},
   "outputs": [],
   "source": [
    "X_train, X_valid, X_test, y_train, y_valid, y_test = get_dummy_data(remove_camera=False, validation_set=True)"
   ]
  },
  {
   "cell_type": "code",
   "execution_count": 115,
   "id": "012d4c9f",
   "metadata": {},
   "outputs": [],
   "source": [
    "clf = MLPClassifier(solver='lbfgs', alpha=1e-5, hidden_layer_sizes=(2,4,16,32,16,4,2), random_state=1).fit(X_train, y_train)"
   ]
  },
  {
   "cell_type": "code",
   "execution_count": 116,
   "id": "87ed8f8e",
   "metadata": {},
   "outputs": [],
   "source": [
    "# _ = single_model_single_query(clf, X_valid, y_valid)  # Forever to run "
   ]
  },
  {
   "cell_type": "code",
   "execution_count": 117,
   "id": "9da5d6d9",
   "metadata": {},
   "outputs": [
    {
     "name": "stdout",
     "output_type": "stream",
     "text": [
      "The accuracy is: 0.5863493394841686\n",
      "The time taken to predict is 0.0940 seconds\n"
     ]
    }
   ],
   "source": [
    "_ = single_model_multiple_query(clf, X_valid, y_valid)"
   ]
  },
  {
   "cell_type": "markdown",
   "id": "a3c8cbd3",
   "metadata": {},
   "source": [
    "### 4.5.2 Numeric Df "
   ]
  },
  {
   "cell_type": "code",
   "execution_count": 118,
   "id": "18f61f95",
   "metadata": {},
   "outputs": [],
   "source": [
    "X_train, X_valid, X_test, y_train, y_valid, y_test = get_numeric_data(remove_camera=False, validation_set=True)"
   ]
  },
  {
   "cell_type": "code",
   "execution_count": 119,
   "id": "89d94138",
   "metadata": {},
   "outputs": [],
   "source": [
    "clf = MLPClassifier(solver='lbfgs', alpha=1e-5, hidden_layer_sizes=(2,4,16,32,16,4,2), random_state=1).fit(X_train, y_train)"
   ]
  },
  {
   "cell_type": "code",
   "execution_count": 121,
   "id": "d6061aad",
   "metadata": {},
   "outputs": [],
   "source": [
    "# _ = single_model_single_query(clf, X_valid, y_valid)  # Forever to run "
   ]
  },
  {
   "cell_type": "code",
   "execution_count": 120,
   "id": "99ff1648",
   "metadata": {},
   "outputs": [
    {
     "name": "stdout",
     "output_type": "stream",
     "text": [
      "The accuracy is: 0.5863493394841686\n",
      "The time taken to predict is 0.0637 seconds\n"
     ]
    }
   ],
   "source": [
    "_ = single_model_multiple_query(clf, X_valid, y_valid)"
   ]
  }
 ],
 "metadata": {
  "kernelspec": {
   "display_name": "Python 3 (ipykernel)",
   "language": "python",
   "name": "python3"
  },
  "language_info": {
   "codemirror_mode": {
    "name": "ipython",
    "version": 3
   },
   "file_extension": ".py",
   "mimetype": "text/x-python",
   "name": "python",
   "nbconvert_exporter": "python",
   "pygments_lexer": "ipython3",
   "version": "3.8.5"
  }
 },
 "nbformat": 4,
 "nbformat_minor": 5
}
