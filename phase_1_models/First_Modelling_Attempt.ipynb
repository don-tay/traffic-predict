{
 "cells": [
  {
   "cell_type": "markdown",
   "id": "0a4ced43",
   "metadata": {},
   "source": [
    "# Import Libraries"
   ]
  },
  {
   "cell_type": "code",
   "execution_count": 73,
   "id": "c7cbda72",
   "metadata": {},
   "outputs": [],
   "source": [
    "from get_files_dynamic import get_super_table\n",
    "import pandas as pd\n",
    "import numpy as np \n",
    "from sklearn.model_selection import train_test_split\n",
    "from sklearn.linear_model import LogisticRegression\n",
    "from sklearn.tree import DecisionTreeClassifier\n",
    "from sklearn.tree import plot_tree\n",
    "import matplotlib.pyplot as plt\n",
    "from sklearn.metrics import confusion_matrix, ConfusionMatrixDisplay\n",
    "from sklearn.neighbors import KNeighborsClassifier\n",
    "from sklearn.neural_network import MLPClassifier\n",
    "import time"
   ]
  },
  {
   "cell_type": "markdown",
   "id": "b5e3d2f2",
   "metadata": {},
   "source": [
    "# Goal of Phase 1 \n",
    "\n",
    "There is a slight change of plans. Instead of breaking up phases 1 and 3, I will do them together.   \n",
    "So the goal is to make a few models. See how long they take to process the data / train the model and make predictions.  \n",
    "For all cases we will tune the model to its best accuracy possible - using as much varaibles as possible   \n",
    "Then after that we will train XX models - one for each camera  \n",
    "To test the speed, we will do   \n",
    "1. single query one model \n",
    "2. multiple query one model \n",
    "3. single query multiple camera \n",
    "4. multiple query multiple camera \n",
    "\n",
    "This will be done for the single model as well as the multiple model  \n",
    "That way we can see the time taken for each  \n",
    "\n",
    "The difference between single and multiple query can be like single is one by one input into the model.  \n",
    "Multiple can be pass in all at one go \n",
    "\n",
    "For the first attempt, i gonna focus on the decision tree since it is the fastest to train so far and is giving good accuracy. Then from there we'll see how to extend to the rest "
   ]
  },
  {
   "cell_type": "markdown",
   "id": "ece551d4",
   "metadata": {},
   "source": [
    "# Get Dataset "
   ]
  },
  {
   "cell_type": "code",
   "execution_count": 15,
   "id": "c60aee30",
   "metadata": {},
   "outputs": [],
   "source": [
    "df = get_super_table()"
   ]
  },
  {
   "cell_type": "code",
   "execution_count": 16,
   "id": "57f5b948",
   "metadata": {},
   "outputs": [
    {
     "data": {
      "text/html": [
       "<div>\n",
       "<style scoped>\n",
       "    .dataframe tbody tr th:only-of-type {\n",
       "        vertical-align: middle;\n",
       "    }\n",
       "\n",
       "    .dataframe tbody tr th {\n",
       "        vertical-align: top;\n",
       "    }\n",
       "\n",
       "    .dataframe thead th {\n",
       "        text-align: right;\n",
       "    }\n",
       "</style>\n",
       "<table border=\"1\" class=\"dataframe\">\n",
       "  <thead>\n",
       "    <tr style=\"text-align: right;\">\n",
       "      <th></th>\n",
       "      <th>call_timestamp</th>\n",
       "      <th>cam_id</th>\n",
       "      <th>non_rainfall_station_id</th>\n",
       "      <th>rainfall_station_id</th>\n",
       "      <th>2hr_forecast_area</th>\n",
       "      <th>compass</th>\n",
       "      <th>direction</th>\n",
       "      <th>rainfall_realtime</th>\n",
       "      <th>wind_speed_realtime</th>\n",
       "      <th>wind_dir_realtime</th>\n",
       "      <th>...</th>\n",
       "      <th>24hr_period_1_start</th>\n",
       "      <th>24hr_period_1_end</th>\n",
       "      <th>24hr_period_1</th>\n",
       "      <th>24hr_period_2_start</th>\n",
       "      <th>24hr_period_2_end</th>\n",
       "      <th>24hr_period_2</th>\n",
       "      <th>24hr_period_3_start</th>\n",
       "      <th>24hr_period_3_end</th>\n",
       "      <th>24hr_period_3</th>\n",
       "      <th>trafficCongestion</th>\n",
       "    </tr>\n",
       "  </thead>\n",
       "  <tbody>\n",
       "    <tr>\n",
       "      <th>0</th>\n",
       "      <td>2022-04-10T034724</td>\n",
       "      <td>1001</td>\n",
       "      <td>S107</td>\n",
       "      <td>S119</td>\n",
       "      <td>Kallang</td>\n",
       "      <td>south</td>\n",
       "      <td>1</td>\n",
       "      <td>0.0</td>\n",
       "      <td>1.2</td>\n",
       "      <td>325.0</td>\n",
       "      <td>...</td>\n",
       "      <td>2022-04-10T000000</td>\n",
       "      <td>2022-04-10T060000</td>\n",
       "      <td>Partly Cloudy (Night)</td>\n",
       "      <td>2022-04-10T060000</td>\n",
       "      <td>2022-04-10T120000</td>\n",
       "      <td>Partly Cloudy (Day)</td>\n",
       "      <td>2022-04-10T120000</td>\n",
       "      <td>2022-04-10T180000</td>\n",
       "      <td>Thundery Showers</td>\n",
       "      <td>None</td>\n",
       "    </tr>\n",
       "    <tr>\n",
       "      <th>1</th>\n",
       "      <td>2022-04-10T034724</td>\n",
       "      <td>1001</td>\n",
       "      <td>S107</td>\n",
       "      <td>S119</td>\n",
       "      <td>Kallang</td>\n",
       "      <td>south</td>\n",
       "      <td>2</td>\n",
       "      <td>0.0</td>\n",
       "      <td>1.2</td>\n",
       "      <td>325.0</td>\n",
       "      <td>...</td>\n",
       "      <td>2022-04-10T000000</td>\n",
       "      <td>2022-04-10T060000</td>\n",
       "      <td>Partly Cloudy (Night)</td>\n",
       "      <td>2022-04-10T060000</td>\n",
       "      <td>2022-04-10T120000</td>\n",
       "      <td>Partly Cloudy (Day)</td>\n",
       "      <td>2022-04-10T120000</td>\n",
       "      <td>2022-04-10T180000</td>\n",
       "      <td>Thundery Showers</td>\n",
       "      <td>None</td>\n",
       "    </tr>\n",
       "    <tr>\n",
       "      <th>2</th>\n",
       "      <td>2022-04-10T034724</td>\n",
       "      <td>1501</td>\n",
       "      <td>S107</td>\n",
       "      <td>S108</td>\n",
       "      <td>City</td>\n",
       "      <td>south</td>\n",
       "      <td>1</td>\n",
       "      <td>0.0</td>\n",
       "      <td>1.2</td>\n",
       "      <td>325.0</td>\n",
       "      <td>...</td>\n",
       "      <td>2022-04-10T000000</td>\n",
       "      <td>2022-04-10T060000</td>\n",
       "      <td>Partly Cloudy (Night)</td>\n",
       "      <td>2022-04-10T060000</td>\n",
       "      <td>2022-04-10T120000</td>\n",
       "      <td>Partly Cloudy (Day)</td>\n",
       "      <td>2022-04-10T120000</td>\n",
       "      <td>2022-04-10T180000</td>\n",
       "      <td>Thundery Showers</td>\n",
       "      <td>None</td>\n",
       "    </tr>\n",
       "    <tr>\n",
       "      <th>3</th>\n",
       "      <td>2022-04-10T034724</td>\n",
       "      <td>1502</td>\n",
       "      <td>S107</td>\n",
       "      <td>S108</td>\n",
       "      <td>City</td>\n",
       "      <td>south</td>\n",
       "      <td>1</td>\n",
       "      <td>0.0</td>\n",
       "      <td>1.2</td>\n",
       "      <td>325.0</td>\n",
       "      <td>...</td>\n",
       "      <td>2022-04-10T000000</td>\n",
       "      <td>2022-04-10T060000</td>\n",
       "      <td>Partly Cloudy (Night)</td>\n",
       "      <td>2022-04-10T060000</td>\n",
       "      <td>2022-04-10T120000</td>\n",
       "      <td>Partly Cloudy (Day)</td>\n",
       "      <td>2022-04-10T120000</td>\n",
       "      <td>2022-04-10T180000</td>\n",
       "      <td>Thundery Showers</td>\n",
       "      <td>None</td>\n",
       "    </tr>\n",
       "    <tr>\n",
       "      <th>4</th>\n",
       "      <td>2022-04-10T034724</td>\n",
       "      <td>1503</td>\n",
       "      <td>S107</td>\n",
       "      <td>S108</td>\n",
       "      <td>City</td>\n",
       "      <td>south</td>\n",
       "      <td>1</td>\n",
       "      <td>0.0</td>\n",
       "      <td>1.2</td>\n",
       "      <td>325.0</td>\n",
       "      <td>...</td>\n",
       "      <td>2022-04-10T000000</td>\n",
       "      <td>2022-04-10T060000</td>\n",
       "      <td>Partly Cloudy (Night)</td>\n",
       "      <td>2022-04-10T060000</td>\n",
       "      <td>2022-04-10T120000</td>\n",
       "      <td>Partly Cloudy (Day)</td>\n",
       "      <td>2022-04-10T120000</td>\n",
       "      <td>2022-04-10T180000</td>\n",
       "      <td>Thundery Showers</td>\n",
       "      <td>Medium</td>\n",
       "    </tr>\n",
       "  </tbody>\n",
       "</table>\n",
       "<p>5 rows × 65 columns</p>\n",
       "</div>"
      ],
      "text/plain": [
       "      call_timestamp  cam_id non_rainfall_station_id rainfall_station_id  \\\n",
       "0  2022-04-10T034724    1001                    S107                S119   \n",
       "1  2022-04-10T034724    1001                    S107                S119   \n",
       "2  2022-04-10T034724    1501                    S107                S108   \n",
       "3  2022-04-10T034724    1502                    S107                S108   \n",
       "4  2022-04-10T034724    1503                    S107                S108   \n",
       "\n",
       "  2hr_forecast_area compass  direction  rainfall_realtime  \\\n",
       "0           Kallang   south          1                0.0   \n",
       "1           Kallang   south          2                0.0   \n",
       "2              City   south          1                0.0   \n",
       "3              City   south          1                0.0   \n",
       "4              City   south          1                0.0   \n",
       "\n",
       "   wind_speed_realtime  wind_dir_realtime  ...  24hr_period_1_start  \\\n",
       "0                  1.2              325.0  ...    2022-04-10T000000   \n",
       "1                  1.2              325.0  ...    2022-04-10T000000   \n",
       "2                  1.2              325.0  ...    2022-04-10T000000   \n",
       "3                  1.2              325.0  ...    2022-04-10T000000   \n",
       "4                  1.2              325.0  ...    2022-04-10T000000   \n",
       "\n",
       "   24hr_period_1_end          24hr_period_1 24hr_period_2_start  \\\n",
       "0  2022-04-10T060000  Partly Cloudy (Night)   2022-04-10T060000   \n",
       "1  2022-04-10T060000  Partly Cloudy (Night)   2022-04-10T060000   \n",
       "2  2022-04-10T060000  Partly Cloudy (Night)   2022-04-10T060000   \n",
       "3  2022-04-10T060000  Partly Cloudy (Night)   2022-04-10T060000   \n",
       "4  2022-04-10T060000  Partly Cloudy (Night)   2022-04-10T060000   \n",
       "\n",
       "   24hr_period_2_end        24hr_period_2 24hr_period_3_start  \\\n",
       "0  2022-04-10T120000  Partly Cloudy (Day)   2022-04-10T120000   \n",
       "1  2022-04-10T120000  Partly Cloudy (Day)   2022-04-10T120000   \n",
       "2  2022-04-10T120000  Partly Cloudy (Day)   2022-04-10T120000   \n",
       "3  2022-04-10T120000  Partly Cloudy (Day)   2022-04-10T120000   \n",
       "4  2022-04-10T120000  Partly Cloudy (Day)   2022-04-10T120000   \n",
       "\n",
       "   24hr_period_3_end     24hr_period_3  trafficCongestion  \n",
       "0  2022-04-10T180000  Thundery Showers               None  \n",
       "1  2022-04-10T180000  Thundery Showers               None  \n",
       "2  2022-04-10T180000  Thundery Showers               None  \n",
       "3  2022-04-10T180000  Thundery Showers               None  \n",
       "4  2022-04-10T180000  Thundery Showers             Medium  \n",
       "\n",
       "[5 rows x 65 columns]"
      ]
     },
     "execution_count": 16,
     "metadata": {},
     "output_type": "execute_result"
    }
   ],
   "source": [
    "df.head()"
   ]
  },
  {
   "cell_type": "markdown",
   "id": "dbd48ccd",
   "metadata": {},
   "source": [
    "# Some transformations needed for all \n",
    "\n",
    "Note that i still kept the station/area identifiers.  \n",
    "Should probably drop them but i think will drop later manually when needed "
   ]
  },
  {
   "cell_type": "code",
   "execution_count": 17,
   "id": "92db7814",
   "metadata": {},
   "outputs": [],
   "source": [
    "# May just end up dropping since too much effort to convert and very little values \n",
    "df.call_timestamp = pd.to_datetime(df.call_timestamp)\n",
    "df[\"24hr_start\"] = pd.to_datetime(df[\"24hr_start\"])\n",
    "df[\"24hr_end\"] = pd.to_datetime(df[\"24hr_end\"])\n",
    "df[\"24hr_period_1_start\"] = pd.to_datetime(df[\"24hr_period_1_start\"])\n",
    "df[\"24hr_period_1_end\"] = pd.to_datetime(df[\"24hr_period_1_end\"])\n",
    "df[\"24hr_period_2_start\"] = pd.to_datetime(df[\"24hr_period_2_start\"])\n",
    "df[\"24hr_period_2_end\"] = pd.to_datetime(df[\"24hr_period_2_end\"])\n",
    "df[\"24hr_period_3_start\"] = pd.to_datetime(df[\"24hr_period_3_start\"])\n",
    "df[\"24hr_period_3_end\"] = pd.to_datetime(df[\"24hr_period_3_end\"])\n",
    "\n",
    "# Make dummy values\n",
    "dummy_df = pd.get_dummies(df.drop([\"trafficCongestion\", \"rainfall_station_id\", \"non_rainfall_station_id\",\n",
    "                                 \"2hr_forecast_area\", \"compass\"], axis = 1))\n",
    "df_keep = df[[\"trafficCongestion\", \"rainfall_station_id\", \"non_rainfall_station_id\", \"2hr_forecast_area\", \"compass\"]]\n",
    "\n",
    "# reform with dropped values \n",
    "dummy_df = pd.merge(dummy_df, df_keep, left_index=True, right_index=True)"
   ]
  },
  {
   "cell_type": "code",
   "execution_count": 21,
   "id": "a2a91993",
   "metadata": {},
   "outputs": [],
   "source": [
    "numeric_df = df[[\"rainfall_realtime\", \"wind_speed_realtime\", \"wind_dir_realtime\", 'humidity_realtime', 'air_temp_realtime', \n",
    "           '4day_temperature_low_1', '4day_temperature_low_2', '4day_temperature_low_3', '4day_temperature_low_4',\n",
    "           '4day_temperature_high_1', '4day_temperature_high_2', '4day_temperature_high_3', '4day_temperature_high_4',\n",
    "           '4day_relative_humidity_low_1', '4day_relative_humidity_low_2','4day_relative_humidity_low_3',\n",
    "           '4day_relative_humidity_low_4', '4day_relative_humidity_high_1', '4day_relative_humidity_high_2',\n",
    "           '4day_relative_humidity_high_3', '4day_relative_humidity_high_4','4day_wind_speed_low_1',\n",
    "           '4day_wind_speed_low_2', '4day_wind_speed_low_3', '4day_wind_speed_low_4','4day_wind_speed_high_1',\n",
    "           '4day_wind_speed_high_2','4day_wind_speed_high_3', '4day_wind_speed_high_4', \n",
    "           '24hr_general_relative_humidity_low','24hr_general_relative_humidity_high', '24hr_general_temperature_low',\n",
    "           '24hr_general_temperature_high', '24hr_general_wind_speed_low', '24hr_general_wind_speed_high', \n",
    "           \"trafficCongestion\", \n",
    "          \"cam_id\", \"direction\", \"rainfall_station_id\", \"non_rainfall_station_id\", \"2hr_forecast_area\", \"compass\"]]"
   ]
  },
  {
   "cell_type": "code",
   "execution_count": 29,
   "id": "422f6775",
   "metadata": {
    "scrolled": false
   },
   "outputs": [],
   "source": [
    "drop_identifiers = [\"rainfall_station_id\", \"non_rainfall_station_id\", \"2hr_forecast_area\", \"compass\"]\n",
    "drop_camera = [\"cam_id\", \"direction\"]\n",
    "drop_time = [\"call_timestamp\", \"24hr_start\", \"24hr_end\", \"24hr_period_1_start\", \"24hr_period_1_end\",\n",
    "            \"24hr_period_2_start\", \"24hr_period_2_end\", \"24hr_period_3_start\", \"24hr_period_3_end\"]"
   ]
  },
  {
   "cell_type": "markdown",
   "id": "d6c68d37",
   "metadata": {},
   "source": [
    "# Helpers "
   ]
  },
  {
   "cell_type": "code",
   "execution_count": 18,
   "id": "d8855b48",
   "metadata": {},
   "outputs": [],
   "source": [
    "def plot_confusion(predicted, actual):\n",
    "    cm = confusion_matrix(actual, predicted)\n",
    "    cmd = ConfusionMatrixDisplay(cm)\n",
    "    cmd.plot(colorbar= False, cmap = \"binary\")\n",
    "    \n",
    "def get_confusion(predicted, actual):\n",
    "    cm = confusion_matrix(actual, predicted)\n",
    "    return pd.DataFrame(cm)\n",
    "\n",
    "def get_accuracy(predicted, actual):\n",
    "    return np.mean(predicted == actual)"
   ]
  },
  {
   "cell_type": "markdown",
   "id": "91f1b2e3",
   "metadata": {},
   "source": [
    "# Decision Tree\n",
    "\n",
    "For the first single tree will use the numeric without the identifiers \n",
    "By right need validation step for the tuning process but will skip for now since it is just a prototype\n",
    "\n",
    "But apparently the camera id damn good for predicting. \n",
    "Time doesnt work for the decision tree model - if want to use will need more pre-processing \n",
    "\n",
    "## Single Model, Dummy "
   ]
  },
  {
   "cell_type": "code",
   "execution_count": 96,
   "id": "fbd1497a",
   "metadata": {},
   "outputs": [],
   "source": [
    "df = dummy_df.drop(drop_identifiers, axis = 1)\n",
    "#df = df.drop(drop_camera, axis = 1)\n",
    "df = df.drop(drop_time, axis = 1)\n",
    "df = df.dropna()\n",
    "\n",
    "X = df.drop(\"trafficCongestion\", axis = 1)\n",
    "Y = df.trafficCongestion.to_numpy()\n",
    "X_train, X_test, y_train, y_test = train_test_split(X, Y, test_size=0.25, random_state=42)"
   ]
  },
  {
   "cell_type": "code",
   "execution_count": 97,
   "id": "c740c412",
   "metadata": {},
   "outputs": [
    {
     "name": "stdout",
     "output_type": "stream",
     "text": [
      "Time to train decision tree is 1.1902\n"
     ]
    }
   ],
   "source": [
    "start_time = time.perf_counter()\n",
    "clf = DecisionTreeClassifier(random_state=0).fit(X_train, y_train)\n",
    "end_time = time.perf_counter()\n",
    "print(f\"Time to train decision tree is {end_time - start_time:0.4f}\")"
   ]
  },
  {
   "cell_type": "code",
   "execution_count": 84,
   "id": "5dd22643",
   "metadata": {},
   "outputs": [],
   "source": [
    "#plot_confusion(y_test, clf.predict(X_test))"
   ]
  },
  {
   "cell_type": "code",
   "execution_count": 105,
   "id": "34579b53",
   "metadata": {},
   "outputs": [
    {
     "name": "stdout",
     "output_type": "stream",
     "text": [
      "The accuracy is: 0.8551817144437913\n",
      "The time taken to predict is 30.0284 seconds\n"
     ]
    }
   ],
   "source": [
    "# Single Query \n",
    "acc = []\n",
    "start_time = time.perf_counter()\n",
    "for i in range(len(X_test)):\n",
    "    accuracy = get_accuracy(y_test[i], clf.predict(X_test.iloc[i:i+1,:]))\n",
    "    acc.append(accuracy)\n",
    "end_time = time.perf_counter()\n",
    "print(f\"The accuracy is: {np.mean(acc)}\")\n",
    "print(f\"The time taken to predict is {end_time - start_time:0.4f} seconds\")"
   ]
  },
  {
   "cell_type": "code",
   "execution_count": 106,
   "id": "86547d72",
   "metadata": {},
   "outputs": [
    {
     "name": "stdout",
     "output_type": "stream",
     "text": [
      "The accuracy is: 0.8551817144437913\n",
      "The time taken to predict is 0.0264 seconds\n"
     ]
    }
   ],
   "source": [
    "# Multiple Query \n",
    "start_time = time.perf_counter()\n",
    "accuracy = get_accuracy(y_test, clf.predict(X_test))\n",
    "end_time = time.perf_counter()\n",
    "print(f\"The accuracy is: {accuracy}\")\n",
    "print(f\"The time taken to predict is {end_time - start_time:0.4f} seconds\")"
   ]
  },
  {
   "cell_type": "markdown",
   "id": "bffdd151",
   "metadata": {},
   "source": [
    "## Single Model, Numeric "
   ]
  },
  {
   "cell_type": "code",
   "execution_count": 107,
   "id": "9696432c",
   "metadata": {},
   "outputs": [],
   "source": [
    "df = numeric_df.drop(drop_identifiers, axis = 1)\n",
    "df = df.drop(drop_camera, axis = 1)\n",
    "#df = df.drop(drop_time, axis = 1)\n",
    "df = df.dropna()\n",
    "\n",
    "X = df.drop(\"trafficCongestion\", axis = 1)\n",
    "Y = df.trafficCongestion.to_numpy()\n",
    "X_train, X_test, y_train, y_test = train_test_split(X, Y, test_size=0.25, random_state=42)"
   ]
  },
  {
   "cell_type": "code",
   "execution_count": 108,
   "id": "8d875bc9",
   "metadata": {},
   "outputs": [
    {
     "name": "stdout",
     "output_type": "stream",
     "text": [
      "Time to train decision tree is 0.2732\n"
     ]
    }
   ],
   "source": [
    "start_time = time.perf_counter()\n",
    "clf = DecisionTreeClassifier(random_state=0).fit(X_train, y_train)\n",
    "end_time = time.perf_counter()\n",
    "print(f\"Time to train decision tree is {end_time - start_time:0.4f}\")"
   ]
  },
  {
   "cell_type": "code",
   "execution_count": 109,
   "id": "d1670de8",
   "metadata": {},
   "outputs": [],
   "source": [
    "#plot_confusion(y_test, clf.predict(X_test))"
   ]
  },
  {
   "cell_type": "code",
   "execution_count": 112,
   "id": "b02f6514",
   "metadata": {},
   "outputs": [
    {
     "name": "stdout",
     "output_type": "stream",
     "text": [
      "The accuracy is: 0.5853591064697949\n",
      "The time taken to predict is 24.1547 seconds\n"
     ]
    }
   ],
   "source": [
    "# Single Query \n",
    "acc = []\n",
    "start_time = time.perf_counter()\n",
    "for i in range(len(X_test)):\n",
    "    accuracy = get_accuracy(y_test[i], clf.predict(X_test.iloc[i:i+1,:]))\n",
    "    acc.append(accuracy)\n",
    "end_time = time.perf_counter()\n",
    "print(f\"The accuracy is: {np.mean(acc)}\")\n",
    "print(f\"The time taken to predict is {end_time - start_time:0.4f} seconds\")"
   ]
  },
  {
   "cell_type": "code",
   "execution_count": 111,
   "id": "93a80399",
   "metadata": {},
   "outputs": [
    {
     "name": "stdout",
     "output_type": "stream",
     "text": [
      "The accuracy is: 0.5853591064697949\n",
      "The time taken to predict is 0.0126 seconds\n"
     ]
    }
   ],
   "source": [
    "# Mutliple Query \n",
    "start_time = time.perf_counter()\n",
    "accuracy = get_accuracy(y_test, clf.predict(X_test))\n",
    "end_time = time.perf_counter()\n",
    "print(f\"The accuracy is: {accuracy}\")\n",
    "print(f\"The time taken to predict is {end_time - start_time:0.4f} seconds\")"
   ]
  },
  {
   "cell_type": "markdown",
   "id": "85e382ec",
   "metadata": {},
   "source": [
    "# Multiple Models, dummy "
   ]
  },
  {
   "cell_type": "code",
   "execution_count": 121,
   "id": "9df32b02",
   "metadata": {},
   "outputs": [
    {
     "name": "stdout",
     "output_type": "stream",
     "text": [
      "Time to train all the decision trees are 0.6916\n"
     ]
    }
   ],
   "source": [
    "df = dummy_df.drop(drop_identifiers, axis = 1)\n",
    "#df = df.drop(drop_camera, axis = 1)\n",
    "df = df.drop(drop_time, axis = 1)\n",
    "df = df.dropna()\n",
    "\n",
    "X = df.drop(\"trafficCongestion\", axis = 1)\n",
    "Y = df.trafficCongestion.to_numpy()\n",
    "X_train, X_test, y_train, y_test = train_test_split(X, Y, test_size=0.25, random_state=42)\n",
    "\n",
    "all_camera = dummy_df.cam_id.unique()\n",
    "all_models = {}\n",
    "\n",
    "start_time = time.perf_counter()\n",
    "for cam in all_camera:\n",
    "    index = X_train.cam_id == cam\n",
    "    train_x = X_train[index]\n",
    "    train_y = y_train[index]\n",
    "    \n",
    "    clf = DecisionTreeClassifier(random_state=0).fit(train_x, train_y)\n",
    "    \n",
    "    all_models[cam] = clf\n",
    "\n",
    "end_time = time.perf_counter()\n",
    "print(f\"Time to train all the decision trees are {end_time - start_time:0.4f}\")"
   ]
  },
  {
   "cell_type": "code",
   "execution_count": 122,
   "id": "7c1a1653",
   "metadata": {},
   "outputs": [
    {
     "name": "stdout",
     "output_type": "stream",
     "text": [
      "The average accuracy is: 0.8551125557591894\n",
      "The total time taken to predict is 46.1182 seconds\n"
     ]
    }
   ],
   "source": [
    "# Sinle Query \n",
    "start_time = time.perf_counter()\n",
    "acc = []\n",
    "for cam in all_camera:\n",
    "    index = X_test.cam_id == cam\n",
    "    for i in range(sum(index)):\n",
    "        accuracy = get_accuracy(y_test[index][i], all_models[cam].predict(X_test[index].iloc[i:i+1,:]))\n",
    "        acc.append(accuracy)\n",
    "end_time = time.perf_counter()\n",
    "print(f\"The average accuracy is: {np.mean(acc)}\")\n",
    "print(f\"The total time taken to predict is {end_time - start_time:0.4f} seconds\")"
   ]
  },
  {
   "cell_type": "code",
   "execution_count": 123,
   "id": "3d7accf8",
   "metadata": {},
   "outputs": [
    {
     "name": "stdout",
     "output_type": "stream",
     "text": [
      "The average accuracy is: 0.8554581816540641\n",
      "The total time taken to predict is 0.1569 seconds\n"
     ]
    }
   ],
   "source": [
    "# Multiple Query \n",
    "start_time = time.perf_counter()\n",
    "acc = []\n",
    "for cam in all_camera:\n",
    "    index = X_test.cam_id == cam\n",
    "    accuracy = get_accuracy(y_test[index], all_models[cam].predict(X_test[index]))\n",
    "    acc.append(accuracy)\n",
    "end_time = time.perf_counter()\n",
    "print(f\"The average accuracy is: {np.mean(acc)}\")\n",
    "print(f\"The total time taken to predict is {end_time - start_time:0.4f} seconds\")"
   ]
  },
  {
   "cell_type": "markdown",
   "id": "3707f921",
   "metadata": {},
   "source": [
    "# Multiple Models Numeric"
   ]
  },
  {
   "cell_type": "code",
   "execution_count": 124,
   "id": "5cc55945",
   "metadata": {},
   "outputs": [
    {
     "name": "stdout",
     "output_type": "stream",
     "text": [
      "Time to train all the decision trees are 0.5419\n"
     ]
    }
   ],
   "source": [
    "df = numeric_df.drop(drop_identifiers, axis = 1)\n",
    "#df = df.drop(drop_camera, axis = 1)\n",
    "#df = df.drop(drop_time, axis = 1)\n",
    "df = df.dropna()\n",
    "\n",
    "X = df.drop(\"trafficCongestion\", axis = 1)\n",
    "Y = df.trafficCongestion.to_numpy()\n",
    "X_train, X_test, y_train, y_test = train_test_split(X, Y, test_size=0.25, random_state=42)\n",
    "\n",
    "all_camera = dummy_df.cam_id.unique()\n",
    "all_models = {}\n",
    "\n",
    "start_time = time.perf_counter()\n",
    "for cam in all_camera:\n",
    "    index = X_train.cam_id == cam\n",
    "    train_x = X_train[index]\n",
    "    train_y = y_train[index]\n",
    "    \n",
    "    clf = DecisionTreeClassifier(random_state=0).fit(train_x, train_y)\n",
    "    \n",
    "    all_models[cam] = clf\n",
    "\n",
    "end_time = time.perf_counter()\n",
    "print(f\"Time to train all the decision trees are {end_time - start_time:0.4f}\")"
   ]
  },
  {
   "cell_type": "code",
   "execution_count": 125,
   "id": "e787ec1f",
   "metadata": {},
   "outputs": [
    {
     "name": "stdout",
     "output_type": "stream",
     "text": [
      "The average accuracy is: 0.8498910750717521\n",
      "The total time taken to predict is 33.5791 seconds\n"
     ]
    }
   ],
   "source": [
    "# Single Query \n",
    "start_time = time.perf_counter()\n",
    "acc = []\n",
    "for cam in all_camera:\n",
    "    index = X_test.cam_id == cam\n",
    "    for i in range(sum(index)):\n",
    "        accuracy = get_accuracy(y_test[index][i], all_models[cam].predict(X_test[index].iloc[i:i+1,:]))\n",
    "        acc.append(accuracy)\n",
    "end_time = time.perf_counter()\n",
    "print(f\"The average accuracy is: {np.mean(acc)}\")\n",
    "print(f\"The total time taken to predict is {end_time - start_time:0.4f} seconds\")"
   ]
  },
  {
   "cell_type": "code",
   "execution_count": 126,
   "id": "4b9591a3",
   "metadata": {
    "scrolled": true
   },
   "outputs": [
    {
     "name": "stdout",
     "output_type": "stream",
     "text": [
      "The average accuracy is: 0.8495409168841885\n",
      "The total time taken to predict is 0.1183 seconds\n"
     ]
    }
   ],
   "source": [
    "# Multiple Query \n",
    "start_time = time.perf_counter()\n",
    "acc = []\n",
    "for cam in all_camera:\n",
    "    index = X_test.cam_id == cam\n",
    "    accuracy = get_accuracy(y_test[index], all_models[cam].predict(X_test[index]))\n",
    "    acc.append(accuracy)\n",
    "end_time = time.perf_counter()\n",
    "print(f\"The average accuracy is: {np.mean(acc)}\")\n",
    "print(f\"The total time taken to predict is {end_time - start_time:0.4f} seconds\")"
   ]
  },
  {
   "cell_type": "markdown",
   "id": "5f38b8da",
   "metadata": {},
   "source": [
    "# The rest below can ignore "
   ]
  },
  {
   "cell_type": "markdown",
   "id": "7c1b09f6",
   "metadata": {},
   "source": [
    "# Model Attempt 1 \n",
    "For ease of modelling, i will only deal with a logisitic linear model consisiting only of the numerical variables. For ease of modelling, any rows with NA will be dropped. No distingushing factor of the stations will alos be considered "
   ]
  },
  {
   "cell_type": "code",
   "execution_count": 9,
   "id": "5967dbbe",
   "metadata": {},
   "outputs": [],
   "source": [
    "X = data.drop(\"trafficCongestion\", axis = 1)\n",
    "Y = data.trafficCongestion.to_numpy()\n",
    "X_train, X_test, y_train, y_test = train_test_split(X, Y, test_size=0.25, random_state=42)"
   ]
  },
  {
   "cell_type": "code",
   "execution_count": 26,
   "id": "689a5dfb",
   "metadata": {},
   "outputs": [
    {
     "name": "stdout",
     "output_type": "stream",
     "text": [
      "Time to train Logsitic Regression is 144.6573\n"
     ]
    }
   ],
   "source": [
    "start_time = time.perf_counter()\n",
    "clf = LogisticRegression(random_state=0, max_iter = 10000).fit(X_train, y_train)\n",
    "end_time = time.perf_counter()\n",
    "print(f\"Time to train Logsitic Regression is {end_time - start_time:0.4f} seconds\")"
   ]
  },
  {
   "cell_type": "code",
   "execution_count": 12,
   "id": "7056ada6",
   "metadata": {},
   "outputs": [
    {
     "data": {
      "image/png": "[encoded data removed]",
      "text/plain": [
       "<Figure size 432x288 with 1 Axes>"
      ]
     },
     "metadata": {
      "needs_background": "light"
     },
     "output_type": "display_data"
    }
   ],
   "source": [
    "plot_confusion(y_test, clf.predict(X_test))"
   ]
  },
  {
   "cell_type": "code",
   "execution_count": 27,
   "id": "77461739",
   "metadata": {},
   "outputs": [
    {
     "name": "stdout",
     "output_type": "stream",
     "text": [
      "The accuracy is: 0.5919983401915696\n",
      "The time taken to predict is 0.0124 seconds\n"
     ]
    }
   ],
   "source": [
    "start_time = time.perf_counter()\n",
    "accuracy = get_accuracy(y_test, clf.predict(X_test))\n",
    "end_time = time.perf_counter()\n",
    "print(f\"The accuracy is: {accuracy}\")\n",
    "print(f\"The time taken to predict is {end_time - start_time:0.4f} seconds\")"
   ]
  },
  {
   "cell_type": "markdown",
   "id": "ea7c1dd8",
   "metadata": {},
   "source": [
    "# Decision Tree\n",
    "\n",
    "So \"fresh start\" and ignore the rest.   "
   ]
  },
  {
   "cell_type": "code",
   "execution_count": 40,
   "id": "d80621b0",
   "metadata": {},
   "outputs": [],
   "source": [
    "X = df.drop(\"trafficCongestion\", axis = 1)\n",
    "Y = df.trafficCongestion.to_numpy()\n",
    "\n",
    "X_train, X_test, y_train, y_test = train_test_split(X, Y, test_size=0.25, random_state=42)"
   ]
  },
  {
   "cell_type": "code",
   "execution_count": null,
   "id": "2593fbb2",
   "metadata": {},
   "outputs": [],
   "source": []
  },
  {
   "cell_type": "code",
   "execution_count": 41,
   "id": "c5718b81",
   "metadata": {},
   "outputs": [
    {
     "ename": "TypeError",
     "evalue": "The DType <class 'numpy.dtype[int64]'> could not be promoted by <class 'numpy.dtype[datetime64]'>. This means that no common DType exists for the given inputs. For example they cannot be stored in a single array unless the dtype is `object`. The full list of DTypes is: (<class 'numpy.dtype[datetime64]'>, <class 'numpy.dtype[int64]'>, <class 'numpy.dtype[object_]'>, <class 'numpy.dtype[object_]'>, <class 'numpy.dtype[object_]'>, <class 'numpy.dtype[object_]'>, <class 'numpy.dtype[int64]'>, <class 'numpy.dtype[float64]'>, <class 'numpy.dtype[float64]'>, <class 'numpy.dtype[float64]'>, <class 'numpy.dtype[float64]'>, <class 'numpy.dtype[float64]'>, <class 'numpy.dtype[object_]'>, <class 'numpy.dtype[object_]'>, <class 'numpy.dtype[object_]'>, <class 'numpy.dtype[object_]'>, <class 'numpy.dtype[object_]'>, <class 'numpy.dtype[int64]'>, <class 'numpy.dtype[int64]'>, <class 'numpy.dtype[int64]'>, <class 'numpy.dtype[int64]'>, <class 'numpy.dtype[int64]'>, <class 'numpy.dtype[int64]'>, <class 'numpy.dtype[int64]'>, <class 'numpy.dtype[int64]'>, <class 'numpy.dtype[int64]'>, <class 'numpy.dtype[int64]'>, <class 'numpy.dtype[int64]'>, <class 'numpy.dtype[int64]'>, <class 'numpy.dtype[int64]'>, <class 'numpy.dtype[int64]'>, <class 'numpy.dtype[int64]'>, <class 'numpy.dtype[int64]'>, <class 'numpy.dtype[int64]'>, <class 'numpy.dtype[int64]'>, <class 'numpy.dtype[int64]'>, <class 'numpy.dtype[int64]'>, <class 'numpy.dtype[int64]'>, <class 'numpy.dtype[int64]'>, <class 'numpy.dtype[int64]'>, <class 'numpy.dtype[int64]'>, <class 'numpy.dtype[object_]'>, <class 'numpy.dtype[object_]'>, <class 'numpy.dtype[object_]'>, <class 'numpy.dtype[object_]'>, <class 'numpy.dtype[datetime64]'>, <class 'numpy.dtype[datetime64]'>, <class 'numpy.dtype[object_]'>, <class 'numpy.dtype[int64]'>, <class 'numpy.dtype[int64]'>, <class 'numpy.dtype[int64]'>, <class 'numpy.dtype[int64]'>, <class 'numpy.dtype[int64]'>, <class 'numpy.dtype[int64]'>, <class 'numpy.dtype[object_]'>, <class 'numpy.dtype[object_]'>, <class 'numpy.dtype[object_]'>, <class 'numpy.dtype[object_]'>, <class 'numpy.dtype[object_]'>, <class 'numpy.dtype[object_]'>, <class 'numpy.dtype[object_]'>, <class 'numpy.dtype[object_]'>, <class 'numpy.dtype[datetime64]'>, <class 'numpy.dtype[datetime64]'>, <class 'numpy.dtype[object_]'>, <class 'numpy.dtype[datetime64]'>, <class 'numpy.dtype[datetime64]'>, <class 'numpy.dtype[object_]'>, <class 'numpy.dtype[datetime64]'>, <class 'numpy.dtype[datetime64]'>, <class 'numpy.dtype[object_]'>)",
     "output_type": "error",
     "traceback": [
      "\u001b[1;31m---------------------------------------------------------------------------\u001b[0m",
      "\u001b[1;31mTypeError\u001b[0m                                 Traceback (most recent call last)",
      "Input \u001b[1;32mIn [41]\u001b[0m, in \u001b[0;36m<cell line: 2>\u001b[1;34m()\u001b[0m\n\u001b[0;32m      1\u001b[0m start_time \u001b[38;5;241m=\u001b[39m time\u001b[38;5;241m.\u001b[39mperf_counter()\n\u001b[1;32m----> 2\u001b[0m clf \u001b[38;5;241m=\u001b[39m \u001b[43mDecisionTreeClassifier\u001b[49m\u001b[43m(\u001b[49m\u001b[43mrandom_state\u001b[49m\u001b[38;5;241;43m=\u001b[39;49m\u001b[38;5;241;43m0\u001b[39;49m\u001b[43m)\u001b[49m\u001b[38;5;241;43m.\u001b[39;49m\u001b[43mfit\u001b[49m\u001b[43m(\u001b[49m\u001b[43mX_train\u001b[49m\u001b[43m,\u001b[49m\u001b[43m \u001b[49m\u001b[43my_train\u001b[49m\u001b[43m)\u001b[49m\n\u001b[0;32m      3\u001b[0m end_time \u001b[38;5;241m=\u001b[39m time\u001b[38;5;241m.\u001b[39mperf_counter()\n\u001b[0;32m      4\u001b[0m \u001b[38;5;28mprint\u001b[39m(\u001b[38;5;124mf\u001b[39m\u001b[38;5;124m\"\u001b[39m\u001b[38;5;124mTime to train decision tree is \u001b[39m\u001b[38;5;132;01m{\u001b[39;00mend_time \u001b[38;5;241m-\u001b[39m start_time\u001b[38;5;132;01m:\u001b[39;00m\u001b[38;5;124m0.4f\u001b[39m\u001b[38;5;132;01m}\u001b[39;00m\u001b[38;5;124m\"\u001b[39m)\n",
      "File \u001b[1;32mc:\\users\\vik\\desktop\\cs 4225\\project\\traffic-predict\\.venv\\lib\\site-packages\\sklearn\\tree\\_classes.py:937\u001b[0m, in \u001b[0;36mDecisionTreeClassifier.fit\u001b[1;34m(self, X, y, sample_weight, check_input, X_idx_sorted)\u001b[0m\n\u001b[0;32m    899\u001b[0m \u001b[38;5;28;01mdef\u001b[39;00m \u001b[38;5;21mfit\u001b[39m(\n\u001b[0;32m    900\u001b[0m     \u001b[38;5;28mself\u001b[39m, X, y, sample_weight\u001b[38;5;241m=\u001b[39m\u001b[38;5;28;01mNone\u001b[39;00m, check_input\u001b[38;5;241m=\u001b[39m\u001b[38;5;28;01mTrue\u001b[39;00m, X_idx_sorted\u001b[38;5;241m=\u001b[39m\u001b[38;5;124m\"\u001b[39m\u001b[38;5;124mdeprecated\u001b[39m\u001b[38;5;124m\"\u001b[39m\n\u001b[0;32m    901\u001b[0m ):\n\u001b[0;32m    902\u001b[0m     \u001b[38;5;124;03m\"\"\"Build a decision tree classifier from the training set (X, y).\u001b[39;00m\n\u001b[0;32m    903\u001b[0m \n\u001b[0;32m    904\u001b[0m \u001b[38;5;124;03m    Parameters\u001b[39;00m\n\u001b[1;32m   (...)\u001b[0m\n\u001b[0;32m    934\u001b[0m \u001b[38;5;124;03m        Fitted estimator.\u001b[39;00m\n\u001b[0;32m    935\u001b[0m \u001b[38;5;124;03m    \"\"\"\u001b[39;00m\n\u001b[1;32m--> 937\u001b[0m     \u001b[38;5;28;43msuper\u001b[39;49m\u001b[43m(\u001b[49m\u001b[43m)\u001b[49m\u001b[38;5;241;43m.\u001b[39;49m\u001b[43mfit\u001b[49m\u001b[43m(\u001b[49m\n\u001b[0;32m    938\u001b[0m \u001b[43m        \u001b[49m\u001b[43mX\u001b[49m\u001b[43m,\u001b[49m\n\u001b[0;32m    939\u001b[0m \u001b[43m        \u001b[49m\u001b[43my\u001b[49m\u001b[43m,\u001b[49m\n\u001b[0;32m    940\u001b[0m \u001b[43m        \u001b[49m\u001b[43msample_weight\u001b[49m\u001b[38;5;241;43m=\u001b[39;49m\u001b[43msample_weight\u001b[49m\u001b[43m,\u001b[49m\n\u001b[0;32m    941\u001b[0m \u001b[43m        \u001b[49m\u001b[43mcheck_input\u001b[49m\u001b[38;5;241;43m=\u001b[39;49m\u001b[43mcheck_input\u001b[49m\u001b[43m,\u001b[49m\n\u001b[0;32m    942\u001b[0m \u001b[43m        \u001b[49m\u001b[43mX_idx_sorted\u001b[49m\u001b[38;5;241;43m=\u001b[39;49m\u001b[43mX_idx_sorted\u001b[49m\u001b[43m,\u001b[49m\n\u001b[0;32m    943\u001b[0m \u001b[43m    \u001b[49m\u001b[43m)\u001b[49m\n\u001b[0;32m    944\u001b[0m     \u001b[38;5;28;01mreturn\u001b[39;00m \u001b[38;5;28mself\u001b[39m\n",
      "File \u001b[1;32mc:\\users\\vik\\desktop\\cs 4225\\project\\traffic-predict\\.venv\\lib\\site-packages\\sklearn\\tree\\_classes.py:165\u001b[0m, in \u001b[0;36mBaseDecisionTree.fit\u001b[1;34m(self, X, y, sample_weight, check_input, X_idx_sorted)\u001b[0m\n\u001b[0;32m    163\u001b[0m check_X_params \u001b[38;5;241m=\u001b[39m \u001b[38;5;28mdict\u001b[39m(dtype\u001b[38;5;241m=\u001b[39mDTYPE, accept_sparse\u001b[38;5;241m=\u001b[39m\u001b[38;5;124m\"\u001b[39m\u001b[38;5;124mcsc\u001b[39m\u001b[38;5;124m\"\u001b[39m)\n\u001b[0;32m    164\u001b[0m check_y_params \u001b[38;5;241m=\u001b[39m \u001b[38;5;28mdict\u001b[39m(ensure_2d\u001b[38;5;241m=\u001b[39m\u001b[38;5;28;01mFalse\u001b[39;00m, dtype\u001b[38;5;241m=\u001b[39m\u001b[38;5;28;01mNone\u001b[39;00m)\n\u001b[1;32m--> 165\u001b[0m X, y \u001b[38;5;241m=\u001b[39m \u001b[38;5;28;43mself\u001b[39;49m\u001b[38;5;241;43m.\u001b[39;49m\u001b[43m_validate_data\u001b[49m\u001b[43m(\u001b[49m\n\u001b[0;32m    166\u001b[0m \u001b[43m    \u001b[49m\u001b[43mX\u001b[49m\u001b[43m,\u001b[49m\u001b[43m \u001b[49m\u001b[43my\u001b[49m\u001b[43m,\u001b[49m\u001b[43m \u001b[49m\u001b[43mvalidate_separately\u001b[49m\u001b[38;5;241;43m=\u001b[39;49m\u001b[43m(\u001b[49m\u001b[43mcheck_X_params\u001b[49m\u001b[43m,\u001b[49m\u001b[43m \u001b[49m\u001b[43mcheck_y_params\u001b[49m\u001b[43m)\u001b[49m\n\u001b[0;32m    167\u001b[0m \u001b[43m\u001b[49m\u001b[43m)\u001b[49m\n\u001b[0;32m    168\u001b[0m \u001b[38;5;28;01mif\u001b[39;00m issparse(X):\n\u001b[0;32m    169\u001b[0m     X\u001b[38;5;241m.\u001b[39msort_indices()\n",
      "File \u001b[1;32mc:\\users\\vik\\desktop\\cs 4225\\project\\traffic-predict\\.venv\\lib\\site-packages\\sklearn\\base.py:578\u001b[0m, in \u001b[0;36mBaseEstimator._validate_data\u001b[1;34m(self, X, y, reset, validate_separately, **check_params)\u001b[0m\n\u001b[0;32m    572\u001b[0m \u001b[38;5;28;01mif\u001b[39;00m validate_separately:\n\u001b[0;32m    573\u001b[0m     \u001b[38;5;66;03m# We need this because some estimators validate X and y\u001b[39;00m\n\u001b[0;32m    574\u001b[0m     \u001b[38;5;66;03m# separately, and in general, separately calling check_array()\u001b[39;00m\n\u001b[0;32m    575\u001b[0m     \u001b[38;5;66;03m# on X and y isn't equivalent to just calling check_X_y()\u001b[39;00m\n\u001b[0;32m    576\u001b[0m     \u001b[38;5;66;03m# :(\u001b[39;00m\n\u001b[0;32m    577\u001b[0m     check_X_params, check_y_params \u001b[38;5;241m=\u001b[39m validate_separately\n\u001b[1;32m--> 578\u001b[0m     X \u001b[38;5;241m=\u001b[39m \u001b[43mcheck_array\u001b[49m\u001b[43m(\u001b[49m\u001b[43mX\u001b[49m\u001b[43m,\u001b[49m\u001b[43m \u001b[49m\u001b[38;5;241;43m*\u001b[39;49m\u001b[38;5;241;43m*\u001b[39;49m\u001b[43mcheck_X_params\u001b[49m\u001b[43m)\u001b[49m\n\u001b[0;32m    579\u001b[0m     y \u001b[38;5;241m=\u001b[39m check_array(y, \u001b[38;5;241m*\u001b[39m\u001b[38;5;241m*\u001b[39mcheck_y_params)\n\u001b[0;32m    580\u001b[0m \u001b[38;5;28;01melse\u001b[39;00m:\n",
      "File \u001b[1;32mc:\\users\\vik\\desktop\\cs 4225\\project\\traffic-predict\\.venv\\lib\\site-packages\\sklearn\\utils\\validation.py:665\u001b[0m, in \u001b[0;36mcheck_array\u001b[1;34m(array, accept_sparse, accept_large_sparse, dtype, order, copy, force_all_finite, ensure_2d, allow_nd, ensure_min_samples, ensure_min_features, estimator)\u001b[0m\n\u001b[0;32m    662\u001b[0m                     has_pd_integer_array \u001b[38;5;241m=\u001b[39m \u001b[38;5;28;01mTrue\u001b[39;00m\n\u001b[0;32m    664\u001b[0m     \u001b[38;5;28;01mif\u001b[39;00m \u001b[38;5;28mall\u001b[39m(\u001b[38;5;28misinstance\u001b[39m(dtype, np\u001b[38;5;241m.\u001b[39mdtype) \u001b[38;5;28;01mfor\u001b[39;00m dtype \u001b[38;5;129;01min\u001b[39;00m dtypes_orig):\n\u001b[1;32m--> 665\u001b[0m         dtype_orig \u001b[38;5;241m=\u001b[39m \u001b[43mnp\u001b[49m\u001b[38;5;241;43m.\u001b[39;49m\u001b[43mresult_type\u001b[49m\u001b[43m(\u001b[49m\u001b[38;5;241;43m*\u001b[39;49m\u001b[43mdtypes_orig\u001b[49m\u001b[43m)\u001b[49m\n\u001b[0;32m    667\u001b[0m \u001b[38;5;28;01mif\u001b[39;00m dtype_numeric:\n\u001b[0;32m    668\u001b[0m     \u001b[38;5;28;01mif\u001b[39;00m dtype_orig \u001b[38;5;129;01mis\u001b[39;00m \u001b[38;5;129;01mnot\u001b[39;00m \u001b[38;5;28;01mNone\u001b[39;00m \u001b[38;5;129;01mand\u001b[39;00m dtype_orig\u001b[38;5;241m.\u001b[39mkind \u001b[38;5;241m==\u001b[39m \u001b[38;5;124m\"\u001b[39m\u001b[38;5;124mO\u001b[39m\u001b[38;5;124m\"\u001b[39m:\n\u001b[0;32m    669\u001b[0m         \u001b[38;5;66;03m# if input is object, convert to float.\u001b[39;00m\n",
      "File \u001b[1;32m<__array_function__ internals>:180\u001b[0m, in \u001b[0;36mresult_type\u001b[1;34m(*args, **kwargs)\u001b[0m\n",
      "\u001b[1;31mTypeError\u001b[0m: The DType <class 'numpy.dtype[int64]'> could not be promoted by <class 'numpy.dtype[datetime64]'>. This means that no common DType exists for the given inputs. For example they cannot be stored in a single array unless the dtype is `object`. The full list of DTypes is: (<class 'numpy.dtype[datetime64]'>, <class 'numpy.dtype[int64]'>, <class 'numpy.dtype[object_]'>, <class 'numpy.dtype[object_]'>, <class 'numpy.dtype[object_]'>, <class 'numpy.dtype[object_]'>, <class 'numpy.dtype[int64]'>, <class 'numpy.dtype[float64]'>, <class 'numpy.dtype[float64]'>, <class 'numpy.dtype[float64]'>, <class 'numpy.dtype[float64]'>, <class 'numpy.dtype[float64]'>, <class 'numpy.dtype[object_]'>, <class 'numpy.dtype[object_]'>, <class 'numpy.dtype[object_]'>, <class 'numpy.dtype[object_]'>, <class 'numpy.dtype[object_]'>, <class 'numpy.dtype[int64]'>, <class 'numpy.dtype[int64]'>, <class 'numpy.dtype[int64]'>, <class 'numpy.dtype[int64]'>, <class 'numpy.dtype[int64]'>, <class 'numpy.dtype[int64]'>, <class 'numpy.dtype[int64]'>, <class 'numpy.dtype[int64]'>, <class 'numpy.dtype[int64]'>, <class 'numpy.dtype[int64]'>, <class 'numpy.dtype[int64]'>, <class 'numpy.dtype[int64]'>, <class 'numpy.dtype[int64]'>, <class 'numpy.dtype[int64]'>, <class 'numpy.dtype[int64]'>, <class 'numpy.dtype[int64]'>, <class 'numpy.dtype[int64]'>, <class 'numpy.dtype[int64]'>, <class 'numpy.dtype[int64]'>, <class 'numpy.dtype[int64]'>, <class 'numpy.dtype[int64]'>, <class 'numpy.dtype[int64]'>, <class 'numpy.dtype[int64]'>, <class 'numpy.dtype[int64]'>, <class 'numpy.dtype[object_]'>, <class 'numpy.dtype[object_]'>, <class 'numpy.dtype[object_]'>, <class 'numpy.dtype[object_]'>, <class 'numpy.dtype[datetime64]'>, <class 'numpy.dtype[datetime64]'>, <class 'numpy.dtype[object_]'>, <class 'numpy.dtype[int64]'>, <class 'numpy.dtype[int64]'>, <class 'numpy.dtype[int64]'>, <class 'numpy.dtype[int64]'>, <class 'numpy.dtype[int64]'>, <class 'numpy.dtype[int64]'>, <class 'numpy.dtype[object_]'>, <class 'numpy.dtype[object_]'>, <class 'numpy.dtype[object_]'>, <class 'numpy.dtype[object_]'>, <class 'numpy.dtype[object_]'>, <class 'numpy.dtype[object_]'>, <class 'numpy.dtype[object_]'>, <class 'numpy.dtype[object_]'>, <class 'numpy.dtype[datetime64]'>, <class 'numpy.dtype[datetime64]'>, <class 'numpy.dtype[object_]'>, <class 'numpy.dtype[datetime64]'>, <class 'numpy.dtype[datetime64]'>, <class 'numpy.dtype[object_]'>, <class 'numpy.dtype[datetime64]'>, <class 'numpy.dtype[datetime64]'>, <class 'numpy.dtype[object_]'>)"
     ]
    }
   ],
   "source": [
    "start_time = time.perf_counter()\n",
    "clf = DecisionTreeClassifier(random_state=0).fit(X_train, y_train)\n",
    "end_time = time.perf_counter()\n",
    "print(f\"Time to train decision tree is {end_time - start_time:0.4f}\")"
   ]
  },
  {
   "cell_type": "code",
   "execution_count": 14,
   "id": "3ed98218",
   "metadata": {},
   "outputs": [
    {
     "data": {
      "image/png": "[encoded data removed]",
      "text/plain": [
       "<Figure size 432x288 with 1 Axes>"
      ]
     },
     "metadata": {
      "needs_background": "light"
     },
     "output_type": "display_data"
    }
   ],
   "source": [
    "plot_confusion(y_test, clf.predict(X_test))"
   ]
  },
  {
   "cell_type": "code",
   "execution_count": 16,
   "id": "62338f58",
   "metadata": {},
   "outputs": [
    {
     "data": {
      "text/plain": [
       "0.8527611604827277"
      ]
     },
     "execution_count": 16,
     "metadata": {},
     "output_type": "execute_result"
    }
   ],
   "source": [
    "get_accuracy(y_test, clf.predict(X_test))"
   ]
  },
  {
   "cell_type": "code",
   "execution_count": 17,
   "id": "353a4378",
   "metadata": {
    "collapsed": true
   },
   "outputs": [
    {
     "name": "stdout",
     "output_type": "stream",
     "text": [
      "Error in callback <function flush_figures at 0x000002B6535FD4C0> (for post_execute):\n"
     ]
    },
    {
     "ename": "KeyboardInterrupt",
     "evalue": "",
     "output_type": "error",
     "traceback": [
      "\u001b[1;31m---------------------------------------------------------------------------\u001b[0m",
      "\u001b[1;31mKeyboardInterrupt\u001b[0m                         Traceback (most recent call last)",
      "File \u001b[1;32mc:\\users\\vik\\desktop\\cs 4225\\project\\traffic-predict\\.venv\\lib\\site-packages\\matplotlib_inline\\backend_inline.py:121\u001b[0m, in \u001b[0;36mflush_figures\u001b[1;34m()\u001b[0m\n\u001b[0;32m    118\u001b[0m \u001b[38;5;28;01mif\u001b[39;00m InlineBackend\u001b[38;5;241m.\u001b[39minstance()\u001b[38;5;241m.\u001b[39mclose_figures:\n\u001b[0;32m    119\u001b[0m     \u001b[38;5;66;03m# ignore the tracking, just draw and close all figures\u001b[39;00m\n\u001b[0;32m    120\u001b[0m     \u001b[38;5;28;01mtry\u001b[39;00m:\n\u001b[1;32m--> 121\u001b[0m         \u001b[38;5;28;01mreturn\u001b[39;00m \u001b[43mshow\u001b[49m\u001b[43m(\u001b[49m\u001b[38;5;28;43;01mTrue\u001b[39;49;00m\u001b[43m)\u001b[49m\n\u001b[0;32m    122\u001b[0m     \u001b[38;5;28;01mexcept\u001b[39;00m \u001b[38;5;167;01mException\u001b[39;00m \u001b[38;5;28;01mas\u001b[39;00m e:\n\u001b[0;32m    123\u001b[0m         \u001b[38;5;66;03m# safely show traceback if in IPython, else raise\u001b[39;00m\n\u001b[0;32m    124\u001b[0m         ip \u001b[38;5;241m=\u001b[39m get_ipython()\n",
      "File \u001b[1;32mc:\\users\\vik\\desktop\\cs 4225\\project\\traffic-predict\\.venv\\lib\\site-packages\\matplotlib_inline\\backend_inline.py:41\u001b[0m, in \u001b[0;36mshow\u001b[1;34m(close, block)\u001b[0m\n\u001b[0;32m     39\u001b[0m \u001b[38;5;28;01mtry\u001b[39;00m:\n\u001b[0;32m     40\u001b[0m     \u001b[38;5;28;01mfor\u001b[39;00m figure_manager \u001b[38;5;129;01min\u001b[39;00m Gcf\u001b[38;5;241m.\u001b[39mget_all_fig_managers():\n\u001b[1;32m---> 41\u001b[0m         \u001b[43mdisplay\u001b[49m\u001b[43m(\u001b[49m\n\u001b[0;32m     42\u001b[0m \u001b[43m            \u001b[49m\u001b[43mfigure_manager\u001b[49m\u001b[38;5;241;43m.\u001b[39;49m\u001b[43mcanvas\u001b[49m\u001b[38;5;241;43m.\u001b[39;49m\u001b[43mfigure\u001b[49m\u001b[43m,\u001b[49m\n\u001b[0;32m     43\u001b[0m \u001b[43m            \u001b[49m\u001b[43mmetadata\u001b[49m\u001b[38;5;241;43m=\u001b[39;49m\u001b[43m_fetch_figure_metadata\u001b[49m\u001b[43m(\u001b[49m\u001b[43mfigure_manager\u001b[49m\u001b[38;5;241;43m.\u001b[39;49m\u001b[43mcanvas\u001b[49m\u001b[38;5;241;43m.\u001b[39;49m\u001b[43mfigure\u001b[49m\u001b[43m)\u001b[49m\n\u001b[0;32m     44\u001b[0m \u001b[43m        \u001b[49m\u001b[43m)\u001b[49m\n\u001b[0;32m     45\u001b[0m \u001b[38;5;28;01mfinally\u001b[39;00m:\n\u001b[0;32m     46\u001b[0m     show\u001b[38;5;241m.\u001b[39m_to_draw \u001b[38;5;241m=\u001b[39m []\n",
      "File \u001b[1;32mc:\\users\\vik\\desktop\\cs 4225\\project\\traffic-predict\\.venv\\lib\\site-packages\\IPython\\core\\display_functions.py:298\u001b[0m, in \u001b[0;36mdisplay\u001b[1;34m(include, exclude, metadata, transient, display_id, raw, clear, *objs, **kwargs)\u001b[0m\n\u001b[0;32m    296\u001b[0m     publish_display_data(data\u001b[38;5;241m=\u001b[39mobj, metadata\u001b[38;5;241m=\u001b[39mmetadata, \u001b[38;5;241m*\u001b[39m\u001b[38;5;241m*\u001b[39mkwargs)\n\u001b[0;32m    297\u001b[0m \u001b[38;5;28;01melse\u001b[39;00m:\n\u001b[1;32m--> 298\u001b[0m     format_dict, md_dict \u001b[38;5;241m=\u001b[39m \u001b[38;5;28;43mformat\u001b[39;49m\u001b[43m(\u001b[49m\u001b[43mobj\u001b[49m\u001b[43m,\u001b[49m\u001b[43m \u001b[49m\u001b[43minclude\u001b[49m\u001b[38;5;241;43m=\u001b[39;49m\u001b[43minclude\u001b[49m\u001b[43m,\u001b[49m\u001b[43m \u001b[49m\u001b[43mexclude\u001b[49m\u001b[38;5;241;43m=\u001b[39;49m\u001b[43mexclude\u001b[49m\u001b[43m)\u001b[49m\n\u001b[0;32m    299\u001b[0m     \u001b[38;5;28;01mif\u001b[39;00m \u001b[38;5;129;01mnot\u001b[39;00m format_dict:\n\u001b[0;32m    300\u001b[0m         \u001b[38;5;66;03m# nothing to display (e.g. _ipython_display_ took over)\u001b[39;00m\n\u001b[0;32m    301\u001b[0m         \u001b[38;5;28;01mcontinue\u001b[39;00m\n",
      "File \u001b[1;32mc:\\users\\vik\\desktop\\cs 4225\\project\\traffic-predict\\.venv\\lib\\site-packages\\IPython\\core\\formatters.py:178\u001b[0m, in \u001b[0;36mDisplayFormatter.format\u001b[1;34m(self, obj, include, exclude)\u001b[0m\n\u001b[0;32m    176\u001b[0m md \u001b[38;5;241m=\u001b[39m \u001b[38;5;28;01mNone\u001b[39;00m\n\u001b[0;32m    177\u001b[0m \u001b[38;5;28;01mtry\u001b[39;00m:\n\u001b[1;32m--> 178\u001b[0m     data \u001b[38;5;241m=\u001b[39m \u001b[43mformatter\u001b[49m\u001b[43m(\u001b[49m\u001b[43mobj\u001b[49m\u001b[43m)\u001b[49m\n\u001b[0;32m    179\u001b[0m \u001b[38;5;28;01mexcept\u001b[39;00m:\n\u001b[0;32m    180\u001b[0m     \u001b[38;5;66;03m# FIXME: log the exception\u001b[39;00m\n\u001b[0;32m    181\u001b[0m     \u001b[38;5;28;01mraise\u001b[39;00m\n",
      "File \u001b[1;32mc:\\users\\vik\\desktop\\cs 4225\\project\\traffic-predict\\.venv\\lib\\site-packages\\decorator.py:232\u001b[0m, in \u001b[0;36mdecorate.<locals>.fun\u001b[1;34m(*args, **kw)\u001b[0m\n\u001b[0;32m    230\u001b[0m \u001b[38;5;28;01mif\u001b[39;00m \u001b[38;5;129;01mnot\u001b[39;00m kwsyntax:\n\u001b[0;32m    231\u001b[0m     args, kw \u001b[38;5;241m=\u001b[39m fix(args, kw, sig)\n\u001b[1;32m--> 232\u001b[0m \u001b[38;5;28;01mreturn\u001b[39;00m \u001b[43mcaller\u001b[49m\u001b[43m(\u001b[49m\u001b[43mfunc\u001b[49m\u001b[43m,\u001b[49m\u001b[43m \u001b[49m\u001b[38;5;241;43m*\u001b[39;49m\u001b[43m(\u001b[49m\u001b[43mextras\u001b[49m\u001b[43m \u001b[49m\u001b[38;5;241;43m+\u001b[39;49m\u001b[43m \u001b[49m\u001b[43margs\u001b[49m\u001b[43m)\u001b[49m\u001b[43m,\u001b[49m\u001b[43m \u001b[49m\u001b[38;5;241;43m*\u001b[39;49m\u001b[38;5;241;43m*\u001b[39;49m\u001b[43mkw\u001b[49m\u001b[43m)\u001b[49m\n",
      "File \u001b[1;32mc:\\users\\vik\\desktop\\cs 4225\\project\\traffic-predict\\.venv\\lib\\site-packages\\IPython\\core\\formatters.py:222\u001b[0m, in \u001b[0;36mcatch_format_error\u001b[1;34m(method, self, *args, **kwargs)\u001b[0m\n\u001b[0;32m    220\u001b[0m \u001b[38;5;124;03m\"\"\"show traceback on failed format call\"\"\"\u001b[39;00m\n\u001b[0;32m    221\u001b[0m \u001b[38;5;28;01mtry\u001b[39;00m:\n\u001b[1;32m--> 222\u001b[0m     r \u001b[38;5;241m=\u001b[39m \u001b[43mmethod\u001b[49m\u001b[43m(\u001b[49m\u001b[38;5;28;43mself\u001b[39;49m\u001b[43m,\u001b[49m\u001b[43m \u001b[49m\u001b[38;5;241;43m*\u001b[39;49m\u001b[43margs\u001b[49m\u001b[43m,\u001b[49m\u001b[43m \u001b[49m\u001b[38;5;241;43m*\u001b[39;49m\u001b[38;5;241;43m*\u001b[39;49m\u001b[43mkwargs\u001b[49m\u001b[43m)\u001b[49m\n\u001b[0;32m    223\u001b[0m \u001b[38;5;28;01mexcept\u001b[39;00m \u001b[38;5;167;01mNotImplementedError\u001b[39;00m:\n\u001b[0;32m    224\u001b[0m     \u001b[38;5;66;03m# don't warn on NotImplementedErrors\u001b[39;00m\n\u001b[0;32m    225\u001b[0m     \u001b[38;5;28;01mreturn\u001b[39;00m \u001b[38;5;28mself\u001b[39m\u001b[38;5;241m.\u001b[39m_check_return(\u001b[38;5;28;01mNone\u001b[39;00m, args[\u001b[38;5;241m0\u001b[39m])\n",
      "File \u001b[1;32mc:\\users\\vik\\desktop\\cs 4225\\project\\traffic-predict\\.venv\\lib\\site-packages\\IPython\\core\\formatters.py:339\u001b[0m, in \u001b[0;36mBaseFormatter.__call__\u001b[1;34m(self, obj)\u001b[0m\n\u001b[0;32m    337\u001b[0m     \u001b[38;5;28;01mpass\u001b[39;00m\n\u001b[0;32m    338\u001b[0m \u001b[38;5;28;01melse\u001b[39;00m:\n\u001b[1;32m--> 339\u001b[0m     \u001b[38;5;28;01mreturn\u001b[39;00m \u001b[43mprinter\u001b[49m\u001b[43m(\u001b[49m\u001b[43mobj\u001b[49m\u001b[43m)\u001b[49m\n\u001b[0;32m    340\u001b[0m \u001b[38;5;66;03m# Finally look for special method names\u001b[39;00m\n\u001b[0;32m    341\u001b[0m method \u001b[38;5;241m=\u001b[39m get_real_method(obj, \u001b[38;5;28mself\u001b[39m\u001b[38;5;241m.\u001b[39mprint_method)\n",
      "File \u001b[1;32mc:\\users\\vik\\desktop\\cs 4225\\project\\traffic-predict\\.venv\\lib\\site-packages\\IPython\\core\\pylabtools.py:151\u001b[0m, in \u001b[0;36mprint_figure\u001b[1;34m(fig, fmt, bbox_inches, base64, **kwargs)\u001b[0m\n\u001b[0;32m    148\u001b[0m     \u001b[38;5;28;01mfrom\u001b[39;00m \u001b[38;5;21;01mmatplotlib\u001b[39;00m\u001b[38;5;21;01m.\u001b[39;00m\u001b[38;5;21;01mbackend_bases\u001b[39;00m \u001b[38;5;28;01mimport\u001b[39;00m FigureCanvasBase\n\u001b[0;32m    149\u001b[0m     FigureCanvasBase(fig)\n\u001b[1;32m--> 151\u001b[0m \u001b[43mfig\u001b[49m\u001b[38;5;241;43m.\u001b[39;49m\u001b[43mcanvas\u001b[49m\u001b[38;5;241;43m.\u001b[39;49m\u001b[43mprint_figure\u001b[49m\u001b[43m(\u001b[49m\u001b[43mbytes_io\u001b[49m\u001b[43m,\u001b[49m\u001b[43m \u001b[49m\u001b[38;5;241;43m*\u001b[39;49m\u001b[38;5;241;43m*\u001b[39;49m\u001b[43mkw\u001b[49m\u001b[43m)\u001b[49m\n\u001b[0;32m    152\u001b[0m data \u001b[38;5;241m=\u001b[39m bytes_io\u001b[38;5;241m.\u001b[39mgetvalue()\n\u001b[0;32m    153\u001b[0m \u001b[38;5;28;01mif\u001b[39;00m fmt \u001b[38;5;241m==\u001b[39m \u001b[38;5;124m'\u001b[39m\u001b[38;5;124msvg\u001b[39m\u001b[38;5;124m'\u001b[39m:\n",
      "File \u001b[1;32mc:\\users\\vik\\desktop\\cs 4225\\project\\traffic-predict\\.venv\\lib\\site-packages\\matplotlib\\backend_bases.py:2295\u001b[0m, in \u001b[0;36mFigureCanvasBase.print_figure\u001b[1;34m(self, filename, dpi, facecolor, edgecolor, orientation, format, bbox_inches, pad_inches, bbox_extra_artists, backend, **kwargs)\u001b[0m\n\u001b[0;32m   2289\u001b[0m     renderer \u001b[38;5;241m=\u001b[39m _get_renderer(\n\u001b[0;32m   2290\u001b[0m         \u001b[38;5;28mself\u001b[39m\u001b[38;5;241m.\u001b[39mfigure,\n\u001b[0;32m   2291\u001b[0m         functools\u001b[38;5;241m.\u001b[39mpartial(\n\u001b[0;32m   2292\u001b[0m             print_method, orientation\u001b[38;5;241m=\u001b[39morientation)\n\u001b[0;32m   2293\u001b[0m     )\n\u001b[0;32m   2294\u001b[0m     \u001b[38;5;28;01mwith\u001b[39;00m \u001b[38;5;28mgetattr\u001b[39m(renderer, \u001b[38;5;124m\"\u001b[39m\u001b[38;5;124m_draw_disabled\u001b[39m\u001b[38;5;124m\"\u001b[39m, nullcontext)():\n\u001b[1;32m-> 2295\u001b[0m         \u001b[38;5;28;43mself\u001b[39;49m\u001b[38;5;241;43m.\u001b[39;49m\u001b[43mfigure\u001b[49m\u001b[38;5;241;43m.\u001b[39;49m\u001b[43mdraw\u001b[49m\u001b[43m(\u001b[49m\u001b[43mrenderer\u001b[49m\u001b[43m)\u001b[49m\n\u001b[0;32m   2297\u001b[0m \u001b[38;5;28;01mif\u001b[39;00m bbox_inches:\n\u001b[0;32m   2298\u001b[0m     \u001b[38;5;28;01mif\u001b[39;00m bbox_inches \u001b[38;5;241m==\u001b[39m \u001b[38;5;124m\"\u001b[39m\u001b[38;5;124mtight\u001b[39m\u001b[38;5;124m\"\u001b[39m:\n",
      "File \u001b[1;32mc:\\users\\vik\\desktop\\cs 4225\\project\\traffic-predict\\.venv\\lib\\site-packages\\matplotlib\\artist.py:73\u001b[0m, in \u001b[0;36m_finalize_rasterization.<locals>.draw_wrapper\u001b[1;34m(artist, renderer, *args, **kwargs)\u001b[0m\n\u001b[0;32m     71\u001b[0m \u001b[38;5;129m@wraps\u001b[39m(draw)\n\u001b[0;32m     72\u001b[0m \u001b[38;5;28;01mdef\u001b[39;00m \u001b[38;5;21mdraw_wrapper\u001b[39m(artist, renderer, \u001b[38;5;241m*\u001b[39margs, \u001b[38;5;241m*\u001b[39m\u001b[38;5;241m*\u001b[39mkwargs):\n\u001b[1;32m---> 73\u001b[0m     result \u001b[38;5;241m=\u001b[39m \u001b[43mdraw\u001b[49m\u001b[43m(\u001b[49m\u001b[43martist\u001b[49m\u001b[43m,\u001b[49m\u001b[43m \u001b[49m\u001b[43mrenderer\u001b[49m\u001b[43m,\u001b[49m\u001b[43m \u001b[49m\u001b[38;5;241;43m*\u001b[39;49m\u001b[43margs\u001b[49m\u001b[43m,\u001b[49m\u001b[43m \u001b[49m\u001b[38;5;241;43m*\u001b[39;49m\u001b[38;5;241;43m*\u001b[39;49m\u001b[43mkwargs\u001b[49m\u001b[43m)\u001b[49m\n\u001b[0;32m     74\u001b[0m     \u001b[38;5;28;01mif\u001b[39;00m renderer\u001b[38;5;241m.\u001b[39m_rasterizing:\n\u001b[0;32m     75\u001b[0m         renderer\u001b[38;5;241m.\u001b[39mstop_rasterizing()\n",
      "File \u001b[1;32mc:\\users\\vik\\desktop\\cs 4225\\project\\traffic-predict\\.venv\\lib\\site-packages\\matplotlib\\artist.py:50\u001b[0m, in \u001b[0;36mallow_rasterization.<locals>.draw_wrapper\u001b[1;34m(artist, renderer)\u001b[0m\n\u001b[0;32m     47\u001b[0m     \u001b[38;5;28;01mif\u001b[39;00m artist\u001b[38;5;241m.\u001b[39mget_agg_filter() \u001b[38;5;129;01mis\u001b[39;00m \u001b[38;5;129;01mnot\u001b[39;00m \u001b[38;5;28;01mNone\u001b[39;00m:\n\u001b[0;32m     48\u001b[0m         renderer\u001b[38;5;241m.\u001b[39mstart_filter()\n\u001b[1;32m---> 50\u001b[0m     \u001b[38;5;28;01mreturn\u001b[39;00m \u001b[43mdraw\u001b[49m\u001b[43m(\u001b[49m\u001b[43martist\u001b[49m\u001b[43m,\u001b[49m\u001b[43m \u001b[49m\u001b[43mrenderer\u001b[49m\u001b[43m)\u001b[49m\n\u001b[0;32m     51\u001b[0m \u001b[38;5;28;01mfinally\u001b[39;00m:\n\u001b[0;32m     52\u001b[0m     \u001b[38;5;28;01mif\u001b[39;00m artist\u001b[38;5;241m.\u001b[39mget_agg_filter() \u001b[38;5;129;01mis\u001b[39;00m \u001b[38;5;129;01mnot\u001b[39;00m \u001b[38;5;28;01mNone\u001b[39;00m:\n",
      "File \u001b[1;32mc:\\users\\vik\\desktop\\cs 4225\\project\\traffic-predict\\.venv\\lib\\site-packages\\matplotlib\\figure.py:2810\u001b[0m, in \u001b[0;36mFigure.draw\u001b[1;34m(self, renderer)\u001b[0m\n\u001b[0;32m   2807\u001b[0m         \u001b[38;5;66;03m# ValueError can occur when resizing a window.\u001b[39;00m\n\u001b[0;32m   2809\u001b[0m \u001b[38;5;28mself\u001b[39m\u001b[38;5;241m.\u001b[39mpatch\u001b[38;5;241m.\u001b[39mdraw(renderer)\n\u001b[1;32m-> 2810\u001b[0m \u001b[43mmimage\u001b[49m\u001b[38;5;241;43m.\u001b[39;49m\u001b[43m_draw_list_compositing_images\u001b[49m\u001b[43m(\u001b[49m\n\u001b[0;32m   2811\u001b[0m \u001b[43m    \u001b[49m\u001b[43mrenderer\u001b[49m\u001b[43m,\u001b[49m\u001b[43m \u001b[49m\u001b[38;5;28;43mself\u001b[39;49m\u001b[43m,\u001b[49m\u001b[43m \u001b[49m\u001b[43martists\u001b[49m\u001b[43m,\u001b[49m\u001b[43m \u001b[49m\u001b[38;5;28;43mself\u001b[39;49m\u001b[38;5;241;43m.\u001b[39;49m\u001b[43msuppressComposite\u001b[49m\u001b[43m)\u001b[49m\n\u001b[0;32m   2813\u001b[0m \u001b[38;5;28;01mfor\u001b[39;00m sfig \u001b[38;5;129;01min\u001b[39;00m \u001b[38;5;28mself\u001b[39m\u001b[38;5;241m.\u001b[39msubfigs:\n\u001b[0;32m   2814\u001b[0m     sfig\u001b[38;5;241m.\u001b[39mdraw(renderer)\n",
      "File \u001b[1;32mc:\\users\\vik\\desktop\\cs 4225\\project\\traffic-predict\\.venv\\lib\\site-packages\\matplotlib\\image.py:132\u001b[0m, in \u001b[0;36m_draw_list_compositing_images\u001b[1;34m(renderer, parent, artists, suppress_composite)\u001b[0m\n\u001b[0;32m    130\u001b[0m \u001b[38;5;28;01mif\u001b[39;00m not_composite \u001b[38;5;129;01mor\u001b[39;00m \u001b[38;5;129;01mnot\u001b[39;00m has_images:\n\u001b[0;32m    131\u001b[0m     \u001b[38;5;28;01mfor\u001b[39;00m a \u001b[38;5;129;01min\u001b[39;00m artists:\n\u001b[1;32m--> 132\u001b[0m         \u001b[43ma\u001b[49m\u001b[38;5;241;43m.\u001b[39;49m\u001b[43mdraw\u001b[49m\u001b[43m(\u001b[49m\u001b[43mrenderer\u001b[49m\u001b[43m)\u001b[49m\n\u001b[0;32m    133\u001b[0m \u001b[38;5;28;01melse\u001b[39;00m:\n\u001b[0;32m    134\u001b[0m     \u001b[38;5;66;03m# Composite any adjacent images together\u001b[39;00m\n\u001b[0;32m    135\u001b[0m     image_group \u001b[38;5;241m=\u001b[39m []\n",
      "File \u001b[1;32mc:\\users\\vik\\desktop\\cs 4225\\project\\traffic-predict\\.venv\\lib\\site-packages\\matplotlib\\artist.py:50\u001b[0m, in \u001b[0;36mallow_rasterization.<locals>.draw_wrapper\u001b[1;34m(artist, renderer)\u001b[0m\n\u001b[0;32m     47\u001b[0m     \u001b[38;5;28;01mif\u001b[39;00m artist\u001b[38;5;241m.\u001b[39mget_agg_filter() \u001b[38;5;129;01mis\u001b[39;00m \u001b[38;5;129;01mnot\u001b[39;00m \u001b[38;5;28;01mNone\u001b[39;00m:\n\u001b[0;32m     48\u001b[0m         renderer\u001b[38;5;241m.\u001b[39mstart_filter()\n\u001b[1;32m---> 50\u001b[0m     \u001b[38;5;28;01mreturn\u001b[39;00m \u001b[43mdraw\u001b[49m\u001b[43m(\u001b[49m\u001b[43martist\u001b[49m\u001b[43m,\u001b[49m\u001b[43m \u001b[49m\u001b[43mrenderer\u001b[49m\u001b[43m)\u001b[49m\n\u001b[0;32m     51\u001b[0m \u001b[38;5;28;01mfinally\u001b[39;00m:\n\u001b[0;32m     52\u001b[0m     \u001b[38;5;28;01mif\u001b[39;00m artist\u001b[38;5;241m.\u001b[39mget_agg_filter() \u001b[38;5;129;01mis\u001b[39;00m \u001b[38;5;129;01mnot\u001b[39;00m \u001b[38;5;28;01mNone\u001b[39;00m:\n",
      "File \u001b[1;32mc:\\users\\vik\\desktop\\cs 4225\\project\\traffic-predict\\.venv\\lib\\site-packages\\matplotlib\\axes\\_base.py:3082\u001b[0m, in \u001b[0;36m_AxesBase.draw\u001b[1;34m(self, renderer)\u001b[0m\n\u001b[0;32m   3079\u001b[0m         a\u001b[38;5;241m.\u001b[39mdraw(renderer)\n\u001b[0;32m   3080\u001b[0m     renderer\u001b[38;5;241m.\u001b[39mstop_rasterizing()\n\u001b[1;32m-> 3082\u001b[0m \u001b[43mmimage\u001b[49m\u001b[38;5;241;43m.\u001b[39;49m\u001b[43m_draw_list_compositing_images\u001b[49m\u001b[43m(\u001b[49m\n\u001b[0;32m   3083\u001b[0m \u001b[43m    \u001b[49m\u001b[43mrenderer\u001b[49m\u001b[43m,\u001b[49m\u001b[43m \u001b[49m\u001b[38;5;28;43mself\u001b[39;49m\u001b[43m,\u001b[49m\u001b[43m \u001b[49m\u001b[43martists\u001b[49m\u001b[43m,\u001b[49m\u001b[43m \u001b[49m\u001b[38;5;28;43mself\u001b[39;49m\u001b[38;5;241;43m.\u001b[39;49m\u001b[43mfigure\u001b[49m\u001b[38;5;241;43m.\u001b[39;49m\u001b[43msuppressComposite\u001b[49m\u001b[43m)\u001b[49m\n\u001b[0;32m   3085\u001b[0m renderer\u001b[38;5;241m.\u001b[39mclose_group(\u001b[38;5;124m'\u001b[39m\u001b[38;5;124maxes\u001b[39m\u001b[38;5;124m'\u001b[39m)\n\u001b[0;32m   3086\u001b[0m \u001b[38;5;28mself\u001b[39m\u001b[38;5;241m.\u001b[39mstale \u001b[38;5;241m=\u001b[39m \u001b[38;5;28;01mFalse\u001b[39;00m\n",
      "File \u001b[1;32mc:\\users\\vik\\desktop\\cs 4225\\project\\traffic-predict\\.venv\\lib\\site-packages\\matplotlib\\image.py:132\u001b[0m, in \u001b[0;36m_draw_list_compositing_images\u001b[1;34m(renderer, parent, artists, suppress_composite)\u001b[0m\n\u001b[0;32m    130\u001b[0m \u001b[38;5;28;01mif\u001b[39;00m not_composite \u001b[38;5;129;01mor\u001b[39;00m \u001b[38;5;129;01mnot\u001b[39;00m has_images:\n\u001b[0;32m    131\u001b[0m     \u001b[38;5;28;01mfor\u001b[39;00m a \u001b[38;5;129;01min\u001b[39;00m artists:\n\u001b[1;32m--> 132\u001b[0m         \u001b[43ma\u001b[49m\u001b[38;5;241;43m.\u001b[39;49m\u001b[43mdraw\u001b[49m\u001b[43m(\u001b[49m\u001b[43mrenderer\u001b[49m\u001b[43m)\u001b[49m\n\u001b[0;32m    133\u001b[0m \u001b[38;5;28;01melse\u001b[39;00m:\n\u001b[0;32m    134\u001b[0m     \u001b[38;5;66;03m# Composite any adjacent images together\u001b[39;00m\n\u001b[0;32m    135\u001b[0m     image_group \u001b[38;5;241m=\u001b[39m []\n",
      "File \u001b[1;32mc:\\users\\vik\\desktop\\cs 4225\\project\\traffic-predict\\.venv\\lib\\site-packages\\matplotlib\\artist.py:50\u001b[0m, in \u001b[0;36mallow_rasterization.<locals>.draw_wrapper\u001b[1;34m(artist, renderer)\u001b[0m\n\u001b[0;32m     47\u001b[0m     \u001b[38;5;28;01mif\u001b[39;00m artist\u001b[38;5;241m.\u001b[39mget_agg_filter() \u001b[38;5;129;01mis\u001b[39;00m \u001b[38;5;129;01mnot\u001b[39;00m \u001b[38;5;28;01mNone\u001b[39;00m:\n\u001b[0;32m     48\u001b[0m         renderer\u001b[38;5;241m.\u001b[39mstart_filter()\n\u001b[1;32m---> 50\u001b[0m     \u001b[38;5;28;01mreturn\u001b[39;00m \u001b[43mdraw\u001b[49m\u001b[43m(\u001b[49m\u001b[43martist\u001b[49m\u001b[43m,\u001b[49m\u001b[43m \u001b[49m\u001b[43mrenderer\u001b[49m\u001b[43m)\u001b[49m\n\u001b[0;32m     51\u001b[0m \u001b[38;5;28;01mfinally\u001b[39;00m:\n\u001b[0;32m     52\u001b[0m     \u001b[38;5;28;01mif\u001b[39;00m artist\u001b[38;5;241m.\u001b[39mget_agg_filter() \u001b[38;5;129;01mis\u001b[39;00m \u001b[38;5;129;01mnot\u001b[39;00m \u001b[38;5;28;01mNone\u001b[39;00m:\n",
      "File \u001b[1;32mc:\\users\\vik\\desktop\\cs 4225\\project\\traffic-predict\\.venv\\lib\\site-packages\\matplotlib\\text.py:1978\u001b[0m, in \u001b[0;36mAnnotation.draw\u001b[1;34m(self, renderer)\u001b[0m\n\u001b[0;32m   1976\u001b[0m     \u001b[38;5;28;01mif\u001b[39;00m \u001b[38;5;28mself\u001b[39m\u001b[38;5;241m.\u001b[39marrow_patch\u001b[38;5;241m.\u001b[39mfigure \u001b[38;5;129;01mis\u001b[39;00m \u001b[38;5;28;01mNone\u001b[39;00m \u001b[38;5;129;01mand\u001b[39;00m \u001b[38;5;28mself\u001b[39m\u001b[38;5;241m.\u001b[39mfigure \u001b[38;5;129;01mis\u001b[39;00m \u001b[38;5;129;01mnot\u001b[39;00m \u001b[38;5;28;01mNone\u001b[39;00m:\n\u001b[0;32m   1977\u001b[0m         \u001b[38;5;28mself\u001b[39m\u001b[38;5;241m.\u001b[39marrow_patch\u001b[38;5;241m.\u001b[39mfigure \u001b[38;5;241m=\u001b[39m \u001b[38;5;28mself\u001b[39m\u001b[38;5;241m.\u001b[39mfigure\n\u001b[1;32m-> 1978\u001b[0m     \u001b[38;5;28;43mself\u001b[39;49m\u001b[38;5;241;43m.\u001b[39;49m\u001b[43marrow_patch\u001b[49m\u001b[38;5;241;43m.\u001b[39;49m\u001b[43mdraw\u001b[49m\u001b[43m(\u001b[49m\u001b[43mrenderer\u001b[49m\u001b[43m)\u001b[49m\n\u001b[0;32m   1979\u001b[0m \u001b[38;5;66;03m# Draw text, including FancyBboxPatch, after FancyArrowPatch.\u001b[39;00m\n\u001b[0;32m   1980\u001b[0m \u001b[38;5;66;03m# Otherwise, a wedge arrowstyle can land partly on top of the Bbox.\u001b[39;00m\n\u001b[0;32m   1981\u001b[0m Text\u001b[38;5;241m.\u001b[39mdraw(\u001b[38;5;28mself\u001b[39m, renderer)\n",
      "File \u001b[1;32mc:\\users\\vik\\desktop\\cs 4225\\project\\traffic-predict\\.venv\\lib\\site-packages\\matplotlib\\patches.py:4485\u001b[0m, in \u001b[0;36mFancyArrowPatch.draw\u001b[1;34m(self, renderer)\u001b[0m\n\u001b[0;32m   4478\u001b[0m \u001b[38;5;28;01mwith\u001b[39;00m \u001b[38;5;28mself\u001b[39m\u001b[38;5;241m.\u001b[39m_bind_draw_path_function(renderer) \u001b[38;5;28;01mas\u001b[39;00m draw_path:\n\u001b[0;32m   4479\u001b[0m \n\u001b[0;32m   4480\u001b[0m     \u001b[38;5;66;03m# FIXME : dpi_cor is for the dpi-dependency of the linewidth. There\u001b[39;00m\n\u001b[0;32m   4481\u001b[0m     \u001b[38;5;66;03m# could be room for improvement.  Maybe _get_path_in_displaycoord\u001b[39;00m\n\u001b[0;32m   4482\u001b[0m     \u001b[38;5;66;03m# could take a renderer argument, but get_path should be adapted\u001b[39;00m\n\u001b[0;32m   4483\u001b[0m     \u001b[38;5;66;03m# too.\u001b[39;00m\n\u001b[0;32m   4484\u001b[0m     \u001b[38;5;28mself\u001b[39m\u001b[38;5;241m.\u001b[39m_dpi_cor \u001b[38;5;241m=\u001b[39m renderer\u001b[38;5;241m.\u001b[39mpoints_to_pixels(\u001b[38;5;241m1.\u001b[39m)\n\u001b[1;32m-> 4485\u001b[0m     path, fillable \u001b[38;5;241m=\u001b[39m \u001b[38;5;28;43mself\u001b[39;49m\u001b[38;5;241;43m.\u001b[39;49m\u001b[43m_get_path_in_displaycoord\u001b[49m\u001b[43m(\u001b[49m\u001b[43m)\u001b[49m\n\u001b[0;32m   4487\u001b[0m     \u001b[38;5;28;01mif\u001b[39;00m \u001b[38;5;129;01mnot\u001b[39;00m np\u001b[38;5;241m.\u001b[39miterable(fillable):\n\u001b[0;32m   4488\u001b[0m         path \u001b[38;5;241m=\u001b[39m [path]\n",
      "File \u001b[1;32mc:\\users\\vik\\desktop\\cs 4225\\project\\traffic-predict\\.venv\\lib\\site-packages\\matplotlib\\patches.py:4453\u001b[0m, in \u001b[0;36mFancyArrowPatch._get_path_in_displaycoord\u001b[1;34m(self)\u001b[0m\n\u001b[0;32m   4451\u001b[0m     posB \u001b[38;5;241m=\u001b[39m \u001b[38;5;28mself\u001b[39m\u001b[38;5;241m.\u001b[39m_convert_xy_units(\u001b[38;5;28mself\u001b[39m\u001b[38;5;241m.\u001b[39m_posA_posB[\u001b[38;5;241m1\u001b[39m])\n\u001b[0;32m   4452\u001b[0m     (posA, posB) \u001b[38;5;241m=\u001b[39m \u001b[38;5;28mself\u001b[39m\u001b[38;5;241m.\u001b[39mget_transform()\u001b[38;5;241m.\u001b[39mtransform((posA, posB))\n\u001b[1;32m-> 4453\u001b[0m     _path \u001b[38;5;241m=\u001b[39m \u001b[38;5;28;43mself\u001b[39;49m\u001b[38;5;241;43m.\u001b[39;49m\u001b[43mget_connectionstyle\u001b[49m\u001b[43m(\u001b[49m\u001b[43m)\u001b[49m\u001b[43m(\u001b[49m\u001b[43mposA\u001b[49m\u001b[43m,\u001b[49m\u001b[43m \u001b[49m\u001b[43mposB\u001b[49m\u001b[43m,\u001b[49m\n\u001b[0;32m   4454\u001b[0m \u001b[43m                                       \u001b[49m\u001b[43mpatchA\u001b[49m\u001b[38;5;241;43m=\u001b[39;49m\u001b[38;5;28;43mself\u001b[39;49m\u001b[38;5;241;43m.\u001b[39;49m\u001b[43mpatchA\u001b[49m\u001b[43m,\u001b[49m\n\u001b[0;32m   4455\u001b[0m \u001b[43m                                       \u001b[49m\u001b[43mpatchB\u001b[49m\u001b[38;5;241;43m=\u001b[39;49m\u001b[38;5;28;43mself\u001b[39;49m\u001b[38;5;241;43m.\u001b[39;49m\u001b[43mpatchB\u001b[49m\u001b[43m,\u001b[49m\n\u001b[0;32m   4456\u001b[0m \u001b[43m                                       \u001b[49m\u001b[43mshrinkA\u001b[49m\u001b[38;5;241;43m=\u001b[39;49m\u001b[38;5;28;43mself\u001b[39;49m\u001b[38;5;241;43m.\u001b[39;49m\u001b[43mshrinkA\u001b[49m\u001b[43m \u001b[49m\u001b[38;5;241;43m*\u001b[39;49m\u001b[43m \u001b[49m\u001b[43mdpi_cor\u001b[49m\u001b[43m,\u001b[49m\n\u001b[0;32m   4457\u001b[0m \u001b[43m                                       \u001b[49m\u001b[43mshrinkB\u001b[49m\u001b[38;5;241;43m=\u001b[39;49m\u001b[38;5;28;43mself\u001b[39;49m\u001b[38;5;241;43m.\u001b[39;49m\u001b[43mshrinkB\u001b[49m\u001b[43m \u001b[49m\u001b[38;5;241;43m*\u001b[39;49m\u001b[43m \u001b[49m\u001b[43mdpi_cor\u001b[49m\n\u001b[0;32m   4458\u001b[0m \u001b[43m                                       \u001b[49m\u001b[43m)\u001b[49m\n\u001b[0;32m   4459\u001b[0m \u001b[38;5;28;01melse\u001b[39;00m:\n\u001b[0;32m   4460\u001b[0m     _path \u001b[38;5;241m=\u001b[39m \u001b[38;5;28mself\u001b[39m\u001b[38;5;241m.\u001b[39mget_transform()\u001b[38;5;241m.\u001b[39mtransform_path(\u001b[38;5;28mself\u001b[39m\u001b[38;5;241m.\u001b[39m_path_original)\n",
      "File \u001b[1;32mc:\\users\\vik\\desktop\\cs 4225\\project\\traffic-predict\\.venv\\lib\\site-packages\\matplotlib\\patches.py:2770\u001b[0m, in \u001b[0;36mConnectionStyle._Base.__call__\u001b[1;34m(self, posA, posB, shrinkA, shrinkB, patchA, patchB)\u001b[0m\n\u001b[0;32m   2765\u001b[0m \u001b[38;5;124;03m\"\"\"\u001b[39;00m\n\u001b[0;32m   2766\u001b[0m \u001b[38;5;124;03mCall the *connect* method to create a path between *posA* and\u001b[39;00m\n\u001b[0;32m   2767\u001b[0m \u001b[38;5;124;03m*posB*; then clip and shrink the path.\u001b[39;00m\n\u001b[0;32m   2768\u001b[0m \u001b[38;5;124;03m\"\"\"\u001b[39;00m\n\u001b[0;32m   2769\u001b[0m path \u001b[38;5;241m=\u001b[39m \u001b[38;5;28mself\u001b[39m\u001b[38;5;241m.\u001b[39mconnect(posA, posB)\n\u001b[1;32m-> 2770\u001b[0m clipped_path \u001b[38;5;241m=\u001b[39m \u001b[38;5;28;43mself\u001b[39;49m\u001b[38;5;241;43m.\u001b[39;49m\u001b[43m_clip\u001b[49m\u001b[43m(\u001b[49m\u001b[43mpath\u001b[49m\u001b[43m,\u001b[49m\u001b[43m \u001b[49m\u001b[43mpatchA\u001b[49m\u001b[43m,\u001b[49m\u001b[43m \u001b[49m\u001b[43mpatchB\u001b[49m\u001b[43m)\u001b[49m\n\u001b[0;32m   2771\u001b[0m shrunk_path \u001b[38;5;241m=\u001b[39m \u001b[38;5;28mself\u001b[39m\u001b[38;5;241m.\u001b[39m_shrink(clipped_path, shrinkA, shrinkB)\n\u001b[0;32m   2772\u001b[0m \u001b[38;5;28;01mreturn\u001b[39;00m shrunk_path\n",
      "File \u001b[1;32mc:\\users\\vik\\desktop\\cs 4225\\project\\traffic-predict\\.venv\\lib\\site-packages\\matplotlib\\patches.py:2725\u001b[0m, in \u001b[0;36mConnectionStyle._Base._clip\u001b[1;34m(self, path, patchA, patchB)\u001b[0m\n\u001b[0;32m   2722\u001b[0m     \u001b[38;5;28;01mreturn\u001b[39;00m patchA\u001b[38;5;241m.\u001b[39mcontains(xy_event)[\u001b[38;5;241m0\u001b[39m]\n\u001b[0;32m   2724\u001b[0m \u001b[38;5;28;01mtry\u001b[39;00m:\n\u001b[1;32m-> 2725\u001b[0m     left, right \u001b[38;5;241m=\u001b[39m \u001b[43msplit_path_inout\u001b[49m\u001b[43m(\u001b[49m\u001b[43mpath\u001b[49m\u001b[43m,\u001b[49m\u001b[43m \u001b[49m\u001b[43minsideA\u001b[49m\u001b[43m)\u001b[49m\n\u001b[0;32m   2726\u001b[0m \u001b[38;5;28;01mexcept\u001b[39;00m \u001b[38;5;167;01mValueError\u001b[39;00m:\n\u001b[0;32m   2727\u001b[0m     right \u001b[38;5;241m=\u001b[39m path\n",
      "File \u001b[1;32mc:\\users\\vik\\desktop\\cs 4225\\project\\traffic-predict\\.venv\\lib\\site-packages\\matplotlib\\bezier.py:363\u001b[0m, in \u001b[0;36msplit_path_inout\u001b[1;34m(path, inside, tolerance, reorder_inout)\u001b[0m\n\u001b[0;32m    361\u001b[0m iold \u001b[38;5;241m=\u001b[39m i\n\u001b[0;32m    362\u001b[0m i \u001b[38;5;241m+\u001b[39m\u001b[38;5;241m=\u001b[39m \u001b[38;5;28mlen\u001b[39m(ctl_points) \u001b[38;5;241m/\u001b[39m\u001b[38;5;241m/\u001b[39m \u001b[38;5;241m2\u001b[39m\n\u001b[1;32m--> 363\u001b[0m \u001b[38;5;28;01mif\u001b[39;00m \u001b[43minside\u001b[49m\u001b[43m(\u001b[49m\u001b[43mctl_points\u001b[49m\u001b[43m[\u001b[49m\u001b[38;5;241;43m-\u001b[39;49m\u001b[38;5;241;43m2\u001b[39;49m\u001b[43m:\u001b[49m\u001b[43m]\u001b[49m\u001b[43m)\u001b[49m \u001b[38;5;241m!=\u001b[39m begin_inside:\n\u001b[0;32m    364\u001b[0m     bezier_path \u001b[38;5;241m=\u001b[39m np\u001b[38;5;241m.\u001b[39mconcatenate([ctl_points_old[\u001b[38;5;241m-\u001b[39m\u001b[38;5;241m2\u001b[39m:], ctl_points])\n\u001b[0;32m    365\u001b[0m     \u001b[38;5;28;01mbreak\u001b[39;00m\n",
      "File \u001b[1;32mc:\\users\\vik\\desktop\\cs 4225\\project\\traffic-predict\\.venv\\lib\\site-packages\\matplotlib\\patches.py:2722\u001b[0m, in \u001b[0;36mConnectionStyle._Base._clip.<locals>.insideA\u001b[1;34m(xy_display)\u001b[0m\n\u001b[0;32m   2720\u001b[0m \u001b[38;5;28;01mdef\u001b[39;00m \u001b[38;5;21minsideA\u001b[39m(xy_display):\n\u001b[0;32m   2721\u001b[0m     xy_event \u001b[38;5;241m=\u001b[39m ConnectionStyle\u001b[38;5;241m.\u001b[39m_Base\u001b[38;5;241m.\u001b[39mSimpleEvent(xy_display)\n\u001b[1;32m-> 2722\u001b[0m     \u001b[38;5;28;01mreturn\u001b[39;00m \u001b[43mpatchA\u001b[49m\u001b[38;5;241;43m.\u001b[39;49m\u001b[43mcontains\u001b[49m\u001b[43m(\u001b[49m\u001b[43mxy_event\u001b[49m\u001b[43m)\u001b[49m[\u001b[38;5;241m0\u001b[39m]\n",
      "File \u001b[1;32mc:\\users\\vik\\desktop\\cs 4225\\project\\traffic-predict\\.venv\\lib\\site-packages\\matplotlib\\patches.py:165\u001b[0m, in \u001b[0;36mPatch.contains\u001b[1;34m(self, mouseevent, radius)\u001b[0m\n\u001b[0;32m    163\u001b[0m \u001b[38;5;28;01melse\u001b[39;00m:\n\u001b[0;32m    164\u001b[0m     subpaths \u001b[38;5;241m=\u001b[39m [\u001b[38;5;28mself\u001b[39m\u001b[38;5;241m.\u001b[39mget_path()]\n\u001b[1;32m--> 165\u001b[0m inside \u001b[38;5;241m=\u001b[39m \u001b[38;5;28;43many\u001b[39;49m\u001b[43m(\u001b[49m\n\u001b[0;32m    166\u001b[0m \u001b[43m    \u001b[49m\u001b[43msubpath\u001b[49m\u001b[38;5;241;43m.\u001b[39;49m\u001b[43mcontains_point\u001b[49m\u001b[43m(\u001b[49m\n\u001b[0;32m    167\u001b[0m \u001b[43m        \u001b[49m\u001b[43m(\u001b[49m\u001b[43mmouseevent\u001b[49m\u001b[38;5;241;43m.\u001b[39;49m\u001b[43mx\u001b[49m\u001b[43m,\u001b[49m\u001b[43m \u001b[49m\u001b[43mmouseevent\u001b[49m\u001b[38;5;241;43m.\u001b[39;49m\u001b[43my\u001b[49m\u001b[43m)\u001b[49m\u001b[43m,\u001b[49m\u001b[43m \u001b[49m\u001b[38;5;28;43mself\u001b[39;49m\u001b[38;5;241;43m.\u001b[39;49m\u001b[43mget_transform\u001b[49m\u001b[43m(\u001b[49m\u001b[43m)\u001b[49m\u001b[43m,\u001b[49m\u001b[43m \u001b[49m\u001b[43mradius\u001b[49m\u001b[43m)\u001b[49m\n\u001b[0;32m    168\u001b[0m \u001b[43m    \u001b[49m\u001b[38;5;28;43;01mfor\u001b[39;49;00m\u001b[43m \u001b[49m\u001b[43msubpath\u001b[49m\u001b[43m \u001b[49m\u001b[38;5;129;43;01min\u001b[39;49;00m\u001b[43m \u001b[49m\u001b[43msubpaths\u001b[49m\u001b[43m)\u001b[49m\n\u001b[0;32m    169\u001b[0m \u001b[38;5;28;01mreturn\u001b[39;00m inside, {}\n",
      "File \u001b[1;32mc:\\users\\vik\\desktop\\cs 4225\\project\\traffic-predict\\.venv\\lib\\site-packages\\matplotlib\\patches.py:166\u001b[0m, in \u001b[0;36m<genexpr>\u001b[1;34m(.0)\u001b[0m\n\u001b[0;32m    163\u001b[0m \u001b[38;5;28;01melse\u001b[39;00m:\n\u001b[0;32m    164\u001b[0m     subpaths \u001b[38;5;241m=\u001b[39m [\u001b[38;5;28mself\u001b[39m\u001b[38;5;241m.\u001b[39mget_path()]\n\u001b[0;32m    165\u001b[0m inside \u001b[38;5;241m=\u001b[39m \u001b[38;5;28many\u001b[39m(\n\u001b[1;32m--> 166\u001b[0m     \u001b[43msubpath\u001b[49m\u001b[38;5;241;43m.\u001b[39;49m\u001b[43mcontains_point\u001b[49m\u001b[43m(\u001b[49m\n\u001b[0;32m    167\u001b[0m \u001b[43m        \u001b[49m\u001b[43m(\u001b[49m\u001b[43mmouseevent\u001b[49m\u001b[38;5;241;43m.\u001b[39;49m\u001b[43mx\u001b[49m\u001b[43m,\u001b[49m\u001b[43m \u001b[49m\u001b[43mmouseevent\u001b[49m\u001b[38;5;241;43m.\u001b[39;49m\u001b[43my\u001b[49m\u001b[43m)\u001b[49m\u001b[43m,\u001b[49m\u001b[43m \u001b[49m\u001b[38;5;28;43mself\u001b[39;49m\u001b[38;5;241;43m.\u001b[39;49m\u001b[43mget_transform\u001b[49m\u001b[43m(\u001b[49m\u001b[43m)\u001b[49m\u001b[43m,\u001b[49m\u001b[43m \u001b[49m\u001b[43mradius\u001b[49m\u001b[43m)\u001b[49m\n\u001b[0;32m    168\u001b[0m     \u001b[38;5;28;01mfor\u001b[39;00m subpath \u001b[38;5;129;01min\u001b[39;00m subpaths)\n\u001b[0;32m    169\u001b[0m \u001b[38;5;28;01mreturn\u001b[39;00m inside, {}\n",
      "File \u001b[1;32mc:\\users\\vik\\desktop\\cs 4225\\project\\traffic-predict\\.venv\\lib\\site-packages\\matplotlib\\path.py:531\u001b[0m, in \u001b[0;36mPath.contains_point\u001b[1;34m(self, point, transform, radius)\u001b[0m\n\u001b[0;32m    492\u001b[0m \u001b[38;5;124;03m\"\"\"\u001b[39;00m\n\u001b[0;32m    493\u001b[0m \u001b[38;5;124;03mReturn whether the area enclosed by the path contains the given point.\u001b[39;00m\n\u001b[0;32m    494\u001b[0m \n\u001b[1;32m   (...)\u001b[0m\n\u001b[0;32m    528\u001b[0m \u001b[38;5;124;03m  the result is not guaranteed to be correct.\u001b[39;00m\n\u001b[0;32m    529\u001b[0m \u001b[38;5;124;03m\"\"\"\u001b[39;00m\n\u001b[0;32m    530\u001b[0m \u001b[38;5;28;01mif\u001b[39;00m transform \u001b[38;5;129;01mis\u001b[39;00m \u001b[38;5;129;01mnot\u001b[39;00m \u001b[38;5;28;01mNone\u001b[39;00m:\n\u001b[1;32m--> 531\u001b[0m     transform \u001b[38;5;241m=\u001b[39m \u001b[43mtransform\u001b[49m\u001b[38;5;241;43m.\u001b[39;49m\u001b[43mfrozen\u001b[49m\u001b[43m(\u001b[49m\u001b[43m)\u001b[49m\n\u001b[0;32m    532\u001b[0m \u001b[38;5;66;03m# `point_in_path` does not handle nonlinear transforms, so we\u001b[39;00m\n\u001b[0;32m    533\u001b[0m \u001b[38;5;66;03m# transform the path ourselves.  If *transform* is affine, letting\u001b[39;00m\n\u001b[0;32m    534\u001b[0m \u001b[38;5;66;03m# `point_in_path` handle the transform avoids allocating an extra\u001b[39;00m\n\u001b[0;32m    535\u001b[0m \u001b[38;5;66;03m# buffer.\u001b[39;00m\n\u001b[0;32m    536\u001b[0m \u001b[38;5;28;01mif\u001b[39;00m transform \u001b[38;5;129;01mand\u001b[39;00m \u001b[38;5;129;01mnot\u001b[39;00m transform\u001b[38;5;241m.\u001b[39mis_affine:\n",
      "File \u001b[1;32mc:\\users\\vik\\desktop\\cs 4225\\project\\traffic-predict\\.venv\\lib\\site-packages\\matplotlib\\transforms.py:1848\u001b[0m, in \u001b[0;36mAffine2DBase.frozen\u001b[1;34m(self)\u001b[0m\n\u001b[0;32m   1846\u001b[0m \u001b[38;5;28;01mdef\u001b[39;00m \u001b[38;5;21mfrozen\u001b[39m(\u001b[38;5;28mself\u001b[39m):\n\u001b[0;32m   1847\u001b[0m     \u001b[38;5;66;03m# docstring inherited\u001b[39;00m\n\u001b[1;32m-> 1848\u001b[0m     \u001b[38;5;28;01mreturn\u001b[39;00m Affine2D(\u001b[38;5;28;43mself\u001b[39;49m\u001b[38;5;241;43m.\u001b[39;49m\u001b[43mget_matrix\u001b[49m\u001b[43m(\u001b[49m\u001b[43m)\u001b[49m\u001b[38;5;241;43m.\u001b[39;49m\u001b[43mcopy\u001b[49m\u001b[43m(\u001b[49m\u001b[43m)\u001b[49m)\n",
      "\u001b[1;31mKeyboardInterrupt\u001b[0m: "
     ]
    }
   ],
   "source": [
    "plot_tree(clf);"
   ]
  },
  {
   "cell_type": "markdown",
   "id": "83e5ee99",
   "metadata": {},
   "source": [
    "# K NN "
   ]
  },
  {
   "cell_type": "code",
   "execution_count": 18,
   "id": "4c1a6dc0",
   "metadata": {},
   "outputs": [],
   "source": [
    "clf = KNeighborsClassifier().fit(X_train, y_train)"
   ]
  },
  {
   "cell_type": "code",
   "execution_count": 19,
   "id": "1a2785f1",
   "metadata": {},
   "outputs": [
    {
     "data": {
      "image/png": "[encoded data removed]",
      "text/plain": [
       "<Figure size 432x288 with 1 Axes>"
      ]
     },
     "metadata": {
      "needs_background": "light"
     },
     "output_type": "display_data"
    }
   ],
   "source": [
    "plot_confusion(y_test, clf.predict(X_test))"
   ]
  },
  {
   "cell_type": "code",
   "execution_count": 20,
   "id": "da34b1df",
   "metadata": {},
   "outputs": [
    {
     "data": {
      "text/plain": [
       "0.6407897921781528"
      ]
     },
     "execution_count": 20,
     "metadata": {},
     "output_type": "execute_result"
    }
   ],
   "source": [
    "get_accuracy(y_test, clf.predict(X_test))"
   ]
  },
  {
   "cell_type": "markdown",
   "id": "e5bb344b",
   "metadata": {},
   "source": [
    "# MLP \n",
    "This is a fast way to get a neural net modelling \n",
    "Need more data"
   ]
  },
  {
   "cell_type": "code",
   "execution_count": 21,
   "id": "f394991f",
   "metadata": {},
   "outputs": [],
   "source": [
    "clf = MLPClassifier(solver='lbfgs', alpha=1e-5, hidden_layer_sizes=(2,4,16,32,16,4,2), random_state=1).fit(X_train, y_train)"
   ]
  },
  {
   "cell_type": "code",
   "execution_count": 22,
   "id": "f5bfa2bd",
   "metadata": {},
   "outputs": [
    {
     "data": {
      "image/png": "[encoded data removed]",
      "text/plain": [
       "<Figure size 432x288 with 1 Axes>"
      ]
     },
     "metadata": {
      "needs_background": "light"
     },
     "output_type": "display_data"
    }
   ],
   "source": [
    "plot_confusion(y_test, clf.predict(X_test))"
   ]
  },
  {
   "cell_type": "code",
   "execution_count": 23,
   "id": "49236e24",
   "metadata": {},
   "outputs": [
    {
     "data": {
      "text/plain": [
       "0.5919983401915696"
      ]
     },
     "execution_count": 23,
     "metadata": {},
     "output_type": "execute_result"
    }
   ],
   "source": [
    "get_accuracy(y_test, clf.predict(X_test))"
   ]
  },
  {
   "cell_type": "code",
   "execution_count": null,
   "id": "5d7199e7",
   "metadata": {},
   "outputs": [],
   "source": []
  },
  {
   "cell_type": "code",
   "execution_count": null,
   "id": "1d96e3df",
   "metadata": {},
   "outputs": [],
   "source": []
  }
 ],
 "metadata": {
  "kernelspec": {
   "display_name": "Python 3 (ipykernel)",
   "language": "python",
   "name": "python3"
  },
  "language_info": {
   "codemirror_mode": {
    "name": "ipython",
    "version": 3
   },
   "file_extension": ".py",
   "mimetype": "text/x-python",
   "name": "python",
   "nbconvert_exporter": "python",
   "pygments_lexer": "ipython3",
   "version": "3.8.5"
  }
 },
 "nbformat": 4,
 "nbformat_minor": 5
}
