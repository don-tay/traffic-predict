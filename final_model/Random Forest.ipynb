{
 "cells": [
  {
   "cell_type": "markdown",
   "id": "9cdcf195",
   "metadata": {},
   "source": [
    "# 1. Introduction \n",
    "\n",
    "Based on the initial testing, as seen in the notebook entitled Modelling.ipynb, the final model that was chosen to be used was random forest classifier. Not only was it able to give decent accuracies without tuning, scikitlearn allows for control over the number of processors being used. This is a good proxy to test out the parallelism capabilities of the model before attempting with Spark ML or other methods of hosting this script on cluster. "
   ]
  },
  {
   "cell_type": "markdown",
   "id": "79573e24",
   "metadata": {},
   "source": [
    "## 1.1 Importing Libraries\n",
    "These are the libraries that will be used"
   ]
  },
  {
   "cell_type": "code",
   "execution_count": 1,
   "id": "b307923a",
   "metadata": {},
   "outputs": [],
   "source": [
    "import time\n",
    "from get_files_dynamic import get_super_table\n",
    "import pandas as pd\n",
    "import numpy as np \n",
    "from sklearn.ensemble import RandomForestClassifier\n",
    "from sklearn.model_selection import train_test_split\n",
    "import matplotlib.pyplot as plt\n",
    "import pickle"
   ]
  },
  {
   "cell_type": "markdown",
   "id": "fe7f1195",
   "metadata": {},
   "source": [
    "# 2. Data \n",
    "\n",
    "First, we will pull the data from AWS"
   ]
  },
  {
   "cell_type": "code",
   "execution_count": 2,
   "id": "c7698b0d",
   "metadata": {},
   "outputs": [],
   "source": [
    "df = get_super_table()"
   ]
  },
  {
   "cell_type": "code",
   "execution_count": 3,
   "id": "679ee5b5",
   "metadata": {},
   "outputs": [
    {
     "data": {
      "text/html": [
       "<div>\n",
       "<style scoped>\n",
       "    .dataframe tbody tr th:only-of-type {\n",
       "        vertical-align: middle;\n",
       "    }\n",
       "\n",
       "    .dataframe tbody tr th {\n",
       "        vertical-align: top;\n",
       "    }\n",
       "\n",
       "    .dataframe thead th {\n",
       "        text-align: right;\n",
       "    }\n",
       "</style>\n",
       "<table border=\"1\" class=\"dataframe\">\n",
       "  <thead>\n",
       "    <tr style=\"text-align: right;\">\n",
       "      <th></th>\n",
       "      <th>call_timestamp</th>\n",
       "      <th>cam_id</th>\n",
       "      <th>non_rainfall_station_id</th>\n",
       "      <th>rainfall_station_id</th>\n",
       "      <th>2hr_forecast_area</th>\n",
       "      <th>compass</th>\n",
       "      <th>direction</th>\n",
       "      <th>rainfall_realtime</th>\n",
       "      <th>wind_speed_realtime</th>\n",
       "      <th>wind_dir_realtime</th>\n",
       "      <th>...</th>\n",
       "      <th>24hr_period_1_start</th>\n",
       "      <th>24hr_period_1_end</th>\n",
       "      <th>24hr_period_1</th>\n",
       "      <th>24hr_period_2_start</th>\n",
       "      <th>24hr_period_2_end</th>\n",
       "      <th>24hr_period_2</th>\n",
       "      <th>24hr_period_3_start</th>\n",
       "      <th>24hr_period_3_end</th>\n",
       "      <th>24hr_period_3</th>\n",
       "      <th>trafficCongestion</th>\n",
       "    </tr>\n",
       "  </thead>\n",
       "  <tbody>\n",
       "    <tr>\n",
       "      <th>0</th>\n",
       "      <td>2022-04-12T084116</td>\n",
       "      <td>1001</td>\n",
       "      <td>S107</td>\n",
       "      <td>S119</td>\n",
       "      <td>Kallang</td>\n",
       "      <td>south</td>\n",
       "      <td>1</td>\n",
       "      <td>0.0</td>\n",
       "      <td>1.8</td>\n",
       "      <td>320.0</td>\n",
       "      <td>...</td>\n",
       "      <td>2022-04-12T000000</td>\n",
       "      <td>2022-04-12T060000</td>\n",
       "      <td>Partly Cloudy (Night)</td>\n",
       "      <td>2022-04-12T060000</td>\n",
       "      <td>2022-04-12T120000</td>\n",
       "      <td>Cloudy</td>\n",
       "      <td>2022-04-12T120000</td>\n",
       "      <td>2022-04-12T180000</td>\n",
       "      <td>Cloudy</td>\n",
       "      <td>NaN</td>\n",
       "    </tr>\n",
       "    <tr>\n",
       "      <th>1</th>\n",
       "      <td>2022-04-12T084116</td>\n",
       "      <td>1001</td>\n",
       "      <td>S107</td>\n",
       "      <td>S119</td>\n",
       "      <td>Kallang</td>\n",
       "      <td>south</td>\n",
       "      <td>2</td>\n",
       "      <td>0.0</td>\n",
       "      <td>1.8</td>\n",
       "      <td>320.0</td>\n",
       "      <td>...</td>\n",
       "      <td>2022-04-12T000000</td>\n",
       "      <td>2022-04-12T060000</td>\n",
       "      <td>Partly Cloudy (Night)</td>\n",
       "      <td>2022-04-12T060000</td>\n",
       "      <td>2022-04-12T120000</td>\n",
       "      <td>Cloudy</td>\n",
       "      <td>2022-04-12T120000</td>\n",
       "      <td>2022-04-12T180000</td>\n",
       "      <td>Cloudy</td>\n",
       "      <td>NaN</td>\n",
       "    </tr>\n",
       "    <tr>\n",
       "      <th>2</th>\n",
       "      <td>2022-04-12T084116</td>\n",
       "      <td>1501</td>\n",
       "      <td>S107</td>\n",
       "      <td>S108</td>\n",
       "      <td>City</td>\n",
       "      <td>south</td>\n",
       "      <td>1</td>\n",
       "      <td>0.0</td>\n",
       "      <td>1.8</td>\n",
       "      <td>320.0</td>\n",
       "      <td>...</td>\n",
       "      <td>2022-04-12T000000</td>\n",
       "      <td>2022-04-12T060000</td>\n",
       "      <td>Partly Cloudy (Night)</td>\n",
       "      <td>2022-04-12T060000</td>\n",
       "      <td>2022-04-12T120000</td>\n",
       "      <td>Cloudy</td>\n",
       "      <td>2022-04-12T120000</td>\n",
       "      <td>2022-04-12T180000</td>\n",
       "      <td>Cloudy</td>\n",
       "      <td>NaN</td>\n",
       "    </tr>\n",
       "    <tr>\n",
       "      <th>3</th>\n",
       "      <td>2022-04-12T084116</td>\n",
       "      <td>1502</td>\n",
       "      <td>S107</td>\n",
       "      <td>S108</td>\n",
       "      <td>City</td>\n",
       "      <td>south</td>\n",
       "      <td>1</td>\n",
       "      <td>0.0</td>\n",
       "      <td>1.8</td>\n",
       "      <td>320.0</td>\n",
       "      <td>...</td>\n",
       "      <td>2022-04-12T000000</td>\n",
       "      <td>2022-04-12T060000</td>\n",
       "      <td>Partly Cloudy (Night)</td>\n",
       "      <td>2022-04-12T060000</td>\n",
       "      <td>2022-04-12T120000</td>\n",
       "      <td>Cloudy</td>\n",
       "      <td>2022-04-12T120000</td>\n",
       "      <td>2022-04-12T180000</td>\n",
       "      <td>Cloudy</td>\n",
       "      <td>NaN</td>\n",
       "    </tr>\n",
       "    <tr>\n",
       "      <th>4</th>\n",
       "      <td>2022-04-12T084116</td>\n",
       "      <td>1503</td>\n",
       "      <td>S107</td>\n",
       "      <td>S108</td>\n",
       "      <td>City</td>\n",
       "      <td>south</td>\n",
       "      <td>1</td>\n",
       "      <td>0.0</td>\n",
       "      <td>1.8</td>\n",
       "      <td>320.0</td>\n",
       "      <td>...</td>\n",
       "      <td>2022-04-12T000000</td>\n",
       "      <td>2022-04-12T060000</td>\n",
       "      <td>Partly Cloudy (Night)</td>\n",
       "      <td>2022-04-12T060000</td>\n",
       "      <td>2022-04-12T120000</td>\n",
       "      <td>Cloudy</td>\n",
       "      <td>2022-04-12T120000</td>\n",
       "      <td>2022-04-12T180000</td>\n",
       "      <td>Cloudy</td>\n",
       "      <td>NaN</td>\n",
       "    </tr>\n",
       "  </tbody>\n",
       "</table>\n",
       "<p>5 rows × 65 columns</p>\n",
       "</div>"
      ],
      "text/plain": [
       "      call_timestamp  cam_id non_rainfall_station_id rainfall_station_id  \\\n",
       "0  2022-04-12T084116    1001                    S107                S119   \n",
       "1  2022-04-12T084116    1001                    S107                S119   \n",
       "2  2022-04-12T084116    1501                    S107                S108   \n",
       "3  2022-04-12T084116    1502                    S107                S108   \n",
       "4  2022-04-12T084116    1503                    S107                S108   \n",
       "\n",
       "  2hr_forecast_area compass  direction  rainfall_realtime  \\\n",
       "0           Kallang   south          1                0.0   \n",
       "1           Kallang   south          2                0.0   \n",
       "2              City   south          1                0.0   \n",
       "3              City   south          1                0.0   \n",
       "4              City   south          1                0.0   \n",
       "\n",
       "   wind_speed_realtime  wind_dir_realtime  ...  24hr_period_1_start  \\\n",
       "0                  1.8              320.0  ...    2022-04-12T000000   \n",
       "1                  1.8              320.0  ...    2022-04-12T000000   \n",
       "2                  1.8              320.0  ...    2022-04-12T000000   \n",
       "3                  1.8              320.0  ...    2022-04-12T000000   \n",
       "4                  1.8              320.0  ...    2022-04-12T000000   \n",
       "\n",
       "   24hr_period_1_end          24hr_period_1 24hr_period_2_start  \\\n",
       "0  2022-04-12T060000  Partly Cloudy (Night)   2022-04-12T060000   \n",
       "1  2022-04-12T060000  Partly Cloudy (Night)   2022-04-12T060000   \n",
       "2  2022-04-12T060000  Partly Cloudy (Night)   2022-04-12T060000   \n",
       "3  2022-04-12T060000  Partly Cloudy (Night)   2022-04-12T060000   \n",
       "4  2022-04-12T060000  Partly Cloudy (Night)   2022-04-12T060000   \n",
       "\n",
       "   24hr_period_2_end 24hr_period_2 24hr_period_3_start  24hr_period_3_end  \\\n",
       "0  2022-04-12T120000        Cloudy   2022-04-12T120000  2022-04-12T180000   \n",
       "1  2022-04-12T120000        Cloudy   2022-04-12T120000  2022-04-12T180000   \n",
       "2  2022-04-12T120000        Cloudy   2022-04-12T120000  2022-04-12T180000   \n",
       "3  2022-04-12T120000        Cloudy   2022-04-12T120000  2022-04-12T180000   \n",
       "4  2022-04-12T120000        Cloudy   2022-04-12T120000  2022-04-12T180000   \n",
       "\n",
       "   24hr_period_3  trafficCongestion  \n",
       "0         Cloudy                NaN  \n",
       "1         Cloudy                NaN  \n",
       "2         Cloudy                NaN  \n",
       "3         Cloudy                NaN  \n",
       "4         Cloudy                NaN  \n",
       "\n",
       "[5 rows x 65 columns]"
      ]
     },
     "execution_count": 3,
     "metadata": {},
     "output_type": "execute_result"
    }
   ],
   "source": [
    "df.head()"
   ]
  },
  {
   "cell_type": "markdown",
   "id": "e7b29c4d",
   "metadata": {},
   "source": [
    "## 2.1 Transformations\n",
    "\n",
    "These are some transformations to make the data more useful "
   ]
  },
  {
   "cell_type": "code",
   "execution_count": 4,
   "id": "8d255192",
   "metadata": {},
   "outputs": [],
   "source": [
    "# Converting time from string to date time object\n",
    "df.call_timestamp = pd.to_datetime(df.call_timestamp)\n",
    "df[\"24hr_start\"] = pd.to_datetime(df[\"24hr_start\"])\n",
    "df[\"24hr_end\"] = pd.to_datetime(df[\"24hr_end\"])\n",
    "df[\"24hr_period_1_start\"] = pd.to_datetime(df[\"24hr_period_1_start\"])\n",
    "df[\"24hr_period_1_end\"] = pd.to_datetime(df[\"24hr_period_1_end\"])\n",
    "df[\"24hr_period_2_start\"] = pd.to_datetime(df[\"24hr_period_2_start\"])\n",
    "df[\"24hr_period_2_end\"] = pd.to_datetime(df[\"24hr_period_2_end\"])\n",
    "df[\"24hr_period_3_start\"] = pd.to_datetime(df[\"24hr_period_3_start\"])\n",
    "df[\"24hr_period_3_end\"] = pd.to_datetime(df[\"24hr_period_3_end\"])\n",
    "\n",
    "# Make dummy values\n",
    "dummy_df = pd.get_dummies(df.drop([\"trafficCongestion\", \"rainfall_station_id\", \"non_rainfall_station_id\",\n",
    "                                 \"2hr_forecast_area\", \"compass\"], axis = 1))\n",
    "df_keep = df[[\"trafficCongestion\", \"rainfall_station_id\", \"non_rainfall_station_id\", \"2hr_forecast_area\", \"compass\"]]\n",
    "\n",
    "# reform with dropped values \n",
    "dummy_df = pd.merge(dummy_df, df_keep, left_index=True, right_index=True)"
   ]
  },
  {
   "cell_type": "code",
   "execution_count": 5,
   "id": "926c0161",
   "metadata": {},
   "outputs": [],
   "source": [
    "# Creating a purely numeric df \n",
    "numeric_df = df[[\"rainfall_realtime\", \"wind_speed_realtime\", \"wind_dir_realtime\", 'humidity_realtime', 'air_temp_realtime', \n",
    "           '4day_temperature_low_1', '4day_temperature_low_2', '4day_temperature_low_3', '4day_temperature_low_4',\n",
    "           '4day_temperature_high_1', '4day_temperature_high_2', '4day_temperature_high_3', '4day_temperature_high_4',\n",
    "           '4day_relative_humidity_low_1', '4day_relative_humidity_low_2','4day_relative_humidity_low_3',\n",
    "           '4day_relative_humidity_low_4', '4day_relative_humidity_high_1', '4day_relative_humidity_high_2',\n",
    "           '4day_relative_humidity_high_3', '4day_relative_humidity_high_4','4day_wind_speed_low_1',\n",
    "           '4day_wind_speed_low_2', '4day_wind_speed_low_3', '4day_wind_speed_low_4','4day_wind_speed_high_1',\n",
    "           '4day_wind_speed_high_2','4day_wind_speed_high_3', '4day_wind_speed_high_4', \n",
    "           '24hr_general_relative_humidity_low','24hr_general_relative_humidity_high', '24hr_general_temperature_low',\n",
    "           '24hr_general_temperature_high', '24hr_general_wind_speed_low', '24hr_general_wind_speed_high', \n",
    "           \"trafficCongestion\", \n",
    "          \"cam_id\", \"direction\", \"rainfall_station_id\", \"non_rainfall_station_id\", \"2hr_forecast_area\", \"compass\"]]"
   ]
  },
  {
   "cell_type": "code",
   "execution_count": 6,
   "id": "7ade8eb7",
   "metadata": {},
   "outputs": [],
   "source": [
    "# Addtional information that can be dropped\n",
    "drop_identifiers = [\"rainfall_station_id\", \"non_rainfall_station_id\", \"2hr_forecast_area\", \"compass\"]\n",
    "drop_camera = [\"cam_id\", \"direction\"]\n",
    "drop_time = [\"call_timestamp\", \"24hr_start\", \"24hr_end\", \"24hr_period_1_start\", \"24hr_period_1_end\",\n",
    "            \"24hr_period_2_start\", \"24hr_period_2_end\", \"24hr_period_3_start\", \"24hr_period_3_end\"]"
   ]
  },
  {
   "cell_type": "markdown",
   "id": "4abe2c5a",
   "metadata": {},
   "source": [
    "## 2.2 Splitting the Dataset \n",
    "\n",
    "As with any model training, we will split the dataset into three portions. The first will be the training dataset using which the models will be trained upon. Next will the validation dataset which is used to help measure the performance and any tuning parameters if present. Finally, there is the test dataset. This dataset will be the unseen data that is not used at all until the final stage when determining a model. "
   ]
  },
  {
   "cell_type": "code",
   "execution_count": 7,
   "id": "690d15f4",
   "metadata": {},
   "outputs": [],
   "source": [
    "def get_dummy_data(remove_camera = False, validation_set = True, remove_time = True):\n",
    "    df = dummy_df.drop(drop_identifiers, axis = 1)\n",
    "    \n",
    "    if remove_camera:\n",
    "        df = df.drop(drop_camera, axis = 1)\n",
    "    \n",
    "    if remove_time:\n",
    "        df = df.drop(drop_time, axis = 1)\n",
    "    \n",
    "    df = df.dropna()\n",
    "    \n",
    "    X = df.drop(\"trafficCongestion\", axis = 1)\n",
    "    Y = df.trafficCongestion.to_numpy()\n",
    "    \n",
    "    X_train, X_test, y_train, y_test = train_test_split(X, Y, test_size=0.25, random_state=42)\n",
    "    \n",
    "    if validation_set:\n",
    "        X_train, X_valid, y_train, y_valid = train_test_split(X_train, y_train, test_size=0.25, random_state=42)\n",
    "        return X_train, X_valid, X_test, y_train, y_valid, y_test\n",
    "    \n",
    "    return X_train, X_test, y_train, y_test"
   ]
  },
  {
   "cell_type": "code",
   "execution_count": 8,
   "id": "74c873cb",
   "metadata": {},
   "outputs": [],
   "source": [
    "def get_numeric_data(remove_camera = False, validation_set = True):\n",
    "    df = numeric_df.drop(drop_identifiers, axis = 1)\n",
    "    \n",
    "    if remove_camera:\n",
    "        df = df.drop(drop_camera, axis = 1)\n",
    "    \n",
    "    df = df.dropna()\n",
    "    \n",
    "    X = df.drop(\"trafficCongestion\", axis = 1)\n",
    "    Y = df.trafficCongestion.to_numpy()\n",
    "    \n",
    "    X_train, X_test, y_train, y_test = train_test_split(X, Y, test_size=0.25, random_state=42)\n",
    "    \n",
    "    if validation_set:\n",
    "        X_train, X_valid, y_train, y_valid = train_test_split(X_train, y_train, test_size=0.25, random_state=42)\n",
    "        return X_train, X_valid, X_test, y_train, y_valid, y_test\n",
    "    \n",
    "    return X_train, X_test, y_train, y_test"
   ]
  },
  {
   "cell_type": "markdown",
   "id": "d75a084c",
   "metadata": {},
   "source": [
    "## 2.3 Helper Functions \n",
    "\n",
    "Some useful functions that will be repeatedly used"
   ]
  },
  {
   "cell_type": "code",
   "execution_count": 9,
   "id": "6ef1b12a",
   "metadata": {},
   "outputs": [],
   "source": [
    "def single_model_multiple_query(model, x_val, y_val, to_print = True):\n",
    "    start_time = time.perf_counter()\n",
    "    accuracy = get_accuracy(y_val, model.predict(x_val))\n",
    "    end_time = time.perf_counter()\n",
    "    if to_print:\n",
    "        print(f\"The accuracy is: {accuracy}\")\n",
    "        print(f\"The time taken to predict is {end_time - start_time:0.4f} seconds\")\n",
    "    return accuracy\n",
    "\n",
    "def get_accuracy(predicted, actual):\n",
    "    return np.mean(predicted == actual)\n",
    "\n",
    "def confusion_matrix(predicted, actual):\n",
    "    df = pd.crosstab(actual, predicted, margins=True, margins_name='Total', rownames = [\"Predicted\"], colnames = [\"Actual\"])\n",
    "    return df"
   ]
  },
  {
   "cell_type": "markdown",
   "id": "e135a04f",
   "metadata": {},
   "source": [
    "# 3. Random Forest \n",
    "\n",
    "## 3.1 Determining dataset \n",
    "\n",
    "Right now we have two possible datasets that we can train. For simplicity, we will need to focus on one. Hence will be build a simple random forest and determine base on the accuracy. Since random forest does boostraping, we can use the out of bag (OOB) as a proxy. While this eliminates the need for the validation set, we will still keep it to allow for a subset of the data for testing (to see how the predictions are being made). \n",
    "\n",
    "### 3.1.1 Dummy Df "
   ]
  },
  {
   "cell_type": "code",
   "execution_count": 19,
   "id": "f7c989e7",
   "metadata": {},
   "outputs": [],
   "source": [
    "X_train, X_valid, X_test, y_train, y_valid, y_test = get_dummy_data()"
   ]
  },
  {
   "cell_type": "code",
   "execution_count": null,
   "id": "5816cde1",
   "metadata": {},
   "outputs": [],
   "source": [
    "start_time = time.perf_counter()\n",
    "dummy_rf = RandomForestClassifier(random_state=0, oob_score = True).fit(X_train, y_train)\n",
    "end_time = time.perf_counter()\n",
    "print(f\"Time to train decision tree is {end_time - start_time:0.4f}\")"
   ]
  },
  {
   "cell_type": "code",
   "execution_count": null,
   "id": "39b3cb39",
   "metadata": {},
   "outputs": [],
   "source": [
    "dummy_rf.oob_score_"
   ]
  },
  {
   "cell_type": "code",
   "execution_count": null,
   "id": "702e7e45",
   "metadata": {},
   "outputs": [],
   "source": [
    "_ = single_model_multiple_query(dummy_rf, X_valid, y_valid)"
   ]
  },
  {
   "cell_type": "code",
   "execution_count": null,
   "id": "979c6e7a",
   "metadata": {},
   "outputs": [],
   "source": [
    "confusion_matrix(y_valid, dummy_rf.predict(X_valid))"
   ]
  },
  {
   "cell_type": "markdown",
   "id": "5774b724",
   "metadata": {},
   "source": [
    "### 3.1.2 Numeric Df "
   ]
  },
  {
   "cell_type": "code",
   "execution_count": 10,
   "id": "30fa6232",
   "metadata": {},
   "outputs": [],
   "source": [
    "X_train, X_valid, X_test, y_train, y_valid, y_test = get_numeric_data()"
   ]
  },
  {
   "cell_type": "code",
   "execution_count": 11,
   "id": "e3b564df",
   "metadata": {},
   "outputs": [
    {
     "data": {
      "text/html": [
       "<div>\n",
       "<style scoped>\n",
       "    .dataframe tbody tr th:only-of-type {\n",
       "        vertical-align: middle;\n",
       "    }\n",
       "\n",
       "    .dataframe tbody tr th {\n",
       "        vertical-align: top;\n",
       "    }\n",
       "\n",
       "    .dataframe thead th {\n",
       "        text-align: right;\n",
       "    }\n",
       "</style>\n",
       "<table border=\"1\" class=\"dataframe\">\n",
       "  <thead>\n",
       "    <tr style=\"text-align: right;\">\n",
       "      <th></th>\n",
       "      <th>rainfall_realtime</th>\n",
       "      <th>wind_speed_realtime</th>\n",
       "      <th>wind_dir_realtime</th>\n",
       "      <th>humidity_realtime</th>\n",
       "      <th>air_temp_realtime</th>\n",
       "      <th>4day_temperature_low_1</th>\n",
       "      <th>4day_temperature_low_2</th>\n",
       "      <th>4day_temperature_low_3</th>\n",
       "      <th>4day_temperature_low_4</th>\n",
       "      <th>4day_temperature_high_1</th>\n",
       "      <th>...</th>\n",
       "      <th>4day_wind_speed_high_3</th>\n",
       "      <th>4day_wind_speed_high_4</th>\n",
       "      <th>24hr_general_relative_humidity_low</th>\n",
       "      <th>24hr_general_relative_humidity_high</th>\n",
       "      <th>24hr_general_temperature_low</th>\n",
       "      <th>24hr_general_temperature_high</th>\n",
       "      <th>24hr_general_wind_speed_low</th>\n",
       "      <th>24hr_general_wind_speed_high</th>\n",
       "      <th>cam_id</th>\n",
       "      <th>direction</th>\n",
       "    </tr>\n",
       "  </thead>\n",
       "  <tbody>\n",
       "    <tr>\n",
       "      <th>170842</th>\n",
       "      <td>0.0</td>\n",
       "      <td>2.0</td>\n",
       "      <td>304.0</td>\n",
       "      <td>70.6</td>\n",
       "      <td>29.3</td>\n",
       "      <td>23</td>\n",
       "      <td>24</td>\n",
       "      <td>24</td>\n",
       "      <td>23</td>\n",
       "      <td>33</td>\n",
       "      <td>...</td>\n",
       "      <td>15</td>\n",
       "      <td>15</td>\n",
       "      <td>60</td>\n",
       "      <td>95</td>\n",
       "      <td>24</td>\n",
       "      <td>34</td>\n",
       "      <td>10</td>\n",
       "      <td>20</td>\n",
       "      <td>1004</td>\n",
       "      <td>1</td>\n",
       "    </tr>\n",
       "    <tr>\n",
       "      <th>204001</th>\n",
       "      <td>0.0</td>\n",
       "      <td>2.6</td>\n",
       "      <td>55.0</td>\n",
       "      <td>78.1</td>\n",
       "      <td>29.0</td>\n",
       "      <td>24</td>\n",
       "      <td>24</td>\n",
       "      <td>24</td>\n",
       "      <td>24</td>\n",
       "      <td>34</td>\n",
       "      <td>...</td>\n",
       "      <td>15</td>\n",
       "      <td>15</td>\n",
       "      <td>55</td>\n",
       "      <td>95</td>\n",
       "      <td>24</td>\n",
       "      <td>34</td>\n",
       "      <td>5</td>\n",
       "      <td>15</td>\n",
       "      <td>2704</td>\n",
       "      <td>1</td>\n",
       "    </tr>\n",
       "    <tr>\n",
       "      <th>215000</th>\n",
       "      <td>0.0</td>\n",
       "      <td>0.9</td>\n",
       "      <td>294.0</td>\n",
       "      <td>88.2</td>\n",
       "      <td>27.6</td>\n",
       "      <td>24</td>\n",
       "      <td>24</td>\n",
       "      <td>24</td>\n",
       "      <td>24</td>\n",
       "      <td>34</td>\n",
       "      <td>...</td>\n",
       "      <td>15</td>\n",
       "      <td>15</td>\n",
       "      <td>55</td>\n",
       "      <td>95</td>\n",
       "      <td>24</td>\n",
       "      <td>34</td>\n",
       "      <td>5</td>\n",
       "      <td>15</td>\n",
       "      <td>4701</td>\n",
       "      <td>2</td>\n",
       "    </tr>\n",
       "    <tr>\n",
       "      <th>381399</th>\n",
       "      <td>0.0</td>\n",
       "      <td>5.0</td>\n",
       "      <td>212.0</td>\n",
       "      <td>64.6</td>\n",
       "      <td>30.9</td>\n",
       "      <td>23</td>\n",
       "      <td>24</td>\n",
       "      <td>24</td>\n",
       "      <td>23</td>\n",
       "      <td>33</td>\n",
       "      <td>...</td>\n",
       "      <td>15</td>\n",
       "      <td>15</td>\n",
       "      <td>60</td>\n",
       "      <td>95</td>\n",
       "      <td>24</td>\n",
       "      <td>34</td>\n",
       "      <td>10</td>\n",
       "      <td>20</td>\n",
       "      <td>7798</td>\n",
       "      <td>1</td>\n",
       "    </tr>\n",
       "    <tr>\n",
       "      <th>399369</th>\n",
       "      <td>0.0</td>\n",
       "      <td>8.7</td>\n",
       "      <td>198.0</td>\n",
       "      <td>80.2</td>\n",
       "      <td>27.4</td>\n",
       "      <td>23</td>\n",
       "      <td>24</td>\n",
       "      <td>24</td>\n",
       "      <td>23</td>\n",
       "      <td>33</td>\n",
       "      <td>...</td>\n",
       "      <td>15</td>\n",
       "      <td>15</td>\n",
       "      <td>65</td>\n",
       "      <td>95</td>\n",
       "      <td>24</td>\n",
       "      <td>31</td>\n",
       "      <td>5</td>\n",
       "      <td>15</td>\n",
       "      <td>4701</td>\n",
       "      <td>1</td>\n",
       "    </tr>\n",
       "    <tr>\n",
       "      <th>...</th>\n",
       "      <td>...</td>\n",
       "      <td>...</td>\n",
       "      <td>...</td>\n",
       "      <td>...</td>\n",
       "      <td>...</td>\n",
       "      <td>...</td>\n",
       "      <td>...</td>\n",
       "      <td>...</td>\n",
       "      <td>...</td>\n",
       "      <td>...</td>\n",
       "      <td>...</td>\n",
       "      <td>...</td>\n",
       "      <td>...</td>\n",
       "      <td>...</td>\n",
       "      <td>...</td>\n",
       "      <td>...</td>\n",
       "      <td>...</td>\n",
       "      <td>...</td>\n",
       "      <td>...</td>\n",
       "      <td>...</td>\n",
       "      <td>...</td>\n",
       "    </tr>\n",
       "    <tr>\n",
       "      <th>197555</th>\n",
       "      <td>0.0</td>\n",
       "      <td>0.2</td>\n",
       "      <td>25.0</td>\n",
       "      <td>92.5</td>\n",
       "      <td>26.5</td>\n",
       "      <td>24</td>\n",
       "      <td>24</td>\n",
       "      <td>24</td>\n",
       "      <td>24</td>\n",
       "      <td>33</td>\n",
       "      <td>...</td>\n",
       "      <td>25</td>\n",
       "      <td>15</td>\n",
       "      <td>70</td>\n",
       "      <td>100</td>\n",
       "      <td>23</td>\n",
       "      <td>33</td>\n",
       "      <td>10</td>\n",
       "      <td>20</td>\n",
       "      <td>2702</td>\n",
       "      <td>3</td>\n",
       "    </tr>\n",
       "    <tr>\n",
       "      <th>291172</th>\n",
       "      <td>0.0</td>\n",
       "      <td>1.1</td>\n",
       "      <td>350.0</td>\n",
       "      <td>87.2</td>\n",
       "      <td>27.0</td>\n",
       "      <td>24</td>\n",
       "      <td>24</td>\n",
       "      <td>24</td>\n",
       "      <td>24</td>\n",
       "      <td>34</td>\n",
       "      <td>...</td>\n",
       "      <td>15</td>\n",
       "      <td>15</td>\n",
       "      <td>55</td>\n",
       "      <td>95</td>\n",
       "      <td>24</td>\n",
       "      <td>34</td>\n",
       "      <td>5</td>\n",
       "      <td>15</td>\n",
       "      <td>2702</td>\n",
       "      <td>3</td>\n",
       "    </tr>\n",
       "    <tr>\n",
       "      <th>452343</th>\n",
       "      <td>0.0</td>\n",
       "      <td>7.6</td>\n",
       "      <td>190.0</td>\n",
       "      <td>72.5</td>\n",
       "      <td>30.0</td>\n",
       "      <td>24</td>\n",
       "      <td>24</td>\n",
       "      <td>24</td>\n",
       "      <td>24</td>\n",
       "      <td>34</td>\n",
       "      <td>...</td>\n",
       "      <td>15</td>\n",
       "      <td>15</td>\n",
       "      <td>70</td>\n",
       "      <td>95</td>\n",
       "      <td>24</td>\n",
       "      <td>33</td>\n",
       "      <td>10</td>\n",
       "      <td>20</td>\n",
       "      <td>1707</td>\n",
       "      <td>1</td>\n",
       "    </tr>\n",
       "    <tr>\n",
       "      <th>449899</th>\n",
       "      <td>0.0</td>\n",
       "      <td>2.6</td>\n",
       "      <td>340.0</td>\n",
       "      <td>81.0</td>\n",
       "      <td>27.9</td>\n",
       "      <td>24</td>\n",
       "      <td>24</td>\n",
       "      <td>23</td>\n",
       "      <td>24</td>\n",
       "      <td>34</td>\n",
       "      <td>...</td>\n",
       "      <td>15</td>\n",
       "      <td>15</td>\n",
       "      <td>65</td>\n",
       "      <td>90</td>\n",
       "      <td>24</td>\n",
       "      <td>31</td>\n",
       "      <td>5</td>\n",
       "      <td>15</td>\n",
       "      <td>1003</td>\n",
       "      <td>2</td>\n",
       "    </tr>\n",
       "    <tr>\n",
       "      <th>315705</th>\n",
       "      <td>0.0</td>\n",
       "      <td>2.3</td>\n",
       "      <td>330.0</td>\n",
       "      <td>87.0</td>\n",
       "      <td>27.2</td>\n",
       "      <td>24</td>\n",
       "      <td>24</td>\n",
       "      <td>24</td>\n",
       "      <td>24</td>\n",
       "      <td>34</td>\n",
       "      <td>...</td>\n",
       "      <td>15</td>\n",
       "      <td>15</td>\n",
       "      <td>55</td>\n",
       "      <td>95</td>\n",
       "      <td>24</td>\n",
       "      <td>34</td>\n",
       "      <td>5</td>\n",
       "      <td>15</td>\n",
       "      <td>7797</td>\n",
       "      <td>2</td>\n",
       "    </tr>\n",
       "  </tbody>\n",
       "</table>\n",
       "<p>235406 rows × 37 columns</p>\n",
       "</div>"
      ],
      "text/plain": [
       "        rainfall_realtime  wind_speed_realtime  wind_dir_realtime  \\\n",
       "170842                0.0                  2.0              304.0   \n",
       "204001                0.0                  2.6               55.0   \n",
       "215000                0.0                  0.9              294.0   \n",
       "381399                0.0                  5.0              212.0   \n",
       "399369                0.0                  8.7              198.0   \n",
       "...                   ...                  ...                ...   \n",
       "197555                0.0                  0.2               25.0   \n",
       "291172                0.0                  1.1              350.0   \n",
       "452343                0.0                  7.6              190.0   \n",
       "449899                0.0                  2.6              340.0   \n",
       "315705                0.0                  2.3              330.0   \n",
       "\n",
       "        humidity_realtime  air_temp_realtime  4day_temperature_low_1  \\\n",
       "170842               70.6               29.3                      23   \n",
       "204001               78.1               29.0                      24   \n",
       "215000               88.2               27.6                      24   \n",
       "381399               64.6               30.9                      23   \n",
       "399369               80.2               27.4                      23   \n",
       "...                   ...                ...                     ...   \n",
       "197555               92.5               26.5                      24   \n",
       "291172               87.2               27.0                      24   \n",
       "452343               72.5               30.0                      24   \n",
       "449899               81.0               27.9                      24   \n",
       "315705               87.0               27.2                      24   \n",
       "\n",
       "        4day_temperature_low_2  4day_temperature_low_3  \\\n",
       "170842                      24                      24   \n",
       "204001                      24                      24   \n",
       "215000                      24                      24   \n",
       "381399                      24                      24   \n",
       "399369                      24                      24   \n",
       "...                        ...                     ...   \n",
       "197555                      24                      24   \n",
       "291172                      24                      24   \n",
       "452343                      24                      24   \n",
       "449899                      24                      23   \n",
       "315705                      24                      24   \n",
       "\n",
       "        4day_temperature_low_4  4day_temperature_high_1  ...  \\\n",
       "170842                      23                       33  ...   \n",
       "204001                      24                       34  ...   \n",
       "215000                      24                       34  ...   \n",
       "381399                      23                       33  ...   \n",
       "399369                      23                       33  ...   \n",
       "...                        ...                      ...  ...   \n",
       "197555                      24                       33  ...   \n",
       "291172                      24                       34  ...   \n",
       "452343                      24                       34  ...   \n",
       "449899                      24                       34  ...   \n",
       "315705                      24                       34  ...   \n",
       "\n",
       "        4day_wind_speed_high_3  4day_wind_speed_high_4  \\\n",
       "170842                      15                      15   \n",
       "204001                      15                      15   \n",
       "215000                      15                      15   \n",
       "381399                      15                      15   \n",
       "399369                      15                      15   \n",
       "...                        ...                     ...   \n",
       "197555                      25                      15   \n",
       "291172                      15                      15   \n",
       "452343                      15                      15   \n",
       "449899                      15                      15   \n",
       "315705                      15                      15   \n",
       "\n",
       "        24hr_general_relative_humidity_low  \\\n",
       "170842                                  60   \n",
       "204001                                  55   \n",
       "215000                                  55   \n",
       "381399                                  60   \n",
       "399369                                  65   \n",
       "...                                    ...   \n",
       "197555                                  70   \n",
       "291172                                  55   \n",
       "452343                                  70   \n",
       "449899                                  65   \n",
       "315705                                  55   \n",
       "\n",
       "        24hr_general_relative_humidity_high  24hr_general_temperature_low  \\\n",
       "170842                                   95                            24   \n",
       "204001                                   95                            24   \n",
       "215000                                   95                            24   \n",
       "381399                                   95                            24   \n",
       "399369                                   95                            24   \n",
       "...                                     ...                           ...   \n",
       "197555                                  100                            23   \n",
       "291172                                   95                            24   \n",
       "452343                                   95                            24   \n",
       "449899                                   90                            24   \n",
       "315705                                   95                            24   \n",
       "\n",
       "        24hr_general_temperature_high  24hr_general_wind_speed_low  \\\n",
       "170842                             34                           10   \n",
       "204001                             34                            5   \n",
       "215000                             34                            5   \n",
       "381399                             34                           10   \n",
       "399369                             31                            5   \n",
       "...                               ...                          ...   \n",
       "197555                             33                           10   \n",
       "291172                             34                            5   \n",
       "452343                             33                           10   \n",
       "449899                             31                            5   \n",
       "315705                             34                            5   \n",
       "\n",
       "        24hr_general_wind_speed_high  cam_id  direction  \n",
       "170842                            20    1004          1  \n",
       "204001                            15    2704          1  \n",
       "215000                            15    4701          2  \n",
       "381399                            20    7798          1  \n",
       "399369                            15    4701          1  \n",
       "...                              ...     ...        ...  \n",
       "197555                            20    2702          3  \n",
       "291172                            15    2702          3  \n",
       "452343                            20    1707          1  \n",
       "449899                            15    1003          2  \n",
       "315705                            15    7797          2  \n",
       "\n",
       "[235406 rows x 37 columns]"
      ]
     },
     "execution_count": 11,
     "metadata": {},
     "output_type": "execute_result"
    }
   ],
   "source": [
    "X_train"
   ]
  },
  {
   "cell_type": "code",
   "execution_count": 12,
   "id": "8a93c951",
   "metadata": {},
   "outputs": [
    {
     "name": "stdout",
     "output_type": "stream",
     "text": [
      "Time to train decision tree is 43.1015\n"
     ]
    }
   ],
   "source": [
    "start_time = time.perf_counter()\n",
    "numeric_rf = RandomForestClassifier(random_state=0, oob_score = True).fit(X_train, y_train)\n",
    "end_time = time.perf_counter()\n",
    "print(f\"Time to train decision tree is {end_time - start_time:0.4f}\")"
   ]
  },
  {
   "cell_type": "code",
   "execution_count": 13,
   "id": "4aa48985",
   "metadata": {},
   "outputs": [
    {
     "data": {
      "text/plain": [
       "0.6181405741569883"
      ]
     },
     "execution_count": 13,
     "metadata": {},
     "output_type": "execute_result"
    }
   ],
   "source": [
    "numeric_rf.oob_score_"
   ]
  },
  {
   "cell_type": "code",
   "execution_count": 14,
   "id": "1766f6d2",
   "metadata": {},
   "outputs": [
    {
     "name": "stdout",
     "output_type": "stream",
     "text": [
      "The accuracy is: 0.6143572621035058\n",
      "The time taken to predict is 2.9688 seconds\n"
     ]
    }
   ],
   "source": [
    "_ = single_model_multiple_query(numeric_rf, X_valid, y_valid)"
   ]
  },
  {
   "cell_type": "code",
   "execution_count": 15,
   "id": "6c5aa376",
   "metadata": {},
   "outputs": [
    {
     "data": {
      "text/html": [
       "<div>\n",
       "<style scoped>\n",
       "    .dataframe tbody tr th:only-of-type {\n",
       "        vertical-align: middle;\n",
       "    }\n",
       "\n",
       "    .dataframe tbody tr th {\n",
       "        vertical-align: top;\n",
       "    }\n",
       "\n",
       "    .dataframe thead th {\n",
       "        text-align: right;\n",
       "    }\n",
       "</style>\n",
       "<table border=\"1\" class=\"dataframe\">\n",
       "  <thead>\n",
       "    <tr style=\"text-align: right;\">\n",
       "      <th>Actual</th>\n",
       "      <th>Heavy</th>\n",
       "      <th>Medium</th>\n",
       "      <th>Mild</th>\n",
       "      <th>None</th>\n",
       "      <th>Total</th>\n",
       "    </tr>\n",
       "    <tr>\n",
       "      <th>Predicted</th>\n",
       "      <th></th>\n",
       "      <th></th>\n",
       "      <th></th>\n",
       "      <th></th>\n",
       "      <th></th>\n",
       "    </tr>\n",
       "  </thead>\n",
       "  <tbody>\n",
       "    <tr>\n",
       "      <th>Heavy</th>\n",
       "      <td>3228</td>\n",
       "      <td>2400</td>\n",
       "      <td>567</td>\n",
       "      <td>1793</td>\n",
       "      <td>7988</td>\n",
       "    </tr>\n",
       "    <tr>\n",
       "      <th>Medium</th>\n",
       "      <td>2350</td>\n",
       "      <td>7035</td>\n",
       "      <td>1252</td>\n",
       "      <td>5276</td>\n",
       "      <td>15913</td>\n",
       "    </tr>\n",
       "    <tr>\n",
       "      <th>Mild</th>\n",
       "      <td>639</td>\n",
       "      <td>1164</td>\n",
       "      <td>1645</td>\n",
       "      <td>2069</td>\n",
       "      <td>5517</td>\n",
       "    </tr>\n",
       "    <tr>\n",
       "      <th>None</th>\n",
       "      <td>2442</td>\n",
       "      <td>7220</td>\n",
       "      <td>3089</td>\n",
       "      <td>36300</td>\n",
       "      <td>49051</td>\n",
       "    </tr>\n",
       "    <tr>\n",
       "      <th>Total</th>\n",
       "      <td>8659</td>\n",
       "      <td>17819</td>\n",
       "      <td>6553</td>\n",
       "      <td>45438</td>\n",
       "      <td>78469</td>\n",
       "    </tr>\n",
       "  </tbody>\n",
       "</table>\n",
       "</div>"
      ],
      "text/plain": [
       "Actual     Heavy  Medium  Mild   None  Total\n",
       "Predicted                                   \n",
       "Heavy       3228    2400   567   1793   7988\n",
       "Medium      2350    7035  1252   5276  15913\n",
       "Mild         639    1164  1645   2069   5517\n",
       "None        2442    7220  3089  36300  49051\n",
       "Total       8659   17819  6553  45438  78469"
      ]
     },
     "execution_count": 15,
     "metadata": {},
     "output_type": "execute_result"
    }
   ],
   "source": [
    "confusion_matrix(y_valid, numeric_rf.predict(X_valid))"
   ]
  },
  {
   "cell_type": "code",
   "execution_count": 16,
   "id": "11daabb8",
   "metadata": {},
   "outputs": [
    {
     "data": {
      "text/plain": [
       "RandomForestClassifier(oob_score=True, random_state=0)"
      ]
     },
     "execution_count": 16,
     "metadata": {},
     "output_type": "execute_result"
    }
   ],
   "source": [
    "numeric_rf"
   ]
  },
  {
   "cell_type": "markdown",
   "id": "caa71ae2",
   "metadata": {},
   "source": [
    "### 3.1.3 Decision \n",
    "\n",
    "Based on the accuracies seen, the numeric dataframe works better. One reason why could be that with less data, it is better able to generalise better. "
   ]
  },
  {
   "cell_type": "markdown",
   "id": "b241e7c9",
   "metadata": {},
   "source": [
    "## 3.2 Tuning Random Forest \n",
    "\n",
    "Before experimenting with the parallel jobs, we will first tune the model. The hyperparameters include: \n",
    "1. Number of trees   \n",
    "2. Depth of trees   \n",
    "\n",
    "While there are other paramters that can be tuned such as max features considered at each split or minimum impurity decrease before a split is done, they are not chosen. The reason is so that when running the spark ML random forest, the same parameters can be considered to allow for a fairer comparision. \n",
    "\n",
    "While this is a 2d grid search, doing so would be computationally expensive, especially with such a large dataset. Hence, we will split the tuning process into two steps. First we will focus on finding a suitable number of trees. Since having more trees will not affect the overall performance of the model, this can be the first step. After that, we can focus on tuning for the depth as this is simply pruning the trees. Finally, we can re-check the performance of the number of trees with the limitation in size, where ideally the first chosen number of trees performing well. \n",
    "\n",
    "### 3.2.1 Tuning Number of Trees"
   ]
  },
  {
   "cell_type": "code",
   "execution_count": 17,
   "id": "cfb57aea",
   "metadata": {},
   "outputs": [],
   "source": [
    "X_train, X_valid, X_test, y_train, y_valid, y_test = get_numeric_data()"
   ]
  },
  {
   "cell_type": "code",
   "execution_count": 22,
   "id": "0568fb6a",
   "metadata": {},
   "outputs": [],
   "source": [
    "num_trees = list(range(100, 1000, 100))\n",
    "time_to_fit_num = []\n",
    "oob_score_num = []"
   ]
  },
  {
   "cell_type": "code",
   "execution_count": 23,
   "id": "b6a06bbe",
   "metadata": {},
   "outputs": [],
   "source": [
    "for num in num_trees:\n",
    "    start_time = time.perf_counter()\n",
    "    rf = RandomForestClassifier(random_state=0, oob_score = True, n_estimators = num, \n",
    "                                max_depth = None, n_jobs = -1).fit(X_train, y_train)\n",
    "    end_time = time.perf_counter()\n",
    "    time_to_fit_num.append(end_time - start_time)\n",
    "    oob_score_num.append(rf.oob_score_)"
   ]
  },
  {
   "cell_type": "code",
   "execution_count": 25,
   "id": "e2fd829d",
   "metadata": {},
   "outputs": [
    {
     "data": {
      "text/plain": [
       "[13.553728800000044,\n",
       " 25.61215940000011,\n",
       " 41.00423500000011,\n",
       " 56.273184999999785,\n",
       " 73.43202960000008,\n",
       " 104.88586549999991,\n",
       " 136.9619706000001,\n",
       " 179.04801959999986,\n",
       " 199.7357887999999]"
      ]
     },
     "execution_count": 25,
     "metadata": {},
     "output_type": "execute_result"
    }
   ],
   "source": [
    "time_to_fit_num"
   ]
  },
  {
   "cell_type": "code",
   "execution_count": 28,
   "id": "0b1b96e2",
   "metadata": {},
   "outputs": [
    {
     "data": {
      "text/plain": [
       "[<matplotlib.lines.Line2D at 0x10b86ccdc40>]"
      ]
     },
     "execution_count": 28,
     "metadata": {},
     "output_type": "execute_result"
    },
    {
     "data": {
      "image/png": "[encoded data removed]",
      "text/plain": [
       "<Figure size 432x288 with 1 Axes>"
      ]
     },
     "metadata": {
      "needs_background": "light"
     },
     "output_type": "display_data"
    }
   ],
   "source": [
    "plt.plot(oob_score_num)"
   ]
  },
  {
   "cell_type": "code",
   "execution_count": 32,
   "id": "5b52cf8b",
   "metadata": {},
   "outputs": [],
   "source": [
    "num_trees2 = list(range(10, 150, 10))\n",
    "time_to_fit_num2 = []\n",
    "oob_score_num2 = []"
   ]
  },
  {
   "cell_type": "code",
   "execution_count": 33,
   "id": "aabf84b8",
   "metadata": {},
   "outputs": [
    {
     "name": "stderr",
     "output_type": "stream",
     "text": [
      "c:\\users\\vik\\desktop\\cs 4225\\project\\traffic-predict\\.venv\\lib\\site-packages\\sklearn\\ensemble\\_forest.py:560: UserWarning: Some inputs do not have OOB scores. This probably means too few trees were used to compute any reliable OOB estimates.\n",
      "  warn(\n",
      "c:\\users\\vik\\desktop\\cs 4225\\project\\traffic-predict\\.venv\\lib\\site-packages\\sklearn\\ensemble\\_forest.py:560: UserWarning: Some inputs do not have OOB scores. This probably means too few trees were used to compute any reliable OOB estimates.\n",
      "  warn(\n"
     ]
    }
   ],
   "source": [
    "for num in num_trees2:\n",
    "    start_time = time.perf_counter()\n",
    "    rf = RandomForestClassifier(random_state=0, oob_score = True, n_estimators = num, \n",
    "                                max_depth = None, n_jobs = -1).fit(X_train, y_train)\n",
    "    end_time = time.perf_counter()\n",
    "    time_to_fit_num2.append(end_time - start_time)\n",
    "    oob_score_num2.append(rf.oob_score_)"
   ]
  },
  {
   "cell_type": "code",
   "execution_count": 34,
   "id": "b0e92ede",
   "metadata": {},
   "outputs": [
    {
     "data": {
      "text/plain": [
       "[<matplotlib.lines.Line2D at 0x10b86f7c940>]"
      ]
     },
     "execution_count": 34,
     "metadata": {},
     "output_type": "execute_result"
    },
    {
     "data": {
      "image/png": "[encoded data removed]",
      "text/plain": [
       "<Figure size 432x288 with 1 Axes>"
      ]
     },
     "metadata": {
      "needs_background": "light"
     },
     "output_type": "display_data"
    }
   ],
   "source": [
    "plt.plot(oob_score_num2)"
   ]
  },
  {
   "cell_type": "code",
   "execution_count": 35,
   "id": "20f1695b",
   "metadata": {},
   "outputs": [
    {
     "data": {
      "text/plain": [
       "10"
      ]
     },
     "execution_count": 35,
     "metadata": {},
     "output_type": "execute_result"
    }
   ],
   "source": [
    "np.argmax(oob_score_num2)"
   ]
  },
  {
   "cell_type": "code",
   "execution_count": 36,
   "id": "433f2625",
   "metadata": {},
   "outputs": [
    {
     "data": {
      "text/plain": [
       "110"
      ]
     },
     "execution_count": 36,
     "metadata": {},
     "output_type": "execute_result"
    }
   ],
   "source": [
    "num_trees2[10]"
   ]
  },
  {
   "cell_type": "markdown",
   "id": "2335b7d0",
   "metadata": {},
   "source": [
    "### 3.2.2 Tuning Depth of Trees"
   ]
  },
  {
   "cell_type": "code",
   "execution_count": 43,
   "id": "e8400c70",
   "metadata": {},
   "outputs": [],
   "source": [
    "max_depth = list(range(10,30))\n",
    "time_to_fit_depth = []\n",
    "oob_score_depth = []"
   ]
  },
  {
   "cell_type": "code",
   "execution_count": 44,
   "id": "3ceb89ea",
   "metadata": {},
   "outputs": [],
   "source": [
    "for depth in max_depth:\n",
    "    start_time = time.perf_counter()\n",
    "    rf = RandomForestClassifier(random_state=0, oob_score = True, n_estimators = 110, \n",
    "                                max_depth = depth, n_jobs = -1).fit(X_train, y_train)\n",
    "    end_time = time.perf_counter()\n",
    "    time_to_fit_depth.append(end_time - start_time)\n",
    "    oob_score_depth.append(rf.oob_score_)"
   ]
  },
  {
   "cell_type": "code",
   "execution_count": 45,
   "id": "061b5b15",
   "metadata": {},
   "outputs": [
    {
     "data": {
      "text/plain": [
       "[<matplotlib.lines.Line2D at 0x10b8775ce20>]"
      ]
     },
     "execution_count": 45,
     "metadata": {},
     "output_type": "execute_result"
    },
    {
     "data": {
      "image/png": "[encoded data removed]",
      "text/plain": [
       "<Figure size 432x288 with 1 Axes>"
      ]
     },
     "metadata": {
      "needs_background": "light"
     },
     "output_type": "display_data"
    }
   ],
   "source": [
    "plt.plot(oob_score_depth)"
   ]
  },
  {
   "cell_type": "code",
   "execution_count": 46,
   "id": "5ff65c7f",
   "metadata": {},
   "outputs": [
    {
     "data": {
      "text/plain": [
       "9"
      ]
     },
     "execution_count": 46,
     "metadata": {},
     "output_type": "execute_result"
    }
   ],
   "source": [
    "np.argmax(oob_score_depth)"
   ]
  },
  {
   "cell_type": "code",
   "execution_count": 47,
   "id": "216634aa",
   "metadata": {},
   "outputs": [
    {
     "data": {
      "text/plain": [
       "19"
      ]
     },
     "execution_count": 47,
     "metadata": {},
     "output_type": "execute_result"
    }
   ],
   "source": [
    "max_depth[9]"
   ]
  },
  {
   "cell_type": "markdown",
   "id": "8fd46ce8",
   "metadata": {},
   "source": [
    "### 3.2.3 Final Performance \n",
    "\n",
    "This is to test the final hyper paramters as well as see the performance on the validation set "
   ]
  },
  {
   "cell_type": "code",
   "execution_count": 51,
   "id": "3b053c94",
   "metadata": {},
   "outputs": [],
   "source": [
    "num_trees = list(range(50, 250, 10))\n",
    "time_to_fit_num = []\n",
    "oob_score_num = []"
   ]
  },
  {
   "cell_type": "code",
   "execution_count": 52,
   "id": "8efccdc9",
   "metadata": {},
   "outputs": [],
   "source": [
    "for num in num_trees:\n",
    "    start_time = time.perf_counter()\n",
    "    rf = RandomForestClassifier(random_state=0, oob_score = True, n_estimators = num, \n",
    "                                max_depth = 19, n_jobs = -1).fit(X_train, y_train)\n",
    "    end_time = time.perf_counter()\n",
    "    time_to_fit_num.append(end_time - start_time)\n",
    "    oob_score_num.append(rf.oob_score_)"
   ]
  },
  {
   "cell_type": "code",
   "execution_count": 53,
   "id": "c8c6e777",
   "metadata": {},
   "outputs": [
    {
     "data": {
      "text/plain": [
       "[<matplotlib.lines.Line2D at 0x10b87770d30>]"
      ]
     },
     "execution_count": 53,
     "metadata": {},
     "output_type": "execute_result"
    },
    {
     "data": {
      "image/png": "[encoded data removed]",
      "text/plain": [
       "<Figure size 432x288 with 1 Axes>"
      ]
     },
     "metadata": {
      "needs_background": "light"
     },
     "output_type": "display_data"
    }
   ],
   "source": [
    "plt.plot(oob_score_num)"
   ]
  },
  {
   "cell_type": "markdown",
   "id": "8af11dec",
   "metadata": {},
   "source": [
    "So we are roughly around the same number of trees and the OOB score is just under 70% and hence acceptable. While further tuning and other models may lead to even better accuracies, given the context of the project this will be sufficient as a proof of concept. "
   ]
  },
  {
   "cell_type": "code",
   "execution_count": 54,
   "id": "84c528de",
   "metadata": {},
   "outputs": [
    {
     "data": {
      "text/plain": [
       "8"
      ]
     },
     "execution_count": 54,
     "metadata": {},
     "output_type": "execute_result"
    }
   ],
   "source": [
    "np.argmax(oob_score_num)"
   ]
  },
  {
   "cell_type": "code",
   "execution_count": 55,
   "id": "8f155d5f",
   "metadata": {},
   "outputs": [
    {
     "data": {
      "text/plain": [
       "130"
      ]
     },
     "execution_count": 55,
     "metadata": {},
     "output_type": "execute_result"
    }
   ],
   "source": [
    "num_trees[8]"
   ]
  },
  {
   "cell_type": "code",
   "execution_count": 56,
   "id": "a55c0c2d",
   "metadata": {},
   "outputs": [],
   "source": [
    "rf = RandomForestClassifier(random_state=0, oob_score = True, n_estimators = 130, \n",
    "                            max_depth = 19, n_jobs = -1).fit(X_train, y_train)"
   ]
  },
  {
   "cell_type": "code",
   "execution_count": 60,
   "id": "f138661e",
   "metadata": {},
   "outputs": [
    {
     "data": {
      "text/html": [
       "<div>\n",
       "<style scoped>\n",
       "    .dataframe tbody tr th:only-of-type {\n",
       "        vertical-align: middle;\n",
       "    }\n",
       "\n",
       "    .dataframe tbody tr th {\n",
       "        vertical-align: top;\n",
       "    }\n",
       "\n",
       "    .dataframe thead th {\n",
       "        text-align: right;\n",
       "    }\n",
       "</style>\n",
       "<table border=\"1\" class=\"dataframe\">\n",
       "  <thead>\n",
       "    <tr style=\"text-align: right;\">\n",
       "      <th>Actual</th>\n",
       "      <th>Heavy</th>\n",
       "      <th>Medium</th>\n",
       "      <th>Mild</th>\n",
       "      <th>None</th>\n",
       "      <th>Total</th>\n",
       "    </tr>\n",
       "    <tr>\n",
       "      <th>Predicted</th>\n",
       "      <th></th>\n",
       "      <th></th>\n",
       "      <th></th>\n",
       "      <th></th>\n",
       "      <th></th>\n",
       "    </tr>\n",
       "  </thead>\n",
       "  <tbody>\n",
       "    <tr>\n",
       "      <th>Heavy</th>\n",
       "      <td>2253</td>\n",
       "      <td>935</td>\n",
       "      <td>226</td>\n",
       "      <td>568</td>\n",
       "      <td>3982</td>\n",
       "    </tr>\n",
       "    <tr>\n",
       "      <th>Medium</th>\n",
       "      <td>1832</td>\n",
       "      <td>5795</td>\n",
       "      <td>760</td>\n",
       "      <td>2128</td>\n",
       "      <td>10515</td>\n",
       "    </tr>\n",
       "    <tr>\n",
       "      <th>Mild</th>\n",
       "      <td>204</td>\n",
       "      <td>252</td>\n",
       "      <td>806</td>\n",
       "      <td>237</td>\n",
       "      <td>1499</td>\n",
       "    </tr>\n",
       "    <tr>\n",
       "      <th>None</th>\n",
       "      <td>2659</td>\n",
       "      <td>8120</td>\n",
       "      <td>3750</td>\n",
       "      <td>35779</td>\n",
       "      <td>50308</td>\n",
       "    </tr>\n",
       "    <tr>\n",
       "      <th>Total</th>\n",
       "      <td>6948</td>\n",
       "      <td>15102</td>\n",
       "      <td>5542</td>\n",
       "      <td>38712</td>\n",
       "      <td>66304</td>\n",
       "    </tr>\n",
       "  </tbody>\n",
       "</table>\n",
       "</div>"
      ],
      "text/plain": [
       "Actual     Heavy  Medium  Mild   None  Total\n",
       "Predicted                                   \n",
       "Heavy       2253     935   226    568   3982\n",
       "Medium      1832    5795   760   2128  10515\n",
       "Mild         204     252   806    237   1499\n",
       "None        2659    8120  3750  35779  50308\n",
       "Total       6948   15102  5542  38712  66304"
      ]
     },
     "execution_count": 60,
     "metadata": {},
     "output_type": "execute_result"
    }
   ],
   "source": [
    "validation_prediction = rf.predict(X_valid)\n",
    "confusion_matrix(y_valid, validation_prediction)"
   ]
  },
  {
   "cell_type": "code",
   "execution_count": 61,
   "id": "2f540058",
   "metadata": {},
   "outputs": [
    {
     "data": {
      "text/plain": [
       "0.6731569739382239"
      ]
     },
     "execution_count": 61,
     "metadata": {},
     "output_type": "execute_result"
    }
   ],
   "source": [
    "get_accuracy(y_valid, validation_prediction)"
   ]
  },
  {
   "cell_type": "code",
   "execution_count": 62,
   "id": "5a0e9cb8",
   "metadata": {},
   "outputs": [],
   "source": [
    "# can do some rejoin then like work or smth "
   ]
  },
  {
   "cell_type": "markdown",
   "id": "b637ff2c",
   "metadata": {},
   "source": [
    "## 3.3 Full Model\n",
    "\n",
    "Since there is no more training, we can train a full model with all the data without splitting. This can be used on the front end. "
   ]
  },
  {
   "cell_type": "code",
   "execution_count": 18,
   "id": "5c1cbfd1",
   "metadata": {},
   "outputs": [],
   "source": [
    "df = numeric_df.drop(drop_identifiers, axis = 1)\n",
    "df = df.dropna()\n",
    "X = df.drop(\"trafficCongestion\", axis = 1)\n",
    "Y = df.trafficCongestion.to_numpy()"
   ]
  },
  {
   "cell_type": "code",
   "execution_count": 19,
   "id": "e65bc61d",
   "metadata": {},
   "outputs": [],
   "source": [
    "full_rf = RandomForestClassifier(random_state=0, oob_score = True, n_estimators = 130, \n",
    "                            max_depth = 19, n_jobs = -1).fit(X, Y)"
   ]
  },
  {
   "cell_type": "code",
   "execution_count": 77,
   "id": "b7417934",
   "metadata": {},
   "outputs": [],
   "source": [
    "# save the model to disk\n",
    "# filename = 'final_random_forest.sav'\n",
    "# pickle.dump(full_rf, open(filename, 'wb'))\n",
    "# loaded_model = pickle.load(open(filename, 'rb'))"
   ]
  },
  {
   "cell_type": "markdown",
   "id": "5fd292d2",
   "metadata": {},
   "source": [
    "# 4. Parallelism \n",
    "\n",
    "So here we can time the time taken to train depending on the number of jobs. For reference, the PC that is being used is a quad core with 8 logical processors. Hence the number of jobs can range from 1 to 8. "
   ]
  },
  {
   "cell_type": "code",
   "execution_count": 35,
   "id": "8be118ee",
   "metadata": {},
   "outputs": [],
   "source": [
    "book = dict(zip(list(range(1,9)), [[] for i in range(8)]))\n",
    "num_trees = list(range(100, 1100, 100))"
   ]
  },
  {
   "cell_type": "code",
   "execution_count": 36,
   "id": "d8c1be7d",
   "metadata": {},
   "outputs": [],
   "source": [
    "# for i in range(1,9):\n",
    "#     for x in num_trees:\n",
    "#         start_time = time.perf_counter()\n",
    "#         tree = RandomForestClassifier(random_state=0, oob_score = False, n_estimators = x, \n",
    "#                             max_depth = 19, n_jobs = i).fit(X, Y)\n",
    "#         end_time = time.perf_counter()\n",
    "#         book[i].append(end_time - start_time)"
   ]
  },
  {
   "cell_type": "code",
   "execution_count": 60,
   "id": "984efa12",
   "metadata": {},
   "outputs": [],
   "source": [
    "rows = []\n",
    "for i in range(1,9):\n",
    "    for x in range(len(num_trees)):\n",
    "        rows.append((i,x,num_trees[x],book[i][x]))"
   ]
  },
  {
   "cell_type": "code",
   "execution_count": 61,
   "id": "1a539f82",
   "metadata": {},
   "outputs": [],
   "source": [
    "timings = pd.DataFrame(rows, columns = [\"cores\", \"index\", \"num_trees\", \"time\"])"
   ]
  },
  {
   "cell_type": "code",
   "execution_count": 62,
   "id": "1957e46c",
   "metadata": {},
   "outputs": [],
   "source": [
    "timings2 = timings.copy()\n",
    "timings2[\"log\"] = np.log(timings2.time)"
   ]
  },
  {
   "cell_type": "code",
   "execution_count": 63,
   "id": "f61b044e",
   "metadata": {},
   "outputs": [
    {
     "data": {
      "image/png": "[encoded data removed]",
      "text/plain": [
       "<Figure size 864x576 with 1 Axes>"
      ]
     },
     "metadata": {
      "needs_background": "light"
     },
     "output_type": "display_data"
    }
   ],
   "source": [
    "fig, ax = plt.subplots(figsize=(12,8))\n",
    "for label, df in timings2.groupby(\"cores\"):\n",
    "    df.plot(\"num_trees\", \"log\", ax=ax, label=label)\n",
    "plt.legend();"
   ]
  },
  {
   "cell_type": "code",
   "execution_count": 64,
   "id": "4f117349",
   "metadata": {},
   "outputs": [
    {
     "data": {
      "image/png": "[encoded data removed]",
      "text/plain": [
       "<Figure size 864x576 with 1 Axes>"
      ]
     },
     "metadata": {
      "needs_background": "light"
     },
     "output_type": "display_data"
    }
   ],
   "source": [
    "fig, ax = plt.subplots(figsize=(12,8))\n",
    "for label, df in timings2.groupby(\"cores\"):\n",
    "    df.plot(\"num_trees\", \"time\", ax=ax, label=label)\n",
    "plt.legend();"
   ]
  },
  {
   "cell_type": "code",
   "execution_count": 82,
   "id": "c3b51783",
   "metadata": {},
   "outputs": [
    {
     "data": {
      "text/html": [
       "<div>\n",
       "<style scoped>\n",
       "    .dataframe tbody tr th:only-of-type {\n",
       "        vertical-align: middle;\n",
       "    }\n",
       "\n",
       "    .dataframe tbody tr th {\n",
       "        vertical-align: top;\n",
       "    }\n",
       "\n",
       "    .dataframe thead th {\n",
       "        text-align: right;\n",
       "    }\n",
       "</style>\n",
       "<table border=\"1\" class=\"dataframe\">\n",
       "  <thead>\n",
       "    <tr style=\"text-align: right;\">\n",
       "      <th></th>\n",
       "      <th>rainfall_realtime</th>\n",
       "      <th>wind_speed_realtime</th>\n",
       "      <th>wind_dir_realtime</th>\n",
       "      <th>humidity_realtime</th>\n",
       "      <th>air_temp_realtime</th>\n",
       "      <th>4day_temperature_low_1</th>\n",
       "      <th>4day_temperature_low_2</th>\n",
       "      <th>4day_temperature_low_3</th>\n",
       "      <th>4day_temperature_low_4</th>\n",
       "      <th>4day_temperature_high_1</th>\n",
       "      <th>...</th>\n",
       "      <th>24hr_general_temperature_high</th>\n",
       "      <th>24hr_general_wind_speed_low</th>\n",
       "      <th>24hr_general_wind_speed_high</th>\n",
       "      <th>trafficCongestion</th>\n",
       "      <th>cam_id</th>\n",
       "      <th>direction</th>\n",
       "      <th>rainfall_station_id</th>\n",
       "      <th>non_rainfall_station_id</th>\n",
       "      <th>2hr_forecast_area</th>\n",
       "      <th>compass</th>\n",
       "    </tr>\n",
       "  </thead>\n",
       "  <tbody>\n",
       "    <tr>\n",
       "      <th>0</th>\n",
       "      <td>0.0</td>\n",
       "      <td>7.9</td>\n",
       "      <td>93.0</td>\n",
       "      <td>76.1</td>\n",
       "      <td>30.6</td>\n",
       "      <td>24</td>\n",
       "      <td>24</td>\n",
       "      <td>24</td>\n",
       "      <td>24</td>\n",
       "      <td>34</td>\n",
       "      <td>...</td>\n",
       "      <td>34</td>\n",
       "      <td>5</td>\n",
       "      <td>15</td>\n",
       "      <td>None</td>\n",
       "      <td>1001</td>\n",
       "      <td>1</td>\n",
       "      <td>S119</td>\n",
       "      <td>S107</td>\n",
       "      <td>Kallang</td>\n",
       "      <td>south</td>\n",
       "    </tr>\n",
       "    <tr>\n",
       "      <th>1</th>\n",
       "      <td>0.0</td>\n",
       "      <td>7.9</td>\n",
       "      <td>93.0</td>\n",
       "      <td>76.1</td>\n",
       "      <td>30.6</td>\n",
       "      <td>24</td>\n",
       "      <td>24</td>\n",
       "      <td>24</td>\n",
       "      <td>24</td>\n",
       "      <td>34</td>\n",
       "      <td>...</td>\n",
       "      <td>34</td>\n",
       "      <td>5</td>\n",
       "      <td>15</td>\n",
       "      <td>None</td>\n",
       "      <td>1001</td>\n",
       "      <td>2</td>\n",
       "      <td>S119</td>\n",
       "      <td>S107</td>\n",
       "      <td>Kallang</td>\n",
       "      <td>south</td>\n",
       "    </tr>\n",
       "    <tr>\n",
       "      <th>2</th>\n",
       "      <td>0.0</td>\n",
       "      <td>7.9</td>\n",
       "      <td>93.0</td>\n",
       "      <td>76.1</td>\n",
       "      <td>30.6</td>\n",
       "      <td>24</td>\n",
       "      <td>24</td>\n",
       "      <td>24</td>\n",
       "      <td>24</td>\n",
       "      <td>34</td>\n",
       "      <td>...</td>\n",
       "      <td>34</td>\n",
       "      <td>5</td>\n",
       "      <td>15</td>\n",
       "      <td>None</td>\n",
       "      <td>1501</td>\n",
       "      <td>1</td>\n",
       "      <td>S108</td>\n",
       "      <td>S107</td>\n",
       "      <td>City</td>\n",
       "      <td>south</td>\n",
       "    </tr>\n",
       "    <tr>\n",
       "      <th>3</th>\n",
       "      <td>0.0</td>\n",
       "      <td>7.9</td>\n",
       "      <td>93.0</td>\n",
       "      <td>76.1</td>\n",
       "      <td>30.6</td>\n",
       "      <td>24</td>\n",
       "      <td>24</td>\n",
       "      <td>24</td>\n",
       "      <td>24</td>\n",
       "      <td>34</td>\n",
       "      <td>...</td>\n",
       "      <td>34</td>\n",
       "      <td>5</td>\n",
       "      <td>15</td>\n",
       "      <td>None</td>\n",
       "      <td>1502</td>\n",
       "      <td>1</td>\n",
       "      <td>S108</td>\n",
       "      <td>S107</td>\n",
       "      <td>City</td>\n",
       "      <td>south</td>\n",
       "    </tr>\n",
       "    <tr>\n",
       "      <th>4</th>\n",
       "      <td>0.0</td>\n",
       "      <td>7.9</td>\n",
       "      <td>93.0</td>\n",
       "      <td>76.1</td>\n",
       "      <td>30.6</td>\n",
       "      <td>24</td>\n",
       "      <td>24</td>\n",
       "      <td>24</td>\n",
       "      <td>24</td>\n",
       "      <td>34</td>\n",
       "      <td>...</td>\n",
       "      <td>34</td>\n",
       "      <td>5</td>\n",
       "      <td>15</td>\n",
       "      <td>Medium</td>\n",
       "      <td>1503</td>\n",
       "      <td>1</td>\n",
       "      <td>S108</td>\n",
       "      <td>S107</td>\n",
       "      <td>City</td>\n",
       "      <td>south</td>\n",
       "    </tr>\n",
       "    <tr>\n",
       "      <th>...</th>\n",
       "      <td>...</td>\n",
       "      <td>...</td>\n",
       "      <td>...</td>\n",
       "      <td>...</td>\n",
       "      <td>...</td>\n",
       "      <td>...</td>\n",
       "      <td>...</td>\n",
       "      <td>...</td>\n",
       "      <td>...</td>\n",
       "      <td>...</td>\n",
       "      <td>...</td>\n",
       "      <td>...</td>\n",
       "      <td>...</td>\n",
       "      <td>...</td>\n",
       "      <td>...</td>\n",
       "      <td>...</td>\n",
       "      <td>...</td>\n",
       "      <td>...</td>\n",
       "      <td>...</td>\n",
       "      <td>...</td>\n",
       "      <td>...</td>\n",
       "    </tr>\n",
       "    <tr>\n",
       "      <th>452865</th>\n",
       "      <td>0.0</td>\n",
       "      <td>6.3</td>\n",
       "      <td>97.0</td>\n",
       "      <td>79.2</td>\n",
       "      <td>29.7</td>\n",
       "      <td>24</td>\n",
       "      <td>24</td>\n",
       "      <td>24</td>\n",
       "      <td>24</td>\n",
       "      <td>34</td>\n",
       "      <td>...</td>\n",
       "      <td>33</td>\n",
       "      <td>10</td>\n",
       "      <td>20</td>\n",
       "      <td>None</td>\n",
       "      <td>8701</td>\n",
       "      <td>2</td>\n",
       "      <td>S114</td>\n",
       "      <td>S107</td>\n",
       "      <td>Choa Chu Kang</td>\n",
       "      <td>west</td>\n",
       "    </tr>\n",
       "    <tr>\n",
       "      <th>452866</th>\n",
       "      <td>0.0</td>\n",
       "      <td>6.3</td>\n",
       "      <td>97.0</td>\n",
       "      <td>79.2</td>\n",
       "      <td>29.7</td>\n",
       "      <td>24</td>\n",
       "      <td>24</td>\n",
       "      <td>24</td>\n",
       "      <td>24</td>\n",
       "      <td>34</td>\n",
       "      <td>...</td>\n",
       "      <td>33</td>\n",
       "      <td>10</td>\n",
       "      <td>20</td>\n",
       "      <td>Medium</td>\n",
       "      <td>8704</td>\n",
       "      <td>1</td>\n",
       "      <td>S114</td>\n",
       "      <td>S107</td>\n",
       "      <td>Choa Chu Kang</td>\n",
       "      <td>west</td>\n",
       "    </tr>\n",
       "    <tr>\n",
       "      <th>452867</th>\n",
       "      <td>0.0</td>\n",
       "      <td>6.3</td>\n",
       "      <td>97.0</td>\n",
       "      <td>79.2</td>\n",
       "      <td>29.7</td>\n",
       "      <td>24</td>\n",
       "      <td>24</td>\n",
       "      <td>24</td>\n",
       "      <td>24</td>\n",
       "      <td>34</td>\n",
       "      <td>...</td>\n",
       "      <td>33</td>\n",
       "      <td>10</td>\n",
       "      <td>20</td>\n",
       "      <td>None</td>\n",
       "      <td>8704</td>\n",
       "      <td>2</td>\n",
       "      <td>S114</td>\n",
       "      <td>S107</td>\n",
       "      <td>Choa Chu Kang</td>\n",
       "      <td>west</td>\n",
       "    </tr>\n",
       "    <tr>\n",
       "      <th>452868</th>\n",
       "      <td>0.0</td>\n",
       "      <td>6.3</td>\n",
       "      <td>97.0</td>\n",
       "      <td>79.2</td>\n",
       "      <td>29.7</td>\n",
       "      <td>24</td>\n",
       "      <td>24</td>\n",
       "      <td>24</td>\n",
       "      <td>24</td>\n",
       "      <td>34</td>\n",
       "      <td>...</td>\n",
       "      <td>33</td>\n",
       "      <td>10</td>\n",
       "      <td>20</td>\n",
       "      <td>None</td>\n",
       "      <td>8706</td>\n",
       "      <td>1</td>\n",
       "      <td>S121</td>\n",
       "      <td>S107</td>\n",
       "      <td>Jalan Bahar</td>\n",
       "      <td>west</td>\n",
       "    </tr>\n",
       "    <tr>\n",
       "      <th>452869</th>\n",
       "      <td>0.0</td>\n",
       "      <td>6.3</td>\n",
       "      <td>97.0</td>\n",
       "      <td>79.2</td>\n",
       "      <td>29.7</td>\n",
       "      <td>24</td>\n",
       "      <td>24</td>\n",
       "      <td>24</td>\n",
       "      <td>24</td>\n",
       "      <td>34</td>\n",
       "      <td>...</td>\n",
       "      <td>33</td>\n",
       "      <td>10</td>\n",
       "      <td>20</td>\n",
       "      <td>None</td>\n",
       "      <td>8706</td>\n",
       "      <td>2</td>\n",
       "      <td>S121</td>\n",
       "      <td>S107</td>\n",
       "      <td>Jalan Bahar</td>\n",
       "      <td>west</td>\n",
       "    </tr>\n",
       "  </tbody>\n",
       "</table>\n",
       "<p>452870 rows × 42 columns</p>\n",
       "</div>"
      ],
      "text/plain": [
       "        rainfall_realtime  wind_speed_realtime  wind_dir_realtime  \\\n",
       "0                     0.0                  7.9               93.0   \n",
       "1                     0.0                  7.9               93.0   \n",
       "2                     0.0                  7.9               93.0   \n",
       "3                     0.0                  7.9               93.0   \n",
       "4                     0.0                  7.9               93.0   \n",
       "...                   ...                  ...                ...   \n",
       "452865                0.0                  6.3               97.0   \n",
       "452866                0.0                  6.3               97.0   \n",
       "452867                0.0                  6.3               97.0   \n",
       "452868                0.0                  6.3               97.0   \n",
       "452869                0.0                  6.3               97.0   \n",
       "\n",
       "        humidity_realtime  air_temp_realtime  4day_temperature_low_1  \\\n",
       "0                    76.1               30.6                      24   \n",
       "1                    76.1               30.6                      24   \n",
       "2                    76.1               30.6                      24   \n",
       "3                    76.1               30.6                      24   \n",
       "4                    76.1               30.6                      24   \n",
       "...                   ...                ...                     ...   \n",
       "452865               79.2               29.7                      24   \n",
       "452866               79.2               29.7                      24   \n",
       "452867               79.2               29.7                      24   \n",
       "452868               79.2               29.7                      24   \n",
       "452869               79.2               29.7                      24   \n",
       "\n",
       "        4day_temperature_low_2  4day_temperature_low_3  \\\n",
       "0                           24                      24   \n",
       "1                           24                      24   \n",
       "2                           24                      24   \n",
       "3                           24                      24   \n",
       "4                           24                      24   \n",
       "...                        ...                     ...   \n",
       "452865                      24                      24   \n",
       "452866                      24                      24   \n",
       "452867                      24                      24   \n",
       "452868                      24                      24   \n",
       "452869                      24                      24   \n",
       "\n",
       "        4day_temperature_low_4  4day_temperature_high_1  ...  \\\n",
       "0                           24                       34  ...   \n",
       "1                           24                       34  ...   \n",
       "2                           24                       34  ...   \n",
       "3                           24                       34  ...   \n",
       "4                           24                       34  ...   \n",
       "...                        ...                      ...  ...   \n",
       "452865                      24                       34  ...   \n",
       "452866                      24                       34  ...   \n",
       "452867                      24                       34  ...   \n",
       "452868                      24                       34  ...   \n",
       "452869                      24                       34  ...   \n",
       "\n",
       "        24hr_general_temperature_high  24hr_general_wind_speed_low  \\\n",
       "0                                  34                            5   \n",
       "1                                  34                            5   \n",
       "2                                  34                            5   \n",
       "3                                  34                            5   \n",
       "4                                  34                            5   \n",
       "...                               ...                          ...   \n",
       "452865                             33                           10   \n",
       "452866                             33                           10   \n",
       "452867                             33                           10   \n",
       "452868                             33                           10   \n",
       "452869                             33                           10   \n",
       "\n",
       "        24hr_general_wind_speed_high  trafficCongestion  cam_id  direction  \\\n",
       "0                                 15               None    1001          1   \n",
       "1                                 15               None    1001          2   \n",
       "2                                 15               None    1501          1   \n",
       "3                                 15               None    1502          1   \n",
       "4                                 15             Medium    1503          1   \n",
       "...                              ...                ...     ...        ...   \n",
       "452865                            20               None    8701          2   \n",
       "452866                            20             Medium    8704          1   \n",
       "452867                            20               None    8704          2   \n",
       "452868                            20               None    8706          1   \n",
       "452869                            20               None    8706          2   \n",
       "\n",
       "        rainfall_station_id  non_rainfall_station_id  2hr_forecast_area  \\\n",
       "0                      S119                     S107            Kallang   \n",
       "1                      S119                     S107            Kallang   \n",
       "2                      S108                     S107               City   \n",
       "3                      S108                     S107               City   \n",
       "4                      S108                     S107               City   \n",
       "...                     ...                      ...                ...   \n",
       "452865                 S114                     S107      Choa Chu Kang   \n",
       "452866                 S114                     S107      Choa Chu Kang   \n",
       "452867                 S114                     S107      Choa Chu Kang   \n",
       "452868                 S121                     S107        Jalan Bahar   \n",
       "452869                 S121                     S107        Jalan Bahar   \n",
       "\n",
       "        compass  \n",
       "0         south  \n",
       "1         south  \n",
       "2         south  \n",
       "3         south  \n",
       "4         south  \n",
       "...         ...  \n",
       "452865     west  \n",
       "452866     west  \n",
       "452867     west  \n",
       "452868     west  \n",
       "452869     west  \n",
       "\n",
       "[452870 rows x 42 columns]"
      ]
     },
     "execution_count": 82,
     "metadata": {},
     "output_type": "execute_result"
    }
   ],
   "source": [
    "numeric_df"
   ]
  }
 ],
 "metadata": {
  "kernelspec": {
   "display_name": "Python 3 (ipykernel)",
   "language": "python",
   "name": "python3"
  },
  "language_info": {
   "codemirror_mode": {
    "name": "ipython",
    "version": 3
   },
   "file_extension": ".py",
   "mimetype": "text/x-python",
   "name": "python",
   "nbconvert_exporter": "python",
   "pygments_lexer": "ipython3",
   "version": "3.8.5"
  }
 },
 "nbformat": 4,
 "nbformat_minor": 5
}
