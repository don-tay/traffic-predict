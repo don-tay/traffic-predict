{
 "cells": [
  {
   "cell_type": "markdown",
   "id": "3bf6b458",
   "metadata": {},
   "source": [
    "# 1. Introduction \n",
    "\n",
    "Based on the initial testing, as seen in the notebook entitled Modelling.ipynb, the final model that was chosen to be used was random forest classifier. Not only was it able to give decent accuracies without tuning, scikitlearn allows for control over the number of processors being used. This is a good proxy to test out the parallelism capabilities of the model before attempting with Spark ML or other methods of hosting this script on cluster. "
   ]
  },
  {
   "cell_type": "markdown",
   "id": "126520f7",
   "metadata": {},
   "source": [
    "## 1.1 Importing Libraries"
   ]
  },
  {
   "cell_type": "code",
   "execution_count": 79,
   "id": "9897d09e",
   "metadata": {},
   "outputs": [],
   "source": [
    "from db.conn import create_db_conn\n",
    "import time\n",
    "import pandas as pd\n",
    "import numpy as np \n",
    "\n",
    "from sklearn.ensemble import RandomForestClassifier\n",
    "from sklearn.model_selection import train_test_split\n",
    "import matplotlib.pyplot as plt\n",
    "\n",
    "\n",
    "\n",
    "# Surpress \n",
    "#import warnings\n",
    "#warnings.filterwarnings('ignore')"
   ]
  },
  {
   "cell_type": "markdown",
   "id": "94a8bab9",
   "metadata": {},
   "source": [
    "## 1.2 Preparing the data\n",
    "\n",
    "This code will directly pull the data from the datawarehouse hosted in AWS."
   ]
  },
  {
   "cell_type": "code",
   "execution_count": 50,
   "id": "a231e037",
   "metadata": {},
   "outputs": [
    {
     "name": "stderr",
     "output_type": "stream",
     "text": [
      "c:\\users\\vik\\desktop\\cs 4225\\project\\traffic-predict\\.venv\\lib\\site-packages\\pandas\\io\\sql.py:761: UserWarning: pandas only support SQLAlchemy connectable(engine/connection) ordatabase string URI or sqlite3 DBAPI2 connectionother DBAPI2 objects are not tested, please consider using SQLAlchemy\n",
      "  warnings.warn(\n"
     ]
    }
   ],
   "source": [
    "conn = create_db_conn()\n",
    "full_table_query = \"SELECT * FROM traffic_weather_comb\"\n",
    "df = pd.io.sql.read_sql_query(full_table_query, conn)"
   ]
  },
  {
   "cell_type": "code",
   "execution_count": 51,
   "id": "f3f57e19",
   "metadata": {},
   "outputs": [
    {
     "data": {
      "text/html": [
       "<div>\n",
       "<style scoped>\n",
       "    .dataframe tbody tr th:only-of-type {\n",
       "        vertical-align: middle;\n",
       "    }\n",
       "\n",
       "    .dataframe tbody tr th {\n",
       "        vertical-align: top;\n",
       "    }\n",
       "\n",
       "    .dataframe thead th {\n",
       "        text-align: right;\n",
       "    }\n",
       "</style>\n",
       "<table border=\"1\" class=\"dataframe\">\n",
       "  <thead>\n",
       "    <tr style=\"text-align: right;\">\n",
       "      <th></th>\n",
       "      <th>call_timestamp</th>\n",
       "      <th>cam_id</th>\n",
       "      <th>direction</th>\n",
       "      <th>compass</th>\n",
       "      <th>two_hr_forecast_area</th>\n",
       "      <th>non_rainfall_station_id</th>\n",
       "      <th>rainfall_station_id</th>\n",
       "      <th>rainfall_realtime</th>\n",
       "      <th>wind_speed_realtime</th>\n",
       "      <th>wind_dir_realtime</th>\n",
       "      <th>...</th>\n",
       "      <th>twenty_four_hr_period_1_start</th>\n",
       "      <th>twenty_four_hr_period_1_end</th>\n",
       "      <th>twenty_four_hr_period_1</th>\n",
       "      <th>twenty_four_hr_period_2_start</th>\n",
       "      <th>twenty_four_hr_period_2_end</th>\n",
       "      <th>twenty_four_hr_period_2</th>\n",
       "      <th>twenty_four_hr_period_3_start</th>\n",
       "      <th>twenty_four_hr_period_3_end</th>\n",
       "      <th>twenty_four_hr_period_3</th>\n",
       "      <th>trafficcongestion</th>\n",
       "    </tr>\n",
       "  </thead>\n",
       "  <tbody>\n",
       "    <tr>\n",
       "      <th>0</th>\n",
       "      <td>2022-04-09T010159</td>\n",
       "      <td>4799</td>\n",
       "      <td>1</td>\n",
       "      <td>south</td>\n",
       "      <td>Sentosa</td>\n",
       "      <td>S108</td>\n",
       "      <td>S226</td>\n",
       "      <td>0.0</td>\n",
       "      <td>NaN</td>\n",
       "      <td>NaN</td>\n",
       "      <td>...</td>\n",
       "      <td>2022-04-09T000000</td>\n",
       "      <td>2022-04-09T060000</td>\n",
       "      <td>Partly Cloudy (Night)</td>\n",
       "      <td>2022-04-09T060000</td>\n",
       "      <td>2022-04-09T120000</td>\n",
       "      <td>Partly Cloudy (Day)</td>\n",
       "      <td>2022-04-09T120000</td>\n",
       "      <td>2022-04-09T180000</td>\n",
       "      <td>Partly Cloudy (Day)</td>\n",
       "      <td>None</td>\n",
       "    </tr>\n",
       "    <tr>\n",
       "      <th>1</th>\n",
       "      <td>2022-04-09T010159</td>\n",
       "      <td>5795</td>\n",
       "      <td>2</td>\n",
       "      <td>east</td>\n",
       "      <td>Geylang</td>\n",
       "      <td>S108</td>\n",
       "      <td>S215</td>\n",
       "      <td>0.0</td>\n",
       "      <td>NaN</td>\n",
       "      <td>NaN</td>\n",
       "      <td>...</td>\n",
       "      <td>2022-04-09T000000</td>\n",
       "      <td>2022-04-09T060000</td>\n",
       "      <td>Partly Cloudy (Night)</td>\n",
       "      <td>2022-04-09T060000</td>\n",
       "      <td>2022-04-09T120000</td>\n",
       "      <td>Partly Cloudy (Day)</td>\n",
       "      <td>2022-04-09T120000</td>\n",
       "      <td>2022-04-09T180000</td>\n",
       "      <td>Thundery Showers</td>\n",
       "      <td>None</td>\n",
       "    </tr>\n",
       "    <tr>\n",
       "      <th>2</th>\n",
       "      <td>2022-04-09T010159</td>\n",
       "      <td>5798</td>\n",
       "      <td>2</td>\n",
       "      <td>central</td>\n",
       "      <td>Geylang</td>\n",
       "      <td>S108</td>\n",
       "      <td>S215</td>\n",
       "      <td>0.0</td>\n",
       "      <td>NaN</td>\n",
       "      <td>NaN</td>\n",
       "      <td>...</td>\n",
       "      <td>2022-04-09T000000</td>\n",
       "      <td>2022-04-09T060000</td>\n",
       "      <td>Partly Cloudy (Night)</td>\n",
       "      <td>2022-04-09T060000</td>\n",
       "      <td>2022-04-09T120000</td>\n",
       "      <td>Partly Cloudy (Day)</td>\n",
       "      <td>2022-04-09T120000</td>\n",
       "      <td>2022-04-09T180000</td>\n",
       "      <td>Thundery Showers</td>\n",
       "      <td>Medium</td>\n",
       "    </tr>\n",
       "    <tr>\n",
       "      <th>3</th>\n",
       "      <td>2022-04-09T010159</td>\n",
       "      <td>6704</td>\n",
       "      <td>1</td>\n",
       "      <td>central</td>\n",
       "      <td>Novena</td>\n",
       "      <td>S108</td>\n",
       "      <td>S90</td>\n",
       "      <td>0.0</td>\n",
       "      <td>NaN</td>\n",
       "      <td>NaN</td>\n",
       "      <td>...</td>\n",
       "      <td>2022-04-09T000000</td>\n",
       "      <td>2022-04-09T060000</td>\n",
       "      <td>Partly Cloudy (Night)</td>\n",
       "      <td>2022-04-09T060000</td>\n",
       "      <td>2022-04-09T120000</td>\n",
       "      <td>Partly Cloudy (Day)</td>\n",
       "      <td>2022-04-09T120000</td>\n",
       "      <td>2022-04-09T180000</td>\n",
       "      <td>Thundery Showers</td>\n",
       "      <td>Medium</td>\n",
       "    </tr>\n",
       "    <tr>\n",
       "      <th>4</th>\n",
       "      <td>2022-04-09T010159</td>\n",
       "      <td>6708</td>\n",
       "      <td>1</td>\n",
       "      <td>west</td>\n",
       "      <td>Jalan Bahar</td>\n",
       "      <td>S44</td>\n",
       "      <td>S44</td>\n",
       "      <td>0.0</td>\n",
       "      <td>NaN</td>\n",
       "      <td>NaN</td>\n",
       "      <td>...</td>\n",
       "      <td>2022-04-09T000000</td>\n",
       "      <td>2022-04-09T060000</td>\n",
       "      <td>Partly Cloudy (Night)</td>\n",
       "      <td>2022-04-09T060000</td>\n",
       "      <td>2022-04-09T120000</td>\n",
       "      <td>Partly Cloudy (Day)</td>\n",
       "      <td>2022-04-09T120000</td>\n",
       "      <td>2022-04-09T180000</td>\n",
       "      <td>Partly Cloudy (Day)</td>\n",
       "      <td>Medium</td>\n",
       "    </tr>\n",
       "  </tbody>\n",
       "</table>\n",
       "<p>5 rows × 65 columns</p>\n",
       "</div>"
      ],
      "text/plain": [
       "      call_timestamp  cam_id  direction  compass two_hr_forecast_area  \\\n",
       "0  2022-04-09T010159    4799          1    south              Sentosa   \n",
       "1  2022-04-09T010159    5795          2     east              Geylang   \n",
       "2  2022-04-09T010159    5798          2  central              Geylang   \n",
       "3  2022-04-09T010159    6704          1  central               Novena   \n",
       "4  2022-04-09T010159    6708          1     west          Jalan Bahar   \n",
       "\n",
       "  non_rainfall_station_id rainfall_station_id  rainfall_realtime  \\\n",
       "0                    S108                S226                0.0   \n",
       "1                    S108                S215                0.0   \n",
       "2                    S108                S215                0.0   \n",
       "3                    S108                 S90                0.0   \n",
       "4                     S44                 S44                0.0   \n",
       "\n",
       "   wind_speed_realtime  wind_dir_realtime  ...  twenty_four_hr_period_1_start  \\\n",
       "0                  NaN                NaN  ...              2022-04-09T000000   \n",
       "1                  NaN                NaN  ...              2022-04-09T000000   \n",
       "2                  NaN                NaN  ...              2022-04-09T000000   \n",
       "3                  NaN                NaN  ...              2022-04-09T000000   \n",
       "4                  NaN                NaN  ...              2022-04-09T000000   \n",
       "\n",
       "   twenty_four_hr_period_1_end twenty_four_hr_period_1  \\\n",
       "0            2022-04-09T060000   Partly Cloudy (Night)   \n",
       "1            2022-04-09T060000   Partly Cloudy (Night)   \n",
       "2            2022-04-09T060000   Partly Cloudy (Night)   \n",
       "3            2022-04-09T060000   Partly Cloudy (Night)   \n",
       "4            2022-04-09T060000   Partly Cloudy (Night)   \n",
       "\n",
       "   twenty_four_hr_period_2_start twenty_four_hr_period_2_end  \\\n",
       "0              2022-04-09T060000           2022-04-09T120000   \n",
       "1              2022-04-09T060000           2022-04-09T120000   \n",
       "2              2022-04-09T060000           2022-04-09T120000   \n",
       "3              2022-04-09T060000           2022-04-09T120000   \n",
       "4              2022-04-09T060000           2022-04-09T120000   \n",
       "\n",
       "   twenty_four_hr_period_2  twenty_four_hr_period_3_start  \\\n",
       "0      Partly Cloudy (Day)              2022-04-09T120000   \n",
       "1      Partly Cloudy (Day)              2022-04-09T120000   \n",
       "2      Partly Cloudy (Day)              2022-04-09T120000   \n",
       "3      Partly Cloudy (Day)              2022-04-09T120000   \n",
       "4      Partly Cloudy (Day)              2022-04-09T120000   \n",
       "\n",
       "   twenty_four_hr_period_3_end  twenty_four_hr_period_3 trafficcongestion  \n",
       "0            2022-04-09T180000      Partly Cloudy (Day)              None  \n",
       "1            2022-04-09T180000         Thundery Showers              None  \n",
       "2            2022-04-09T180000         Thundery Showers            Medium  \n",
       "3            2022-04-09T180000         Thundery Showers            Medium  \n",
       "4            2022-04-09T180000      Partly Cloudy (Day)            Medium  \n",
       "\n",
       "[5 rows x 65 columns]"
      ]
     },
     "execution_count": 51,
     "metadata": {},
     "output_type": "execute_result"
    }
   ],
   "source": [
    "df.head()"
   ]
  },
  {
   "cell_type": "code",
   "execution_count": 52,
   "id": "74dfa507",
   "metadata": {},
   "outputs": [],
   "source": [
    "df = df[df.trafficcongestion != \"NaN\"]"
   ]
  },
  {
   "cell_type": "markdown",
   "id": "cc0e79bd",
   "metadata": {},
   "source": [
    "However, due to schema inference, some of the data types, especially the dates, need to be converted. "
   ]
  },
  {
   "cell_type": "code",
   "execution_count": 53,
   "id": "03ab6573",
   "metadata": {},
   "outputs": [],
   "source": [
    "# Converting time from string to date time object\n",
    "df.call_timestamp = pd.to_datetime(df.call_timestamp)\n",
    "df[\"twenty_four_hr_start\"] = pd.to_datetime(df[\"twenty_four_hr_start\"])\n",
    "df[\"twenty_four_hr_end\"] = pd.to_datetime(df[\"twenty_four_hr_end\"])\n",
    "df[\"twenty_four_hr_period_1_start\"] = pd.to_datetime(df[\"twenty_four_hr_period_1_start\"])\n",
    "df[\"twenty_four_hr_period_1_end\"] = pd.to_datetime(df[\"twenty_four_hr_period_1_end\"])\n",
    "df[\"twenty_four_hr_period_2_start\"] = pd.to_datetime(df[\"twenty_four_hr_period_2_start\"])\n",
    "df[\"twenty_four_hr_period_2_end\"] = pd.to_datetime(df[\"twenty_four_hr_period_2_end\"])\n",
    "df[\"twenty_four_hr_period_3_start\"] = pd.to_datetime(df[\"twenty_four_hr_period_3_start\"])\n",
    "df[\"twenty_four_hr_period_3_end\"] = pd.to_datetime(df[\"twenty_four_hr_period_3_end\"])\n"
   ]
  },
  {
   "cell_type": "markdown",
   "id": "af30dbc4",
   "metadata": {},
   "source": [
    "Next, for the categorical columns, we will use one hot encoding to represent the values. This is so that the model can use the categorical values as well. "
   ]
  },
  {
   "cell_type": "code",
   "execution_count": 54,
   "id": "d7ac5e9e",
   "metadata": {},
   "outputs": [],
   "source": [
    "# Make dummy values\n",
    "dummy_df = pd.get_dummies(df.drop([\"trafficcongestion\", \"rainfall_station_id\", \"non_rainfall_station_id\",\n",
    "                                 \"two_hr_forecast_area\", \"compass\"], axis = 1))\n",
    "df_keep = df[[\"trafficcongestion\", \"rainfall_station_id\", \"non_rainfall_station_id\", \"two_hr_forecast_area\", \"compass\"]]\n",
    "\n",
    "# reform with dropped values \n",
    "dummy_df = pd.merge(dummy_df, df_keep, left_index=True, right_index=True)"
   ]
  },
  {
   "cell_type": "markdown",
   "id": "028cf578",
   "metadata": {},
   "source": [
    "At the same time, we would also want to create a table that constains purely the numerical values. This is done so as to have a dataframe with less columns. With less columns, and thereby less dimensions, it is hoped that should the dataframe with the categorical values not perform well, then a dataframe with lesser dimensions can perform better. "
   ]
  },
  {
   "cell_type": "code",
   "execution_count": 55,
   "id": "dc7f5593",
   "metadata": {},
   "outputs": [],
   "source": [
    "# Creating a purely numeric df \n",
    "numeric_df = df[[\"rainfall_realtime\", \"wind_speed_realtime\", \"wind_dir_realtime\", 'humidity_realtime', 'air_temp_realtime',\n",
    "                 'four_day_temperature_low_1', 'four_day_temperature_low_2', 'four_day_temperature_low_3',\n",
    "                 'four_day_temperature_low_4','four_day_temperature_high_1', 'four_day_temperature_high_2', \n",
    "                 'four_day_temperature_high_3', 'four_day_temperature_high_4', 'four_day_relative_humidity_low_1',\n",
    "                 'four_day_relative_humidity_low_2','four_day_relative_humidity_low_3', 'four_day_relative_humidity_low_4',\n",
    "                 'four_day_relative_humidity_high_1', 'four_day_relative_humidity_high_2','four_day_relative_humidity_high_3',\n",
    "                 'four_day_relative_humidity_high_4','four_day_wind_speed_low_1','four_day_wind_speed_low_2',\n",
    "                 'four_day_wind_speed_low_3', 'four_day_wind_speed_low_4','four_day_wind_speed_high_1',\n",
    "                 'four_day_wind_speed_high_2','four_day_wind_speed_high_3', 'four_day_wind_speed_high_4', \n",
    "                 'twenty_four_hr_general_relative_humidity_low','twenty_four_hr_general_relative_humidity_high',\n",
    "                 'twenty_four_hr_general_temperature_low', 'twenty_four_hr_general_temperature_high', \n",
    "                 'twenty_four_hr_general_wind_speed_low', 'twenty_four_hr_general_wind_speed_high', \"trafficcongestion\",\n",
    "                 \"cam_id\", \"direction\", \"rainfall_station_id\", \"non_rainfall_station_id\", \"two_hr_forecast_area\", \"compass\"]]"
   ]
  },
  {
   "cell_type": "markdown",
   "id": "d216862f",
   "metadata": {},
   "source": [
    "Finally, we create a few lists that contains the columns that can be dropped during testing out various combinations of the dataset."
   ]
  },
  {
   "cell_type": "code",
   "execution_count": 56,
   "id": "307a6562",
   "metadata": {},
   "outputs": [],
   "source": [
    "# Addtional information that can be dropped\n",
    "drop_identifiers = [\"rainfall_station_id\", \"non_rainfall_station_id\", \"two_hr_forecast_area\", \"compass\"]\n",
    "drop_camera = [\"cam_id\", \"direction\"]\n",
    "drop_time = [\"call_timestamp\", \"twenty_four_hr_start\", \"twenty_four_hr_end\", \"twenty_four_hr_period_1_start\",\n",
    "             \"twenty_four_hr_period_1_end\", \"twenty_four_hr_period_2_start\", \"twenty_four_hr_period_2_end\", \n",
    "             \"twenty_four_hr_period_3_start\", \"twenty_four_hr_period_3_end\"]"
   ]
  },
  {
   "cell_type": "markdown",
   "id": "64bc24b0",
   "metadata": {},
   "source": [
    "## 1.3 Splitting the Data\n",
    "\n",
    "Another important aspect before modelling is to split the dataset into train, validation and test sets. The splitting is done to allow us to check how well the training is and to have an unbiased accuracy when testing the final model. While it is possible to use the Out of Bag (OOB) error as a metric with random forest, for simplicty, the validation approach will be used. \n",
    "\n",
    "\n",
    "The training dataset using which the models will be trained upon. Next will the validation dataset which is used to help measure the performance and any tuning parameters if present. Finally, there is the test dataset. This dataset will be the unseen data that is not used at all until the final stage when determining a model. "
   ]
  },
  {
   "cell_type": "code",
   "execution_count": 57,
   "id": "7eb34ff7",
   "metadata": {},
   "outputs": [],
   "source": [
    "def get_dummy_data(remove_camera = False, validation_set = True, remove_time = True):\n",
    "    df = dummy_df.drop(drop_identifiers, axis = 1)\n",
    "    \n",
    "    if remove_camera:\n",
    "        df = df.drop(drop_camera, axis = 1)\n",
    "    \n",
    "    if remove_time:\n",
    "        df = df.drop(drop_time, axis = 1)\n",
    "    \n",
    "    df = df.dropna()\n",
    "    \n",
    "    X = df.drop(\"trafficcongestion\", axis = 1)\n",
    "    Y = df.trafficcongestion.to_numpy()\n",
    "    \n",
    "    X_train, X_test, y_train, y_test = train_test_split(X, Y, test_size=0.25, random_state=42)\n",
    "    \n",
    "    if validation_set:\n",
    "        X_train, X_valid, y_train, y_valid = train_test_split(X_train, y_train, test_size=0.25, random_state=42)\n",
    "        return X_train, X_valid, X_test, y_train, y_valid, y_test\n",
    "    \n",
    "    return X_train, X_test, y_train, y_test"
   ]
  },
  {
   "cell_type": "code",
   "execution_count": 58,
   "id": "d988faf5",
   "metadata": {},
   "outputs": [],
   "source": [
    "def get_numeric_data(remove_camera = False, validation_set = True):\n",
    "    df = numeric_df.drop(drop_identifiers, axis = 1)\n",
    "    \n",
    "    if remove_camera:\n",
    "        df = df.drop(drop_camera, axis = 1)\n",
    "    \n",
    "    df = df.dropna()\n",
    "    \n",
    "    X = df.drop(\"trafficcongestion\", axis = 1)\n",
    "    Y = df.trafficcongestion.to_numpy()\n",
    "    \n",
    "    X_train, X_test, y_train, y_test = train_test_split(X, Y, test_size=0.25, random_state=42)\n",
    "    \n",
    "    if validation_set:\n",
    "        X_train, X_valid, y_train, y_valid = train_test_split(X_train, y_train, test_size=0.25, random_state=42)\n",
    "        return X_train, X_valid, X_test, y_train, y_valid, y_test\n",
    "    \n",
    "    return X_train, X_test, y_train, y_test"
   ]
  },
  {
   "cell_type": "markdown",
   "id": "1207c4d8",
   "metadata": {},
   "source": [
    "## 1.4 Helper Functions"
   ]
  },
  {
   "cell_type": "code",
   "execution_count": 59,
   "id": "5c70defc",
   "metadata": {},
   "outputs": [],
   "source": [
    "def single_model_multiple_query(model, x_val, y_val, to_print = True):\n",
    "    start_time = time.perf_counter()\n",
    "    accuracy = get_accuracy(y_val, model.predict(x_val))\n",
    "    end_time = time.perf_counter()\n",
    "    if to_print:\n",
    "        print(f\"The accuracy is: {accuracy}\")\n",
    "        print(f\"The time taken to predict is {end_time - start_time:0.4f} seconds\")\n",
    "    return accuracy\n",
    "\n",
    "def get_accuracy(predicted, actual):\n",
    "    return np.mean(predicted == actual)\n",
    "\n",
    "def confusion_matrix(predicted, actual):\n",
    "    df = pd.crosstab(actual, predicted, margins=True, margins_name='Total', rownames = [\"Predicted\"], colnames = [\"Actual\"])\n",
    "    return df"
   ]
  },
  {
   "cell_type": "markdown",
   "id": "77259af0",
   "metadata": {},
   "source": [
    "# 2. Random Forest (Scikit Learn)\n",
    "\n",
    "In this sections we will cover the random forest model based upon scikit learn's implementation. \n",
    "\n",
    "## 2.1 Determining Dataset\n",
    "\n",
    "Since we have two forms of dataset, we need to determine which one is better. Hence, we will two models with default settings to compare the valiadation accuracies. \n",
    "\n",
    "### 2.1.1 Numerical and Categorical Data"
   ]
  },
  {
   "cell_type": "code",
   "execution_count": 60,
   "id": "edc09a5a",
   "metadata": {},
   "outputs": [],
   "source": [
    "X_train, X_valid, X_test, y_train, y_valid, y_test = get_dummy_data()"
   ]
  },
  {
   "cell_type": "code",
   "execution_count": 61,
   "id": "d50c661a",
   "metadata": {},
   "outputs": [
    {
     "name": "stdout",
     "output_type": "stream",
     "text": [
      "Time to train decision tree is 7.1529\n"
     ]
    }
   ],
   "source": [
    "start_time = time.perf_counter()\n",
    "dummy_rf = RandomForestClassifier(random_state=0, oob_score = True).fit(X_train, y_train)\n",
    "end_time = time.perf_counter()\n",
    "print(f\"Time to train decision tree is {end_time - start_time:0.4f}\")"
   ]
  },
  {
   "cell_type": "code",
   "execution_count": 62,
   "id": "7a6d33c3",
   "metadata": {},
   "outputs": [
    {
     "name": "stdout",
     "output_type": "stream",
     "text": [
      "The accuracy is: 0.7074025843934689\n",
      "The time taken to predict is 0.3607 seconds\n"
     ]
    }
   ],
   "source": [
    "_ = single_model_multiple_query(dummy_rf, X_valid, y_valid)"
   ]
  },
  {
   "cell_type": "code",
   "execution_count": 63,
   "id": "72c2a9d9",
   "metadata": {},
   "outputs": [
    {
     "data": {
      "text/html": [
       "<div>\n",
       "<style scoped>\n",
       "    .dataframe tbody tr th:only-of-type {\n",
       "        vertical-align: middle;\n",
       "    }\n",
       "\n",
       "    .dataframe tbody tr th {\n",
       "        vertical-align: top;\n",
       "    }\n",
       "\n",
       "    .dataframe thead th {\n",
       "        text-align: right;\n",
       "    }\n",
       "</style>\n",
       "<table border=\"1\" class=\"dataframe\">\n",
       "  <thead>\n",
       "    <tr style=\"text-align: right;\">\n",
       "      <th>Actual</th>\n",
       "      <th>Heavy</th>\n",
       "      <th>Medium</th>\n",
       "      <th>Mild</th>\n",
       "      <th>None</th>\n",
       "      <th>Total</th>\n",
       "    </tr>\n",
       "    <tr>\n",
       "      <th>Predicted</th>\n",
       "      <th></th>\n",
       "      <th></th>\n",
       "      <th></th>\n",
       "      <th></th>\n",
       "      <th></th>\n",
       "    </tr>\n",
       "  </thead>\n",
       "  <tbody>\n",
       "    <tr>\n",
       "      <th>Heavy</th>\n",
       "      <td>285</td>\n",
       "      <td>202</td>\n",
       "      <td>16</td>\n",
       "      <td>137</td>\n",
       "      <td>640</td>\n",
       "    </tr>\n",
       "    <tr>\n",
       "      <th>Medium</th>\n",
       "      <td>263</td>\n",
       "      <td>900</td>\n",
       "      <td>45</td>\n",
       "      <td>415</td>\n",
       "      <td>1623</td>\n",
       "    </tr>\n",
       "    <tr>\n",
       "      <th>Mild</th>\n",
       "      <td>24</td>\n",
       "      <td>58</td>\n",
       "      <td>114</td>\n",
       "      <td>160</td>\n",
       "      <td>356</td>\n",
       "    </tr>\n",
       "    <tr>\n",
       "      <th>None</th>\n",
       "      <td>288</td>\n",
       "      <td>919</td>\n",
       "      <td>394</td>\n",
       "      <td>5763</td>\n",
       "      <td>7364</td>\n",
       "    </tr>\n",
       "    <tr>\n",
       "      <th>Total</th>\n",
       "      <td>860</td>\n",
       "      <td>2079</td>\n",
       "      <td>569</td>\n",
       "      <td>6475</td>\n",
       "      <td>9983</td>\n",
       "    </tr>\n",
       "  </tbody>\n",
       "</table>\n",
       "</div>"
      ],
      "text/plain": [
       "Actual     Heavy  Medium  Mild  None  Total\n",
       "Predicted                                  \n",
       "Heavy        285     202    16   137    640\n",
       "Medium       263     900    45   415   1623\n",
       "Mild          24      58   114   160    356\n",
       "None         288     919   394  5763   7364\n",
       "Total        860    2079   569  6475   9983"
      ]
     },
     "execution_count": 63,
     "metadata": {},
     "output_type": "execute_result"
    }
   ],
   "source": [
    "confusion_matrix(y_valid, dummy_rf.predict(X_valid))"
   ]
  },
  {
   "cell_type": "markdown",
   "id": "274c86aa",
   "metadata": {},
   "source": [
    "### 2.1.2 Numerical Only Data"
   ]
  },
  {
   "cell_type": "code",
   "execution_count": 64,
   "id": "66c44167",
   "metadata": {},
   "outputs": [],
   "source": [
    "X_train, X_valid, X_test, y_train, y_valid, y_test = get_numeric_data()"
   ]
  },
  {
   "cell_type": "code",
   "execution_count": 65,
   "id": "d68edd36",
   "metadata": {},
   "outputs": [
    {
     "name": "stdout",
     "output_type": "stream",
     "text": [
      "Time to train decision tree is 4.2257\n"
     ]
    }
   ],
   "source": [
    "start_time = time.perf_counter()\n",
    "numeric_rf = RandomForestClassifier(random_state=0, oob_score = True).fit(X_train, y_train)\n",
    "end_time = time.perf_counter()\n",
    "print(f\"Time to train decision tree is {end_time - start_time:0.4f}\")"
   ]
  },
  {
   "cell_type": "code",
   "execution_count": 66,
   "id": "16bc60fd",
   "metadata": {},
   "outputs": [
    {
     "name": "stdout",
     "output_type": "stream",
     "text": [
      "The accuracy is: 0.7760192326955825\n",
      "The time taken to predict is 0.3568 seconds\n"
     ]
    }
   ],
   "source": [
    "_ = single_model_multiple_query(numeric_rf, X_valid, y_valid)"
   ]
  },
  {
   "cell_type": "code",
   "execution_count": 67,
   "id": "b49ceb6c",
   "metadata": {},
   "outputs": [
    {
     "data": {
      "text/html": [
       "<div>\n",
       "<style scoped>\n",
       "    .dataframe tbody tr th:only-of-type {\n",
       "        vertical-align: middle;\n",
       "    }\n",
       "\n",
       "    .dataframe tbody tr th {\n",
       "        vertical-align: top;\n",
       "    }\n",
       "\n",
       "    .dataframe thead th {\n",
       "        text-align: right;\n",
       "    }\n",
       "</style>\n",
       "<table border=\"1\" class=\"dataframe\">\n",
       "  <thead>\n",
       "    <tr style=\"text-align: right;\">\n",
       "      <th>Actual</th>\n",
       "      <th>Heavy</th>\n",
       "      <th>Medium</th>\n",
       "      <th>Mild</th>\n",
       "      <th>None</th>\n",
       "      <th>Total</th>\n",
       "    </tr>\n",
       "    <tr>\n",
       "      <th>Predicted</th>\n",
       "      <th></th>\n",
       "      <th></th>\n",
       "      <th></th>\n",
       "      <th></th>\n",
       "      <th></th>\n",
       "    </tr>\n",
       "  </thead>\n",
       "  <tbody>\n",
       "    <tr>\n",
       "      <th>Heavy</th>\n",
       "      <td>368</td>\n",
       "      <td>206</td>\n",
       "      <td>21</td>\n",
       "      <td>92</td>\n",
       "      <td>687</td>\n",
       "    </tr>\n",
       "    <tr>\n",
       "      <th>Medium</th>\n",
       "      <td>294</td>\n",
       "      <td>1189</td>\n",
       "      <td>53</td>\n",
       "      <td>272</td>\n",
       "      <td>1808</td>\n",
       "    </tr>\n",
       "    <tr>\n",
       "      <th>Mild</th>\n",
       "      <td>20</td>\n",
       "      <td>71</td>\n",
       "      <td>193</td>\n",
       "      <td>114</td>\n",
       "      <td>398</td>\n",
       "    </tr>\n",
       "    <tr>\n",
       "      <th>None</th>\n",
       "      <td>178</td>\n",
       "      <td>613</td>\n",
       "      <td>302</td>\n",
       "      <td>5997</td>\n",
       "      <td>7090</td>\n",
       "    </tr>\n",
       "    <tr>\n",
       "      <th>Total</th>\n",
       "      <td>860</td>\n",
       "      <td>2079</td>\n",
       "      <td>569</td>\n",
       "      <td>6475</td>\n",
       "      <td>9983</td>\n",
       "    </tr>\n",
       "  </tbody>\n",
       "</table>\n",
       "</div>"
      ],
      "text/plain": [
       "Actual     Heavy  Medium  Mild  None  Total\n",
       "Predicted                                  \n",
       "Heavy        368     206    21    92    687\n",
       "Medium       294    1189    53   272   1808\n",
       "Mild          20      71   193   114    398\n",
       "None         178     613   302  5997   7090\n",
       "Total        860    2079   569  6475   9983"
      ]
     },
     "execution_count": 67,
     "metadata": {},
     "output_type": "execute_result"
    }
   ],
   "source": [
    "confusion_matrix(y_valid, numeric_rf.predict(X_valid))"
   ]
  },
  {
   "cell_type": "markdown",
   "id": "44fb0978",
   "metadata": {},
   "source": [
    "### 2.1.3 Determining Dataset\n",
    "\n",
    "Based on the intial testing, even though the results are close, we have decided to proceed with the numerical dataset. The validation accuracy was about 7% higher without tuning. Moreover, with the less dimension, training was faster. "
   ]
  },
  {
   "cell_type": "markdown",
   "id": "99d4bda3",
   "metadata": {},
   "source": [
    "## 2.2 Tuning Random Forest\n",
    "\n",
    "For model tuning, we will consider two parameters: \n",
    "\n",
    "1. Number of trees   \n",
    "2. Depth of trees   \n",
    "\n",
    "While there are other paramters that can be tuned such as max features considered at each split or minimum impurity decrease before a split is done, they are not chosen. The reason is so that when running the spark ML random forest, the same parameters can be considered to allow for a fairer comparision. \n",
    "\n",
    "While this is a 2d grid search, doing so would be computationally expensive, especially with such a large dataset. Hence, we will split the tuning process into two steps. First we will focus on finding a suitable number of trees. Since having more trees will not affect the overall performance of the model, this can be the first step. After that, we can focus on tuning for the depth as this is simply pruning the trees. Finally, we can re-check the performance of the number of trees with the limitation in size, where ideally the first chosen number of trees performing well. \n",
    "\n",
    "### 2.2.1 Tuning Number of Trees"
   ]
  },
  {
   "cell_type": "code",
   "execution_count": 96,
   "id": "62024995",
   "metadata": {},
   "outputs": [],
   "source": [
    "X_train, X_valid, X_test, y_train, y_valid, y_test = get_numeric_data()"
   ]
  },
  {
   "cell_type": "code",
   "execution_count": 97,
   "id": "2fad903a",
   "metadata": {},
   "outputs": [],
   "source": [
    "num_trees = list(range(10, 500, 10))\n",
    "time_to_fit_num_trees = []\n",
    "accuracy_num_trees = []"
   ]
  },
  {
   "cell_type": "code",
   "execution_count": 98,
   "id": "4276ba34",
   "metadata": {},
   "outputs": [],
   "source": [
    "for num in num_trees:\n",
    "    start_time = time.perf_counter()\n",
    "    rf = RandomForestClassifier(random_state=0, oob_score = False, n_estimators = num, \n",
    "                                max_depth = None, n_jobs = -1).fit(X_train, y_train)\n",
    "    acc = single_model_multiple_query(rf, X_valid, y_valid, to_print = False)\n",
    "    end_time = time.perf_counter()\n",
    "    time_to_fit_num_trees.append(end_time - start_time)\n",
    "    accuracy_num_trees.append(acc)"
   ]
  },
  {
   "cell_type": "code",
   "execution_count": 135,
   "id": "e2d9766f",
   "metadata": {},
   "outputs": [
    {
     "data": {
      "image/png": "[encoded data removed]",
      "text/plain": [
       "<Figure size 864x576 with 1 Axes>"
      ]
     },
     "metadata": {
      "needs_background": "light"
     },
     "output_type": "display_data"
    }
   ],
   "source": [
    "index_trees = list(range(0,len(accuracy)+11, 10))\n",
    "num_trees = list(range(0, 600, 100))\n",
    "plt.figure(figsize = (12,8))\n",
    "plt.plot(accuracy_num_trees)\n",
    "plt.title(\"Accuracy of model with respect to number of trees\")\n",
    "plt.xticks(index_trees, num_trees)\n",
    "plt.xlabel(\"Number of trees\")\n",
    "plt.ylabel(\"Accuracy\")\n",
    "plt.axhline(y=0.774, color='r', linestyle=':')\n",
    "plt.axhline(y=0.781, color='r', linestyle=':')\n",
    "plt.show()"
   ]
  },
  {
   "cell_type": "markdown",
   "id": "426361be",
   "metadata": {},
   "source": [
    "Based on the plot, the valdiation accuracy fluctuates mainly within the bound of 77.4% to 78.1%. Hence we can take any number of threes within that bound. To balance both accuracy and time, 300 trees was chosen. "
   ]
  },
  {
   "cell_type": "markdown",
   "id": "44c4897b",
   "metadata": {},
   "source": [
    "### 2.2.2 Tuning for depth "
   ]
  },
  {
   "cell_type": "code",
   "execution_count": 136,
   "id": "1e0c1c4c",
   "metadata": {},
   "outputs": [],
   "source": [
    "max_depth = list(range(10,30))\n",
    "time_to_fit_depth = []\n",
    "accuracy_depth = []"
   ]
  },
  {
   "cell_type": "code",
   "execution_count": 137,
   "id": "b454af86",
   "metadata": {},
   "outputs": [],
   "source": [
    "for depth in max_depth:\n",
    "    start_time = time.perf_counter()\n",
    "    rf = RandomForestClassifier(random_state=0, oob_score = True, n_estimators = 300, \n",
    "                                max_depth = depth, n_jobs = -1).fit(X_train, y_train)\n",
    "    acc = single_model_multiple_query(rf, X_valid, y_valid, to_print = False)\n",
    "    end_time = time.perf_counter()\n",
    "    time_to_fit_depth.append(end_time - start_time)\n",
    "    accuracy_depth.append(acc)"
   ]
  },
  {
   "cell_type": "code",
   "execution_count": 173,
   "id": "0cc1481b",
   "metadata": {},
   "outputs": [
    {
     "data": {
      "image/png": "[encoded data removed]",
      "text/plain": [
       "<Figure size 864x576 with 1 Axes>"
      ]
     },
     "metadata": {
      "needs_background": "light"
     },
     "output_type": "display_data"
    }
   ],
   "source": [
    "index_depth = list(range(0,len(accuracy_depth)+1, 2))\n",
    "depth_list = list(range(10, 32, 2))\n",
    "plt.figure(figsize = (12,8))\n",
    "plt.plot(accuracy_depth)\n",
    "plt.title(\"Accuracy of model with respect to max depth of trees\")\n",
    "plt.xticks(index_depth, depth_list)\n",
    "plt.xlabel(\"Max depth of trees\")\n",
    "plt.ylabel(\"Accuracy\")\n",
    "plt.axvline(x=7, color='r', linestyle=':')\n",
    "plt.axvline(x=9, color='r', linestyle=':')\n",
    "plt.show()"
   ]
  },
  {
   "cell_type": "markdown",
   "id": "8f12decb",
   "metadata": {},
   "source": [
    "Based on the plot, we can see that having a depth of around 17 to 19 would be ideal. Hence we would take the highest possible value of 19."
   ]
  },
  {
   "cell_type": "markdown",
   "id": "a8207cd3",
   "metadata": {},
   "source": [
    "### 2.2.3 Confirming Tuned Parameters\n",
    "\n",
    "This is to test the performance of model with respect to the number of trees at the chosen depth. "
   ]
  },
  {
   "cell_type": "code",
   "execution_count": 174,
   "id": "f9c92b18",
   "metadata": {},
   "outputs": [],
   "source": [
    "num_trees = list(range(250, 350, 10))\n",
    "time_to_fit_num_trees_2 = []\n",
    "accuracy_num_trees_2 = []"
   ]
  },
  {
   "cell_type": "code",
   "execution_count": 175,
   "id": "cd7966b7",
   "metadata": {},
   "outputs": [],
   "source": [
    "for num in num_trees:\n",
    "    start_time = time.perf_counter()\n",
    "    rf = RandomForestClassifier(random_state=0, oob_score = False, n_estimators = num, \n",
    "                                max_depth = 19, n_jobs = -1).fit(X_train, y_train)\n",
    "    acc = single_model_multiple_query(rf, X_valid, y_valid, to_print = False)\n",
    "    end_time = time.perf_counter()\n",
    "    time_to_fit_num_trees_2.append(end_time - start_time)\n",
    "    accuracy_num_trees_2.append(acc)"
   ]
  },
  {
   "cell_type": "code",
   "execution_count": 235,
   "id": "18d5c0e2",
   "metadata": {},
   "outputs": [],
   "source": [
    "index_trees_2 = list(range(0,13,2))\n",
    "num_trees_2 = list(range(250, 371, 20))"
   ]
  },
  {
   "cell_type": "code",
   "execution_count": 236,
   "id": "e1bedda8",
   "metadata": {},
   "outputs": [
    {
     "data": {
      "text/plain": [
       "[0, 2, 4, 6, 8, 10, 12]"
      ]
     },
     "execution_count": 236,
     "metadata": {},
     "output_type": "execute_result"
    }
   ],
   "source": [
    "index_trees_2"
   ]
  },
  {
   "cell_type": "code",
   "execution_count": 237,
   "id": "83fe9717",
   "metadata": {},
   "outputs": [
    {
     "data": {
      "text/plain": [
       "[250, 270, 290, 310, 330, 350, 370]"
      ]
     },
     "execution_count": 237,
     "metadata": {},
     "output_type": "execute_result"
    }
   ],
   "source": [
    "num_trees_2"
   ]
  },
  {
   "cell_type": "code",
   "execution_count": 244,
   "id": "e4959d90",
   "metadata": {},
   "outputs": [
    {
     "data": {
      "image/png": "[encoded data removed]",
      "text/plain": [
       "<Figure size 864x576 with 1 Axes>"
      ]
     },
     "metadata": {
      "needs_background": "light"
     },
     "output_type": "display_data"
    }
   ],
   "source": [
    "index_trees_2 = list(range(0,11,2))\n",
    "num_trees_2 = list(range(250, 351, 20))\n",
    "plt.figure(figsize = (12,8))\n",
    "plt.plot(accuracy_num_trees_2)\n",
    "plt.title(\"Accuracy of model with respect to number of trees\")\n",
    "plt.xticks(index_trees_2, num_trees_2)\n",
    "plt.xlabel(\"Number of trees\")\n",
    "plt.ylabel(\"Accuracy\")\n",
    "plt.axhline(y=0.7882, color='r', linestyle=':')\n",
    "plt.axhline(y=0.7893, color='r', linestyle=':')\n",
    "plt.show()"
   ]
  },
  {
   "cell_type": "markdown",
   "id": "49ec627a",
   "metadata": {},
   "source": [
    "As with the initial values, the accuracy mainly lines within the 78% region. In fact, we can reduce the number of trees to 280 to increase the validation accuracy slightly. "
   ]
  },
  {
   "cell_type": "markdown",
   "id": "fab5d57d",
   "metadata": {},
   "source": [
    "## 2.4 Final Model\n",
    "\n",
    "With the tuning completed, we can combined the training and validation set to train with more data. Then we can test the accuracy on the test set. "
   ]
  },
  {
   "cell_type": "code",
   "execution_count": 247,
   "id": "5f5bd7f1",
   "metadata": {},
   "outputs": [],
   "source": [
    "X_train, X_test, y_train, y_test = get_numeric_data(validation_set=False)"
   ]
  },
  {
   "cell_type": "code",
   "execution_count": 248,
   "id": "d6047524",
   "metadata": {},
   "outputs": [
    {
     "name": "stdout",
     "output_type": "stream",
     "text": [
      "Time to train decision tree is 2.8885\n"
     ]
    }
   ],
   "source": [
    "start_time = time.perf_counter()\n",
    "full_rf = RandomForestClassifier(random_state=0, n_estimators = 280, max_depth = 19, n_jobs = -1).fit(X_train, y_train)\n",
    "end_time = time.perf_counter()\n",
    "print(f\"Time to train decision tree is {end_time - start_time:0.4f}\")"
   ]
  },
  {
   "cell_type": "code",
   "execution_count": 249,
   "id": "a454e358",
   "metadata": {},
   "outputs": [
    {
     "name": "stdout",
     "output_type": "stream",
     "text": [
      "The accuracy is: 0.7906836964688204\n",
      "The time taken to predict is 0.2541 seconds\n"
     ]
    }
   ],
   "source": [
    "_ = single_model_multiple_query(full_rf, X_test, y_test)"
   ]
  },
  {
   "cell_type": "code",
   "execution_count": 250,
   "id": "7ee345b6",
   "metadata": {},
   "outputs": [
    {
     "data": {
      "text/html": [
       "<div>\n",
       "<style scoped>\n",
       "    .dataframe tbody tr th:only-of-type {\n",
       "        vertical-align: middle;\n",
       "    }\n",
       "\n",
       "    .dataframe tbody tr th {\n",
       "        vertical-align: top;\n",
       "    }\n",
       "\n",
       "    .dataframe thead th {\n",
       "        text-align: right;\n",
       "    }\n",
       "</style>\n",
       "<table border=\"1\" class=\"dataframe\">\n",
       "  <thead>\n",
       "    <tr style=\"text-align: right;\">\n",
       "      <th>Actual</th>\n",
       "      <th>Heavy</th>\n",
       "      <th>Medium</th>\n",
       "      <th>Mild</th>\n",
       "      <th>None</th>\n",
       "      <th>Total</th>\n",
       "    </tr>\n",
       "    <tr>\n",
       "      <th>Predicted</th>\n",
       "      <th></th>\n",
       "      <th></th>\n",
       "      <th></th>\n",
       "      <th></th>\n",
       "      <th></th>\n",
       "    </tr>\n",
       "  </thead>\n",
       "  <tbody>\n",
       "    <tr>\n",
       "      <th>Heavy</th>\n",
       "      <td>434</td>\n",
       "      <td>241</td>\n",
       "      <td>17</td>\n",
       "      <td>69</td>\n",
       "      <td>761</td>\n",
       "    </tr>\n",
       "    <tr>\n",
       "      <th>Medium</th>\n",
       "      <td>395</td>\n",
       "      <td>1625</td>\n",
       "      <td>102</td>\n",
       "      <td>253</td>\n",
       "      <td>2375</td>\n",
       "    </tr>\n",
       "    <tr>\n",
       "      <th>Mild</th>\n",
       "      <td>22</td>\n",
       "      <td>67</td>\n",
       "      <td>213</td>\n",
       "      <td>76</td>\n",
       "      <td>378</td>\n",
       "    </tr>\n",
       "    <tr>\n",
       "      <th>None</th>\n",
       "      <td>251</td>\n",
       "      <td>850</td>\n",
       "      <td>443</td>\n",
       "      <td>8252</td>\n",
       "      <td>9796</td>\n",
       "    </tr>\n",
       "    <tr>\n",
       "      <th>Total</th>\n",
       "      <td>1102</td>\n",
       "      <td>2783</td>\n",
       "      <td>775</td>\n",
       "      <td>8650</td>\n",
       "      <td>13310</td>\n",
       "    </tr>\n",
       "  </tbody>\n",
       "</table>\n",
       "</div>"
      ],
      "text/plain": [
       "Actual     Heavy  Medium  Mild  None  Total\n",
       "Predicted                                  \n",
       "Heavy        434     241    17    69    761\n",
       "Medium       395    1625   102   253   2375\n",
       "Mild          22      67   213    76    378\n",
       "None         251     850   443  8252   9796\n",
       "Total       1102    2783   775  8650  13310"
      ]
     },
     "execution_count": 250,
     "metadata": {},
     "output_type": "execute_result"
    }
   ],
   "source": [
    "confusion_matrix(y_test, full_rf.predict(X_test))"
   ]
  },
  {
   "cell_type": "markdown",
   "id": "838bb303",
   "metadata": {},
   "source": [
    "The full model did very well, achieving an accuracy of about 79%. "
   ]
  },
  {
   "cell_type": "markdown",
   "id": "92e68d0e",
   "metadata": {},
   "source": [
    "## 2.5. Parallelism \n",
    "\n",
    "So here we can time the time taken to train depending on the number of jobs. For reference, the PC that is being used is a quad core with 8 logical processors. Hence the number of jobs can range from 1 to 8. "
   ]
  },
  {
   "cell_type": "code",
   "execution_count": 35,
   "id": "220c818b",
   "metadata": {},
   "outputs": [],
   "source": [
    "book = dict(zip(list(range(1,9)), [[] for i in range(8)]))\n",
    "num_trees = list(range(100, 1100, 100))"
   ]
  },
  {
   "cell_type": "code",
   "execution_count": 36,
   "id": "9ffa708b",
   "metadata": {},
   "outputs": [],
   "source": [
    "# for i in range(1,9):\n",
    "#     for x in num_trees:\n",
    "#         start_time = time.perf_counter()\n",
    "#         tree = RandomForestClassifier(random_state=0, oob_score = False, n_estimators = x, \n",
    "#                             max_depth = 19, n_jobs = i).fit(X, Y)\n",
    "#         end_time = time.perf_counter()\n",
    "#         book[i].append(end_time - start_time)"
   ]
  },
  {
   "cell_type": "code",
   "execution_count": 60,
   "id": "720ddbce",
   "metadata": {},
   "outputs": [],
   "source": [
    "rows = []\n",
    "for i in range(1,9):\n",
    "    for x in range(len(num_trees)):\n",
    "        rows.append((i,x,num_trees[x],book[i][x]))"
   ]
  },
  {
   "cell_type": "code",
   "execution_count": 61,
   "id": "0747be35",
   "metadata": {},
   "outputs": [],
   "source": [
    "timings = pd.DataFrame(rows, columns = [\"cores\", \"index\", \"num_trees\", \"time\"])"
   ]
  },
  {
   "cell_type": "code",
   "execution_count": 62,
   "id": "711bc211",
   "metadata": {},
   "outputs": [],
   "source": [
    "timings2 = timings.copy()\n",
    "timings2[\"log\"] = np.log(timings2.time)"
   ]
  },
  {
   "cell_type": "code",
   "execution_count": 64,
   "id": "154304f4",
   "metadata": {
    "scrolled": false
   },
   "outputs": [
    {
     "data": {
      "image/png": "[encoded data removed]",
      "text/plain": [
       "<Figure size 864x576 with 1 Axes>"
      ]
     },
     "metadata": {
      "needs_background": "light"
     },
     "output_type": "display_data"
    }
   ],
   "source": [
    "fig, ax = plt.subplots(figsize=(12,8))\n",
    "for label, df in timings2.groupby(\"cores\"):\n",
    "    df.plot(\"num_trees\", \"time\", ax=ax, label=label)\n",
    "plt.legend();"
   ]
  },
  {
   "cell_type": "markdown",
   "id": "4f6e9f85",
   "metadata": {},
   "source": [
    "Locally, we can see that increasing from 1 to 4 cores yield better training performances. This corresponds to the number of physical cores being used increasing. However, from cores 5 to 8, we do no see the same level of time improvement. This could possibly be due to the fact that each core is now \"acting as 2 cores\" (hyper threading where each physical core constitutes to 2 logical processors). Hence the improvements seen is not significant.  \n",
    "\n",
    "An interesting point to note is that the computation time linearly increases as the number of trees increase. This is good for scalability as we can linearly scale out more machines if the number of trees needed for the model increases. "
   ]
  },
  {
   "cell_type": "markdown",
   "id": "cf151650",
   "metadata": {},
   "source": [
    "# 3. Random Forest (Spark) \n",
    "\n",
    "In this section, we will repeat the above process but using spark. Here, we more interested in the time taken to train and the impact of parallelisation. "
   ]
  },
  {
   "cell_type": "code",
   "execution_count": null,
   "id": "d1684742",
   "metadata": {},
   "outputs": [],
   "source": []
  },
  {
   "cell_type": "code",
   "execution_count": null,
   "id": "0a6bcd95",
   "metadata": {},
   "outputs": [],
   "source": []
  },
  {
   "cell_type": "code",
   "execution_count": null,
   "id": "4fbcbb9e",
   "metadata": {},
   "outputs": [],
   "source": []
  },
  {
   "cell_type": "code",
   "execution_count": null,
   "id": "14fc5d2d",
   "metadata": {},
   "outputs": [],
   "source": []
  },
  {
   "cell_type": "code",
   "execution_count": null,
   "id": "96c73b82",
   "metadata": {},
   "outputs": [],
   "source": []
  },
  {
   "cell_type": "code",
   "execution_count": 2,
   "id": "6fbb541e",
   "metadata": {},
   "outputs": [],
   "source": []
  },
  {
   "cell_type": "code",
   "execution_count": null,
   "id": "e176fe0e",
   "metadata": {},
   "outputs": [],
   "source": []
  },
  {
   "cell_type": "code",
   "execution_count": null,
   "id": "db5cec68",
   "metadata": {},
   "outputs": [],
   "source": []
  }
 ],
 "metadata": {
  "kernelspec": {
   "display_name": "Python 3 (ipykernel)",
   "language": "python",
   "name": "python3"
  },
  "language_info": {
   "codemirror_mode": {
    "name": "ipython",
    "version": 3
   },
   "file_extension": ".py",
   "mimetype": "text/x-python",
   "name": "python",
   "nbconvert_exporter": "python",
   "pygments_lexer": "ipython3",
   "version": "3.8.5"
  }
 },
 "nbformat": 4,
 "nbformat_minor": 5
}
